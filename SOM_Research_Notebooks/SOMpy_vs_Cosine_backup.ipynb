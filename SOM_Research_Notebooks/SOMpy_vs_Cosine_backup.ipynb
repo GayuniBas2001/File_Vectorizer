{
  "cells": [
    {
      "cell_type": "markdown",
      "metadata": {
        "id": "HEc_lU-Bk0td"
      },
      "source": [
        "## Instructions :\n",
        "\n",
        "* Add a document to the Colab runtime files to chunk and rename it as ICT.pdf or change the code to match the relevant file path.\n",
        "* The clustering of chunks were performed using the Best Matching Unit of the prompt and chunks within the matched BMU. Other clustering steps were performed only for experimenting."
      ]
    },
    {
      "cell_type": "code",
      "execution_count": null,
      "metadata": {
        "collapsed": true,
        "id": "GmuTcnWUipLe",
        "colab": {
          "base_uri": "https://localhost:8080/"
        },
        "outputId": "98b4d63f-5850-416e-c265-14272134b475"
      },
      "outputs": [
        {
          "output_type": "stream",
          "name": "stdout",
          "text": [
            "Requirement already satisfied: python-docx in /usr/local/lib/python3.11/dist-packages (1.1.2)\n",
            "Requirement already satisfied: PyMuPDF in /usr/local/lib/python3.11/dist-packages (1.25.5)\n",
            "Requirement already satisfied: pandas in /usr/local/lib/python3.11/dist-packages (2.2.2)\n",
            "Requirement already satisfied: tiktoken in /usr/local/lib/python3.11/dist-packages (0.9.0)\n",
            "Requirement already satisfied: sentence-transformers in /usr/local/lib/python3.11/dist-packages (4.1.0)\n",
            "Requirement already satisfied: langchain in /usr/local/lib/python3.11/dist-packages (0.3.25)\n",
            "Requirement already satisfied: lxml>=3.1.0 in /usr/local/lib/python3.11/dist-packages (from python-docx) (5.4.0)\n",
            "Requirement already satisfied: typing-extensions>=4.9.0 in /usr/local/lib/python3.11/dist-packages (from python-docx) (4.13.2)\n",
            "Requirement already satisfied: numpy>=1.23.2 in /usr/local/lib/python3.11/dist-packages (from pandas) (2.0.2)\n",
            "Requirement already satisfied: python-dateutil>=2.8.2 in /usr/local/lib/python3.11/dist-packages (from pandas) (2.9.0.post0)\n",
            "Requirement already satisfied: pytz>=2020.1 in /usr/local/lib/python3.11/dist-packages (from pandas) (2025.2)\n",
            "Requirement already satisfied: tzdata>=2022.7 in /usr/local/lib/python3.11/dist-packages (from pandas) (2025.2)\n",
            "Requirement already satisfied: regex>=2022.1.18 in /usr/local/lib/python3.11/dist-packages (from tiktoken) (2024.11.6)\n",
            "Requirement already satisfied: requests>=2.26.0 in /usr/local/lib/python3.11/dist-packages (from tiktoken) (2.32.3)\n",
            "Requirement already satisfied: transformers<5.0.0,>=4.41.0 in /usr/local/lib/python3.11/dist-packages (from sentence-transformers) (4.51.3)\n",
            "Requirement already satisfied: tqdm in /usr/local/lib/python3.11/dist-packages (from sentence-transformers) (4.67.1)\n",
            "Requirement already satisfied: torch>=1.11.0 in /usr/local/lib/python3.11/dist-packages (from sentence-transformers) (2.6.0+cu124)\n",
            "Requirement already satisfied: scikit-learn in /usr/local/lib/python3.11/dist-packages (from sentence-transformers) (1.6.1)\n",
            "Requirement already satisfied: scipy in /usr/local/lib/python3.11/dist-packages (from sentence-transformers) (1.15.3)\n",
            "Requirement already satisfied: huggingface-hub>=0.20.0 in /usr/local/lib/python3.11/dist-packages (from sentence-transformers) (0.31.2)\n",
            "Requirement already satisfied: Pillow in /usr/local/lib/python3.11/dist-packages (from sentence-transformers) (11.2.1)\n",
            "Requirement already satisfied: langchain-core<1.0.0,>=0.3.58 in /usr/local/lib/python3.11/dist-packages (from langchain) (0.3.59)\n",
            "Requirement already satisfied: langchain-text-splitters<1.0.0,>=0.3.8 in /usr/local/lib/python3.11/dist-packages (from langchain) (0.3.8)\n",
            "Requirement already satisfied: langsmith<0.4,>=0.1.17 in /usr/local/lib/python3.11/dist-packages (from langchain) (0.3.42)\n",
            "Requirement already satisfied: pydantic<3.0.0,>=2.7.4 in /usr/local/lib/python3.11/dist-packages (from langchain) (2.11.4)\n",
            "Requirement already satisfied: SQLAlchemy<3,>=1.4 in /usr/local/lib/python3.11/dist-packages (from langchain) (2.0.40)\n",
            "Requirement already satisfied: PyYAML>=5.3 in /usr/local/lib/python3.11/dist-packages (from langchain) (6.0.2)\n",
            "Requirement already satisfied: filelock in /usr/local/lib/python3.11/dist-packages (from huggingface-hub>=0.20.0->sentence-transformers) (3.18.0)\n",
            "Requirement already satisfied: fsspec>=2023.5.0 in /usr/local/lib/python3.11/dist-packages (from huggingface-hub>=0.20.0->sentence-transformers) (2025.3.2)\n",
            "Requirement already satisfied: packaging>=20.9 in /usr/local/lib/python3.11/dist-packages (from huggingface-hub>=0.20.0->sentence-transformers) (24.2)\n",
            "Requirement already satisfied: tenacity!=8.4.0,<10.0.0,>=8.1.0 in /usr/local/lib/python3.11/dist-packages (from langchain-core<1.0.0,>=0.3.58->langchain) (9.1.2)\n",
            "Requirement already satisfied: jsonpatch<2.0,>=1.33 in /usr/local/lib/python3.11/dist-packages (from langchain-core<1.0.0,>=0.3.58->langchain) (1.33)\n",
            "Requirement already satisfied: httpx<1,>=0.23.0 in /usr/local/lib/python3.11/dist-packages (from langsmith<0.4,>=0.1.17->langchain) (0.28.1)\n",
            "Requirement already satisfied: orjson<4.0.0,>=3.9.14 in /usr/local/lib/python3.11/dist-packages (from langsmith<0.4,>=0.1.17->langchain) (3.10.18)\n",
            "Requirement already satisfied: requests-toolbelt<2.0.0,>=1.0.0 in /usr/local/lib/python3.11/dist-packages (from langsmith<0.4,>=0.1.17->langchain) (1.0.0)\n",
            "Requirement already satisfied: zstandard<0.24.0,>=0.23.0 in /usr/local/lib/python3.11/dist-packages (from langsmith<0.4,>=0.1.17->langchain) (0.23.0)\n",
            "Requirement already satisfied: annotated-types>=0.6.0 in /usr/local/lib/python3.11/dist-packages (from pydantic<3.0.0,>=2.7.4->langchain) (0.7.0)\n",
            "Requirement already satisfied: pydantic-core==2.33.2 in /usr/local/lib/python3.11/dist-packages (from pydantic<3.0.0,>=2.7.4->langchain) (2.33.2)\n",
            "Requirement already satisfied: typing-inspection>=0.4.0 in /usr/local/lib/python3.11/dist-packages (from pydantic<3.0.0,>=2.7.4->langchain) (0.4.0)\n",
            "Requirement already satisfied: six>=1.5 in /usr/local/lib/python3.11/dist-packages (from python-dateutil>=2.8.2->pandas) (1.17.0)\n",
            "Requirement already satisfied: charset-normalizer<4,>=2 in /usr/local/lib/python3.11/dist-packages (from requests>=2.26.0->tiktoken) (3.4.2)\n",
            "Requirement already satisfied: idna<4,>=2.5 in /usr/local/lib/python3.11/dist-packages (from requests>=2.26.0->tiktoken) (3.10)\n",
            "Requirement already satisfied: urllib3<3,>=1.21.1 in /usr/local/lib/python3.11/dist-packages (from requests>=2.26.0->tiktoken) (2.4.0)\n",
            "Requirement already satisfied: certifi>=2017.4.17 in /usr/local/lib/python3.11/dist-packages (from requests>=2.26.0->tiktoken) (2025.4.26)\n",
            "Requirement already satisfied: greenlet>=1 in /usr/local/lib/python3.11/dist-packages (from SQLAlchemy<3,>=1.4->langchain) (3.2.2)\n",
            "Requirement already satisfied: networkx in /usr/local/lib/python3.11/dist-packages (from torch>=1.11.0->sentence-transformers) (3.4.2)\n",
            "Requirement already satisfied: jinja2 in /usr/local/lib/python3.11/dist-packages (from torch>=1.11.0->sentence-transformers) (3.1.6)\n",
            "Requirement already satisfied: nvidia-cuda-nvrtc-cu12==12.4.127 in /usr/local/lib/python3.11/dist-packages (from torch>=1.11.0->sentence-transformers) (12.4.127)\n",
            "Requirement already satisfied: nvidia-cuda-runtime-cu12==12.4.127 in /usr/local/lib/python3.11/dist-packages (from torch>=1.11.0->sentence-transformers) (12.4.127)\n",
            "Requirement already satisfied: nvidia-cuda-cupti-cu12==12.4.127 in /usr/local/lib/python3.11/dist-packages (from torch>=1.11.0->sentence-transformers) (12.4.127)\n",
            "Requirement already satisfied: nvidia-cudnn-cu12==9.1.0.70 in /usr/local/lib/python3.11/dist-packages (from torch>=1.11.0->sentence-transformers) (9.1.0.70)\n",
            "Requirement already satisfied: nvidia-cublas-cu12==12.4.5.8 in /usr/local/lib/python3.11/dist-packages (from torch>=1.11.0->sentence-transformers) (12.4.5.8)\n",
            "Requirement already satisfied: nvidia-cufft-cu12==11.2.1.3 in /usr/local/lib/python3.11/dist-packages (from torch>=1.11.0->sentence-transformers) (11.2.1.3)\n",
            "Requirement already satisfied: nvidia-curand-cu12==10.3.5.147 in /usr/local/lib/python3.11/dist-packages (from torch>=1.11.0->sentence-transformers) (10.3.5.147)\n",
            "Requirement already satisfied: nvidia-cusolver-cu12==11.6.1.9 in /usr/local/lib/python3.11/dist-packages (from torch>=1.11.0->sentence-transformers) (11.6.1.9)\n",
            "Requirement already satisfied: nvidia-cusparse-cu12==12.3.1.170 in /usr/local/lib/python3.11/dist-packages (from torch>=1.11.0->sentence-transformers) (12.3.1.170)\n",
            "Requirement already satisfied: nvidia-cusparselt-cu12==0.6.2 in /usr/local/lib/python3.11/dist-packages (from torch>=1.11.0->sentence-transformers) (0.6.2)\n",
            "Requirement already satisfied: nvidia-nccl-cu12==2.21.5 in /usr/local/lib/python3.11/dist-packages (from torch>=1.11.0->sentence-transformers) (2.21.5)\n",
            "Requirement already satisfied: nvidia-nvtx-cu12==12.4.127 in /usr/local/lib/python3.11/dist-packages (from torch>=1.11.0->sentence-transformers) (12.4.127)\n",
            "Requirement already satisfied: nvidia-nvjitlink-cu12==12.4.127 in /usr/local/lib/python3.11/dist-packages (from torch>=1.11.0->sentence-transformers) (12.4.127)\n",
            "Requirement already satisfied: triton==3.2.0 in /usr/local/lib/python3.11/dist-packages (from torch>=1.11.0->sentence-transformers) (3.2.0)\n",
            "Requirement already satisfied: sympy==1.13.1 in /usr/local/lib/python3.11/dist-packages (from torch>=1.11.0->sentence-transformers) (1.13.1)\n",
            "Requirement already satisfied: mpmath<1.4,>=1.1.0 in /usr/local/lib/python3.11/dist-packages (from sympy==1.13.1->torch>=1.11.0->sentence-transformers) (1.3.0)\n",
            "Requirement already satisfied: tokenizers<0.22,>=0.21 in /usr/local/lib/python3.11/dist-packages (from transformers<5.0.0,>=4.41.0->sentence-transformers) (0.21.1)\n",
            "Requirement already satisfied: safetensors>=0.4.3 in /usr/local/lib/python3.11/dist-packages (from transformers<5.0.0,>=4.41.0->sentence-transformers) (0.5.3)\n",
            "Requirement already satisfied: joblib>=1.2.0 in /usr/local/lib/python3.11/dist-packages (from scikit-learn->sentence-transformers) (1.5.0)\n",
            "Requirement already satisfied: threadpoolctl>=3.1.0 in /usr/local/lib/python3.11/dist-packages (from scikit-learn->sentence-transformers) (3.6.0)\n",
            "Requirement already satisfied: anyio in /usr/local/lib/python3.11/dist-packages (from httpx<1,>=0.23.0->langsmith<0.4,>=0.1.17->langchain) (4.9.0)\n",
            "Requirement already satisfied: httpcore==1.* in /usr/local/lib/python3.11/dist-packages (from httpx<1,>=0.23.0->langsmith<0.4,>=0.1.17->langchain) (1.0.9)\n",
            "Requirement already satisfied: h11>=0.16 in /usr/local/lib/python3.11/dist-packages (from httpcore==1.*->httpx<1,>=0.23.0->langsmith<0.4,>=0.1.17->langchain) (0.16.0)\n",
            "Requirement already satisfied: jsonpointer>=1.9 in /usr/local/lib/python3.11/dist-packages (from jsonpatch<2.0,>=1.33->langchain-core<1.0.0,>=0.3.58->langchain) (3.0.0)\n",
            "Requirement already satisfied: MarkupSafe>=2.0 in /usr/local/lib/python3.11/dist-packages (from jinja2->torch>=1.11.0->sentence-transformers) (3.0.2)\n",
            "Requirement already satisfied: sniffio>=1.1 in /usr/local/lib/python3.11/dist-packages (from anyio->httpx<1,>=0.23.0->langsmith<0.4,>=0.1.17->langchain) (1.3.1)\n"
          ]
        }
      ],
      "source": [
        "!pip install python-docx PyMuPDF pandas tiktoken sentence-transformers langchain"
      ]
    },
    {
      "cell_type": "code",
      "execution_count": null,
      "metadata": {
        "id": "WUqWdwABiYlA"
      },
      "outputs": [],
      "source": [
        "import os\n",
        "import io\n",
        "import re\n",
        "import base64\n",
        "import logging\n",
        "import fitz\n",
        "import docx\n",
        "import tiktoken\n",
        "from sentence_transformers import SentenceTransformer\n",
        "from langchain.text_splitter import RecursiveCharacterTextSplitter\n",
        "import numpy as np"
      ]
    },
    {
      "cell_type": "markdown",
      "metadata": {
        "id": "PwUZVYgYzE47"
      },
      "source": [
        "# Vectorizer"
      ]
    },
    {
      "cell_type": "code",
      "execution_count": null,
      "metadata": {
        "id": "bpQnwZgiiZDV"
      },
      "outputs": [],
      "source": [
        "logging.basicConfig(level=logging.INFO)\n",
        "logger = logging.getLogger(__name__)"
      ]
    },
    {
      "cell_type": "code",
      "execution_count": null,
      "metadata": {
        "colab": {
          "base_uri": "https://localhost:8080/",
          "height": 528,
          "referenced_widgets": [
            "6d694581295f463fa40077e2148ce8c3",
            "4e27b45473bd474d8b0ee3fb7a65bb9f",
            "b9b1565d64ba44e68869979b65cbab5a",
            "a10e6bce58674fd6baf5325a3647510a",
            "cd95bab16c7346fbbde788aec6da5b17",
            "2bcd3dc6d8cd4e91b037df3cc7957115",
            "c7d9202555b043ef935aa6b7997ed11d",
            "054292b3a514464d81b12edf20652989",
            "e078e126dfd64583ae3c0a3e3b4c054a",
            "433f97c08ccc40af9a7a3d0c934df829",
            "d2f30a6b64c546d7b648e07c45610996",
            "0ff44b3f5b6b436fad425f0f42d9a9ca",
            "fa1343d1bf6f43a5890d6b735a418b8c",
            "503f03d93d3f4acc9d8f3cc27765f8f4",
            "24353253fcda4d1ba836fbc18aced804",
            "673dbc970eb94842a0cec725bec996c6",
            "ef0d5a079b4544ef9cb1f53a450febb7",
            "833714efeb84442eb768d324edee4df8",
            "bde98751188d4d37b7f1cb6b1d0bdc6b",
            "6f93f9563820432bab5e29313eb55e57",
            "931d1f9af106423a8090e06d87f426be",
            "5da5182d295544a3bc06476a37db7099",
            "a240c84daea745e28e427484eb9aed1e",
            "56bed6dd27a841f69b21ea06842054e8",
            "ef07f7bb366c462f95bf1ec583a91659",
            "b67b9da21fe942a7a546a38cecbc5e93",
            "4d06d55fc265442fb7722b2a83f30d6a",
            "fe9b7cc4470e47f58752338b2371c022",
            "3ae35afc804c49a4bc9b1e3dfa42b964",
            "9f4dd05a438e4dfe8e542191b8d24502",
            "436874df862947c99a18d0fd52dce842",
            "d48e82f329d24258a0605823b05e1374",
            "c16fa29fddec44c9bf57f094286ec7a7",
            "de629dd1c2d54f7e9013b77194df442d",
            "3c6917fd505846e499cca30088198120",
            "d15aa5c169634b63ad1774d18bbbfc79",
            "645b6c88c55e45cf9eb1ebfd030ab264",
            "96cab1ee32e540e6bf48e95e62fa849f",
            "024ab4ef0f2e4f4b8a90a4d769f0d2f1",
            "ef4d600914c04dad9e1377d55eca4dc2",
            "3d67b3e6446945928ce9a7f50d0c874b",
            "b23e7339780d4ae6babacd4ded8fb2d2",
            "daddf709dda4451a8afb7a1288dd8a62",
            "407be57c73d2484a8ad2c6e667637806",
            "265b28cc315943068ce5cc27cb78adfe",
            "f86ada87d714426eb1a61ce50cb3db9f",
            "83ebceaa7a724ff3ad7fa5da8a92def6",
            "fcf04442c6b1445c8fae63522eb463cf",
            "7ab3cab82e434b329d3977c0f586c088",
            "491165befcf24c62852200275e66f7a7",
            "c42a404a55674b05a2506830d68c320d",
            "b002e6e820e744cba88a09012df20a62",
            "9855cd85256b4cf8a6bce4ffc02852b5",
            "377e69537b9a4503a1cda8cea3ac9f17",
            "e696c4ce620a4b0ab6daa66d05742d53",
            "8aeb92cc6dd344449a539eb22126d727",
            "19bc3536cde94fa1b083e77850f333cf",
            "aadbdaae2d0444cc84e35ae46bae61ce",
            "63fb02d76dd744c4a830481031ed63ec",
            "9670d2df20b24895a76db50e1988deac",
            "ac082d41a6784a239b23d5240fdb037f",
            "7f344f11ee8642f8a8a5ac714428d73f",
            "7db8f90cf85a4c8f9e05865ef9326fbb",
            "92701a131d9d45a48b4a556ec104d09d",
            "efab6eb2a474443db409a2c61676297d",
            "58d89bc9c75242998914ee1ecb68a0c8",
            "fdb6359ea3ab4895b4532c148a37a5bc",
            "3c043e54f97b4694ab79c1bb584eaf8e",
            "a675ab38158a409190376549d55cc2f4",
            "158804cd2608496faf51b85038f02145",
            "2f16d254e67f449c876a4b835752a01e",
            "772efcad779b4794afc043dfa064fb34",
            "93a96a018c14432dafaebf8291562cce",
            "d0eea89fcd834987979d62a553c2de33",
            "e413d7b5a3064a78b529a5780d4a9b6e",
            "a919c73a92004743bd61da73d03f0cb9",
            "52a4bf15aed743daa39249f98ba215ee",
            "f6bc8e0643ab4f298cb101cb361f8d09",
            "6ce656afbb2c49bbb6321e686fc169a0",
            "18f930f5c3b7455fa7eff971cdf88003",
            "b19d47f5671f471bba72d1cbc4dfa7b2",
            "4e6aa89c1ba741f5a4c7c3050264c713",
            "f950b75da70d4a689cf602e1be2830fb",
            "46ba47d66d404df6b871804cb70e590c",
            "b0e040148ab641ffa65942b0d509e9d2",
            "1ef88e4cce0d4489bfa2c0c886560559",
            "4aff34b3d17e4bffb6d926e2b96207d7",
            "4f841c8e8c16479495bb70ecc4ea5ab9",
            "8ee132f432a940de83ce7551c1d3261e",
            "ccf4745c2c704528b5301b20e41c2209",
            "ddc12a67618c4d41b983198911085708",
            "4c74d8f852fc4d1296e6a855ed77b361",
            "a8bbc44b5c304c73817a46f4ace08ccb",
            "2707ea1c7a2348a381ed69a9983128fe",
            "4fd650a00d294025897480434f2ded51",
            "3e84023b71c1420183bdbe6c25f32702",
            "7ce39d058ad74083bb46fc9ad01e4979",
            "9de9e0ce5a6d42cc8486ebd3f62e3710",
            "bafc584f3f6d4608852e8066071b4aa1",
            "0e10d8ccb73145c4a96759e9fe4879fe",
            "a3876f233db54ebdbca3fe5b0172c2b9",
            "1d7ceb1ab0554196a730ec3b1a85ae7d",
            "be238eae475a461d88e88ff5a162d8ac",
            "ef4b9afe8d8d425fb5abd5f3f2f01c2f",
            "9a8d514678494fb7abd65299e6d4d854",
            "9d1bfd418df54ddbb353f01fc402b9cb",
            "0506baa446e84565a730932b020f01cb",
            "041e15947b124934b15b0cb0835b1bad",
            "414aba3040dd473bb506598c2017b5bb",
            "fea2520a490c4e78abc48d55dacc4ffb",
            "8aa610859c8c4505ad0451af8af5f8cc",
            "7bac213c95d7467d9fc7056915fe185b",
            "357d0ab78da647b9b5ed32e04fb3b9b7",
            "7be7135b38b3493d9ee9d48ceea439a5",
            "2ffa686724124302855bd47b2132cfd3",
            "dacc42cbc36b448fa012269a8b3fbac0",
            "9efba0a6ce024c5893d2f41349ac9cf9",
            "02da9e85dd7842048814d1401790f6ac",
            "5f1a13e1fe6d46679b75c3863e927880",
            "f945c4539bec4850a249b746d314e554",
            "efb85f170acd4946b86e4890fd73c891"
          ]
        },
        "collapsed": true,
        "id": "PuKcKLC_iZMF",
        "outputId": "b50ea2a1-87c4-4a76-bb81-a74c88bd1671"
      },
      "outputs": [
        {
          "output_type": "stream",
          "name": "stderr",
          "text": [
            "/usr/local/lib/python3.11/dist-packages/huggingface_hub/utils/_auth.py:94: UserWarning: \n",
            "The secret `HF_TOKEN` does not exist in your Colab secrets.\n",
            "To authenticate with the Hugging Face Hub, create a token in your settings tab (https://huggingface.co/settings/tokens), set it as secret in your Google Colab and restart your session.\n",
            "You will be able to reuse this secret in all of your notebooks.\n",
            "Please note that authentication is recommended but still optional to access public models or datasets.\n",
            "  warnings.warn(\n"
          ]
        },
        {
          "output_type": "display_data",
          "data": {
            "text/plain": [
              "modules.json:   0%|          | 0.00/349 [00:00<?, ?B/s]"
            ],
            "application/vnd.jupyter.widget-view+json": {
              "version_major": 2,
              "version_minor": 0,
              "model_id": "6d694581295f463fa40077e2148ce8c3"
            }
          },
          "metadata": {}
        },
        {
          "output_type": "display_data",
          "data": {
            "text/plain": [
              "config_sentence_transformers.json:   0%|          | 0.00/116 [00:00<?, ?B/s]"
            ],
            "application/vnd.jupyter.widget-view+json": {
              "version_major": 2,
              "version_minor": 0,
              "model_id": "0ff44b3f5b6b436fad425f0f42d9a9ca"
            }
          },
          "metadata": {}
        },
        {
          "output_type": "display_data",
          "data": {
            "text/plain": [
              "README.md:   0%|          | 0.00/10.5k [00:00<?, ?B/s]"
            ],
            "application/vnd.jupyter.widget-view+json": {
              "version_major": 2,
              "version_minor": 0,
              "model_id": "a240c84daea745e28e427484eb9aed1e"
            }
          },
          "metadata": {}
        },
        {
          "output_type": "display_data",
          "data": {
            "text/plain": [
              "sentence_bert_config.json:   0%|          | 0.00/53.0 [00:00<?, ?B/s]"
            ],
            "application/vnd.jupyter.widget-view+json": {
              "version_major": 2,
              "version_minor": 0,
              "model_id": "de629dd1c2d54f7e9013b77194df442d"
            }
          },
          "metadata": {}
        },
        {
          "output_type": "display_data",
          "data": {
            "text/plain": [
              "config.json:   0%|          | 0.00/612 [00:00<?, ?B/s]"
            ],
            "application/vnd.jupyter.widget-view+json": {
              "version_major": 2,
              "version_minor": 0,
              "model_id": "265b28cc315943068ce5cc27cb78adfe"
            }
          },
          "metadata": {}
        },
        {
          "output_type": "stream",
          "name": "stderr",
          "text": [
            "Xet Storage is enabled for this repo, but the 'hf_xet' package is not installed. Falling back to regular HTTP download. For better performance, install the package with: `pip install huggingface_hub[hf_xet]` or `pip install hf_xet`\n",
            "WARNING:huggingface_hub.file_download:Xet Storage is enabled for this repo, but the 'hf_xet' package is not installed. Falling back to regular HTTP download. For better performance, install the package with: `pip install huggingface_hub[hf_xet]` or `pip install hf_xet`\n"
          ]
        },
        {
          "output_type": "display_data",
          "data": {
            "text/plain": [
              "model.safetensors:   0%|          | 0.00/90.9M [00:00<?, ?B/s]"
            ],
            "application/vnd.jupyter.widget-view+json": {
              "version_major": 2,
              "version_minor": 0,
              "model_id": "8aeb92cc6dd344449a539eb22126d727"
            }
          },
          "metadata": {}
        },
        {
          "output_type": "display_data",
          "data": {
            "text/plain": [
              "tokenizer_config.json:   0%|          | 0.00/350 [00:00<?, ?B/s]"
            ],
            "application/vnd.jupyter.widget-view+json": {
              "version_major": 2,
              "version_minor": 0,
              "model_id": "fdb6359ea3ab4895b4532c148a37a5bc"
            }
          },
          "metadata": {}
        },
        {
          "output_type": "display_data",
          "data": {
            "text/plain": [
              "vocab.txt:   0%|          | 0.00/232k [00:00<?, ?B/s]"
            ],
            "application/vnd.jupyter.widget-view+json": {
              "version_major": 2,
              "version_minor": 0,
              "model_id": "f6bc8e0643ab4f298cb101cb361f8d09"
            }
          },
          "metadata": {}
        },
        {
          "output_type": "display_data",
          "data": {
            "text/plain": [
              "tokenizer.json:   0%|          | 0.00/466k [00:00<?, ?B/s]"
            ],
            "application/vnd.jupyter.widget-view+json": {
              "version_major": 2,
              "version_minor": 0,
              "model_id": "8ee132f432a940de83ce7551c1d3261e"
            }
          },
          "metadata": {}
        },
        {
          "output_type": "display_data",
          "data": {
            "text/plain": [
              "special_tokens_map.json:   0%|          | 0.00/112 [00:00<?, ?B/s]"
            ],
            "application/vnd.jupyter.widget-view+json": {
              "version_major": 2,
              "version_minor": 0,
              "model_id": "0e10d8ccb73145c4a96759e9fe4879fe"
            }
          },
          "metadata": {}
        },
        {
          "output_type": "display_data",
          "data": {
            "text/plain": [
              "config.json:   0%|          | 0.00/190 [00:00<?, ?B/s]"
            ],
            "application/vnd.jupyter.widget-view+json": {
              "version_major": 2,
              "version_minor": 0,
              "model_id": "8aa610859c8c4505ad0451af8af5f8cc"
            }
          },
          "metadata": {}
        }
      ],
      "source": [
        "model = SentenceTransformer('sentence-transformers/all-MiniLM-L6-v2')"
      ]
    },
    {
      "cell_type": "code",
      "execution_count": null,
      "metadata": {
        "id": "JGH_5CjXiZO5"
      },
      "outputs": [],
      "source": [
        "def clean_text(text):\n",
        "    text = re.sub(r'\\s+', ' ', text)\n",
        "    text = re.sub(r'[^\\w\\s]', '', text)\n",
        "    return text.strip()\n",
        "\n",
        "def read_pdf(pdf_b64):\n",
        "    try:\n",
        "        pdf_bytes = base64.b64decode(pdf_b64)\n",
        "        stream = io.BytesIO(pdf_bytes)\n",
        "        doc = fitz.open(stream=stream)\n",
        "        return \"\\n\".join([page.get_text(\"text\") for page in doc])\n",
        "    except Exception as e:\n",
        "        logger.error(f\"PDF read error: {e}\")\n",
        "        return \"\"\n",
        "\n",
        "def chunk_text(text, max_tokens=384, overlap=50):\n",
        "    splitter = RecursiveCharacterTextSplitter(\n",
        "        chunk_size=max_tokens,\n",
        "        chunk_overlap=overlap,\n",
        "        separators=[\"\\n\\n\", \"\\n\", \" \"],\n",
        "        length_function=lambda txt: len(tiktoken.get_encoding(\"cl100k_base\").encode(txt))\n",
        "    )\n",
        "    return splitter.split_text(text)\n",
        "\n",
        "def embed_text_chunks(chunks):\n",
        "    return model.encode(chunks)\n",
        "\n",
        "def create_embeddings(pdf_file):\n",
        "    with open(pdf_file, \"rb\") as f:\n",
        "        b64_content = base64.b64encode(f.read()).decode('utf-8')\n",
        "    raw_text = read_pdf(b64_content)\n",
        "    cleaned = clean_text(raw_text)\n",
        "    chunks = chunk_text(cleaned)\n",
        "    embeddings = embed_text_chunks(chunks)\n",
        "    print(\"Embeddings shape:\", embeddings.shape)\n",
        "    return chunks,embeddings"
      ]
    },
    {
      "cell_type": "code",
      "execution_count": null,
      "metadata": {
        "colab": {
          "base_uri": "https://localhost:8080/"
        },
        "id": "VOxV1tPqx7k-",
        "outputId": "67106c68-6f59-4458-ec6f-41fd7cc93c86"
      },
      "outputs": [
        {
          "output_type": "stream",
          "name": "stdout",
          "text": [
            "Embeddings shape: (155, 384)\n"
          ]
        }
      ],
      "source": [
        "chunks,embeddings=create_embeddings(\"ICT.pdf\")"
      ]
    },
    {
      "cell_type": "code",
      "execution_count": null,
      "metadata": {
        "colab": {
          "base_uri": "https://localhost:8080/"
        },
        "id": "UvvN0eNdzj8O",
        "outputId": "8b933c35-d2a4-4198-d536-175c4cba3960"
      },
      "outputs": [
        {
          "output_type": "execute_result",
          "data": {
            "text/plain": [
              "['Information and Communication Technology Teachers Guide Grade 12 Effective from 2017 Department of Information Technology National Institute of Education Maharagama Sri Lanka wwwnielk Information and Communication Technology Grade 12  Teachers Guide  National Institute of Education First print 2017 ISBN Department of Information Technology Faculty of Science and Technology National Institute of Education Maharagama wwwnielk Printed by i CONTENTS Page No 10 Message from the Director General ii 20 Message from the Deputy Director General iii 30 Curriculum Committee ivv 40 Introduction vi 50 Common National Goals vii 60 Basic Competencies viiix 70 Objectives of the Subject xi 80 Proposed number of periods for each units xii 90 Syllabus 1  27 100 Learning Teaching process 28 191 110 School Policies and Programs 192 120 Assessment and Evaluation 193 ii Message from the Director General With the primary objective of realizing the National Educational Goals recommended by the National Education Commission the then prevalent content based curriculum was modernized and the first phase of the new competency based curriculum was introduced to the eight year curriculum cycle of the primary and secondary education in Sri Lanka in the year 2007 The second phase of the curriculum cycle thus initiated was introduced to the education system in the year 2015 as a result of a curriculum rationalization process based on research findings and various proposals made by stake holders Within this rationalization process the concepts of vertical and horizontal integration have been employed in order to build up competencies of students from foundation level to higher levels and to avoid repetition of subject content in various subjects respectively and furthermore to develop a curriculum that is implementable and student friendly The new Teachers Guides have been introduced with the aim of providing the teachers with necessary guidance for planning lessons engaging students effectively in the learning teaching process and to make Teachers Guides will help teachers to be more effective within the classroom Further the present Teachers Guides have given the',\n",
              " 'new Teachers Guides have been introduced with the aim of providing the teachers with necessary guidance for planning lessons engaging students effectively in the learning teaching process and to make Teachers Guides will help teachers to be more effective within the classroom Further the present Teachers Guides have given the necessary freedom for the teachers to select quality inputs and activities in order to improve student competencies Since the Teachers Guides do not place greater emphasis on the subject content prescribed for the relevant grades it is very much necessary to use these guides along with the text books compiled by the Educational Publications Department if Guides are to be made more effective The primary objective of this rationalized new curriculum the new Teachers Guides and the new prescribed texts is to transform the student population into a human resource replete with the skills and competencies required for the world of work through embarking upon a pattern of education which is more student centered and activity based I wish to make use of this opportunity to thank and express my appreciation to the members of the Council and the Academic Affairs Board of the NIE the resource persons who contributed to the compiling of these Teachers Guides and other parties for their dedication in this matter Dr Mrs Jayanthi Gunasekara Director General National Institute of Education iii Message from the Deputy Director General Education from the past has been constantly changing and forging forward In recent years these changes have become quite rapid The Past two decades have witnessed a high surge in teaching methodologies as well as in the use of technological tools and in the field of knowledge creation Accordingly the National Institute of Education is in the process of taking appropriate and timely steps with regard to the education reforms of 2015 It is with immense pleasure that this Teachers Guide where the new curriculum has been planned based on a thorough study of the changes that have taken place in the global context adopted in terms of local needs based on a studentcentered learningteaching approach is presented to you teachers who serve as the pilots of the schools system An instructional manual of',\n",
              " 'based on a thorough study of the changes that have taken place in the global context adopted in terms of local needs based on a studentcentered learningteaching approach is presented to you teachers who serve as the pilots of the schools system An instructional manual of this nature is provided to you with the confidence that you will be able to make a greater contribution using this There is no doubt whatsoever that this Teachers Guide will provide substantial support in the classroom teachinglearning process at the same time Furthermore the teacher will have a better control of the classroom with a constructive approach in selecting modern resource materials and following the guide lines given in this book I trust that through the careful study of this Teachers Guide provided to you you will act with commitment in the generation of a greatly creative set of students capable of helping Sri Lanka move socially as well as economically forward This Teachers Guide is the outcome of the expertise and unflagging commitment of a team of subject teachers and academics in the field Education While expressing my sincere appreciation for this task performed for the development of the education system my heartfelt thanks go to all of you who contributed your knowledge and skills in making this document such a landmark in the field MFSP Jayawardhana Deputy Director General Faculty of Science and Technology iv 04 Curriculum Committee Guidance and Approval Academic Affairs Board National Institute of Education Subject Coordinator Mr S Shanmugalingam Senior Lecturer National Institute of Education Resource Contributions Mr D Anura Jayalal Director Department of IT MSc PG in Ins Design PGDE BSc National Institute of Education Mr S Shanmugalingam MSc PGDE Senior Lecturer Department of Information Technology National Institute of Education Dr Damith D Karunarathna PhD Senior Lecturer UCSC University of Colombo Dr Gamini Wijerathna PhD Dean Faculty of Computing Technology University of Kalaniya Dr HKTKWijayasiriwardhanePhD Senior Lecturer University of Kelaniya']"
            ]
          },
          "metadata": {},
          "execution_count": 14
        }
      ],
      "source": [
        "chunks[:3]"
      ]
    },
    {
      "cell_type": "code",
      "execution_count": null,
      "metadata": {
        "colab": {
          "base_uri": "https://localhost:8080/"
        },
        "id": "4SbdWj5Hzg71",
        "outputId": "add07472-a4ea-4580-9e2a-03b59238b97b"
      },
      "outputs": [
        {
          "output_type": "execute_result",
          "data": {
            "text/plain": [
              "array([[-0.00539549,  0.01799691, -0.07062975, ...,  0.01654691,\n",
              "        -0.02608517, -0.02043968],\n",
              "       [-0.08843452, -0.00522241, -0.04135546, ..., -0.03346817,\n",
              "        -0.0266348 ,  0.028532  ],\n",
              "       [-0.03059755,  0.02607359, -0.00828715, ...,  0.01989921,\n",
              "        -0.08354416, -0.02624068]], dtype=float32)"
            ]
          },
          "metadata": {},
          "execution_count": 8
        }
      ],
      "source": [
        "embeddings[:3]"
      ]
    },
    {
      "cell_type": "markdown",
      "metadata": {
        "id": "3lr6e5gezq3g"
      },
      "source": [
        "# Applying SOM"
      ]
    },
    {
      "cell_type": "code",
      "execution_count": null,
      "metadata": {
        "id": "9rLtxUDs09k7",
        "colab": {
          "base_uri": "https://localhost:8080/"
        },
        "outputId": "3264bc5b-4e80-4dd9-dbd8-8d6c7f554a09"
      },
      "outputs": [
        {
          "output_type": "stream",
          "name": "stdout",
          "text": [
            "Collecting git+https://github.com/GayuniBas2001/SOMPY_sevamoo.git\n",
            "  Cloning https://github.com/GayuniBas2001/SOMPY_sevamoo.git to /tmp/pip-req-build-n01r_gqg\n",
            "  Running command git clone --filter=blob:none --quiet https://github.com/GayuniBas2001/SOMPY_sevamoo.git /tmp/pip-req-build-n01r_gqg\n",
            "  Resolved https://github.com/GayuniBas2001/SOMPY_sevamoo.git to commit 53e89a5351bfacfa48e7153f3510af35498e18c9\n",
            "  Preparing metadata (setup.py) ... \u001b[?25l\u001b[?25hdone\n",
            "Requirement already satisfied: numpy>=1.7 in /usr/local/lib/python3.11/dist-packages (from SOMPY==1.1.1) (2.0.2)\n",
            "Requirement already satisfied: scipy>=0.9 in /usr/local/lib/python3.11/dist-packages (from SOMPY==1.1.1) (1.15.3)\n",
            "Requirement already satisfied: scikit-learn>=0.21 in /usr/local/lib/python3.11/dist-packages (from SOMPY==1.1.1) (1.6.1)\n",
            "Requirement already satisfied: numexpr>=2.5 in /usr/local/lib/python3.11/dist-packages (from SOMPY==1.1.1) (2.10.2)\n",
            "Requirement already satisfied: joblib>=1.2.0 in /usr/local/lib/python3.11/dist-packages (from scikit-learn>=0.21->SOMPY==1.1.1) (1.5.0)\n",
            "Requirement already satisfied: threadpoolctl>=3.1.0 in /usr/local/lib/python3.11/dist-packages (from scikit-learn>=0.21->SOMPY==1.1.1) (3.6.0)\n",
            "Building wheels for collected packages: SOMPY\n",
            "  Building wheel for SOMPY (setup.py) ... \u001b[?25l\u001b[?25hdone\n",
            "  Created wheel for SOMPY: filename=SOMPY-1.1.1-py3-none-any.whl size=29178 sha256=f715f224d3d1a701af78066e4d6207b582de0e7a3df57f4af222c9dad8a588c8\n",
            "  Stored in directory: /tmp/pip-ephem-wheel-cache-4runl6r8/wheels/fc/dd/d6/26375a31b7c69ce2502112a68ead58548f7caa4102897a065d\n",
            "Successfully built SOMPY\n",
            "Installing collected packages: SOMPY\n",
            "Successfully installed SOMPY-1.1.1\n"
          ]
        }
      ],
      "source": [
        "!pip3 install --upgrade git+https://github.com/GayuniBas2001/SOMPY_sevamoo.git"
      ]
    },
    {
      "cell_type": "markdown",
      "metadata": {
        "id": "z8Plinpby2nD"
      },
      "source": [
        "The training length for rough and fine-tune training in SOM (Self-Organizing Maps) depends on:\n",
        "\n",
        "* The size of the dataset (number of samples)\n",
        "\n",
        "* The map size (number of nodes)\n",
        "\n",
        "* Whether your goal is speed vs. accuracy"
      ]
    },
    {
      "cell_type": "code",
      "execution_count": null,
      "metadata": {
        "colab": {
          "base_uri": "https://localhost:8080/"
        },
        "id": "Z7Jxx3GM09ca",
        "outputId": "cb717f4a-2795-4685-f68a-08a66ef17f36"
      },
      "outputs": [
        {
          "output_type": "stream",
          "name": "stdout",
          "text": [
            "Rough training length: 1000\n",
            "Fine-tuning length: 248\n"
          ]
        }
      ],
      "source": [
        "from sklearn.datasets import load_iris\n",
        "import numpy as np\n",
        "from math import sqrt\n",
        "\n",
        "data = embeddings\n",
        "data = np.array(data)\n",
        "\n",
        "n_samples = len(data)\n",
        "rough_len = 1000 #int(5 * sqrt(n_samples))\n",
        "finetune_len = int(20 * sqrt(n_samples))\n",
        "\n",
        "print(f\"Rough training length: {rough_len}\")\n",
        "print(f\"Fine-tuning length: {finetune_len}\")"
      ]
    },
    {
      "cell_type": "markdown",
      "metadata": {
        "id": "u-LWaev6Ebt9"
      },
      "source": [
        "### Important Note:\n",
        "Based on Kohonen's insights and common practices:\n",
        "\n",
        "- **Rough Training Phase**:\n",
        "    - **Neighborhood Radius**: Start with a large radius (e.g., half the grid's maximum dimension).\n",
        "    - **Iterations**: Approximately 1,000 iterations are often sufficient.\n",
        "- **Fine-Tuning Phase**:\n",
        "    - **Neighborhood Radius**: Gradually decrease to a small value (e.g., 0.1 times the grid's maximum dimension).\n",
        "    - **Iterations**: Typically, 10 to 50 times the number of neurons in the map. For instance, for a 10×10 map (100 neurons), consider 1,000 to 5,000 iterations."
      ]
    },
    {
      "cell_type": "code",
      "execution_count": null,
      "metadata": {
        "id": "mU3bmMMwz_Vl"
      },
      "outputs": [],
      "source": [
        "from sompy.sompy import SOMFactory"
      ]
    },
    {
      "cell_type": "markdown",
      "metadata": {
        "id": "7zJE1ilq0Cwi"
      },
      "source": [
        "#### Selecting optimal parameter values"
      ]
    },
    {
      "cell_type": "code",
      "execution_count": null,
      "metadata": {
        "id": "QYoS59qK2gkI"
      },
      "outputs": [],
      "source": [
        "# #Define function to calculate BMU using euclidean distance\n",
        "# def euc_quantication_error(data, sm):\n",
        "#     bmu_vectors = sm.codebook.matrix[sm._bmu[0].astype(int)]\n",
        "#     return np.mean(np.linalg.norm(data - bmu_vectors, axis=1))\n",
        "\n",
        "#Define function to calculate BMU using euclidean distance\n",
        "def calculate_quantization_error(codebook_matrix,data):\n",
        "    neuron_values = codebook_matrix\n",
        "    quantization_error = np.mean(np.sqrt(np.sum((neuron_values - data) ** 2, axis=1)))\n",
        "    return quantization_error"
      ]
    },
    {
      "cell_type": "code",
      "execution_count": null,
      "metadata": {
        "colab": {
          "background_save": true,
          "base_uri": "https://localhost:8080/"
        },
        "collapsed": true,
        "id": "B1GZsqUYxFB1",
        "outputId": "f434f2eb-7ccb-41d9-92f1-aa097296c468"
      },
      "outputs": [
        {
          "output_type": "stream",
          "name": "stdout",
          "text": [
            "[0] mapsize: (10, 10), finetune_length: 1000,normalization: var, initialization: random, lattice: rect, neighborhood: gaussian => Topographic error: 1.0000, som_lib_quantization_error: 0.5675\n"
          ]
        },
        {
          "output_type": "stream",
          "name": "stderr",
          "text": [
            "/usr/local/lib/python3.11/dist-packages/sompy/sompy.py:344: RuntimeWarning: invalid value encountered in sqrt\n",
            "  np.mean(np.sqrt(bmu[1] + fixed_euclidean_x2))) #lbugnon: ojo aca me tiró un warning, revisar (commit sinc: 965666d3d4d93bcf48e8cef6ea2c41a018c1cb83 )\n"
          ]
        }
      ],
      "source": [
        "# # Define parameter grids\n",
        "# mapsizes = [(10, 10), (20, 20), (30, 30), (40, 40)]\n",
        "# normalizations = ['var']\n",
        "# initializations = ['random', 'pca']\n",
        "# lattices = ['rect', 'hexa']\n",
        "# neighborhoods = ['gaussian', 'bubble']\n",
        "\n",
        "# # Store results\n",
        "# results = []\n",
        "# topo_errors = []\n",
        "# quant_errors = []\n",
        "\n",
        "# test_index = 0  # To track test case index\n",
        "# test_indices = []\n",
        "\n",
        "# # Iterate over all combinations\n",
        "# for mapsize in mapsizes:\n",
        "#     # Calculate fine-tuning length\n",
        "#     neurons = mapsize[0]*mapsize[1]\n",
        "#     finetune_lengths = [(10*neurons)] #,(20*neurons),(30*neurons),(40*neurons),(50*neurons)\n",
        "\n",
        "#     for finetune_len in finetune_lengths:\n",
        "#         for norm in normalizations:\n",
        "#             for init in initializations:\n",
        "#                 for lattice in lattices:\n",
        "#                     for neighborhood in neighborhoods:\n",
        "#                         if init == 'pca' and neighborhood == 'bubble':\n",
        "#                             continue\n",
        "#                         # Build and train SOM\n",
        "#                         sm = SOMFactory().build(\n",
        "#                             data,\n",
        "#                             mapsize=mapsize,\n",
        "#                             normalization=norm,\n",
        "#                             initialization=init,\n",
        "#                             lattice=lattice,\n",
        "#                             neighborhood=neighborhood\n",
        "#                         )\n",
        "#                         sm.train(\n",
        "#                             n_job=1,\n",
        "#                             verbose=False,\n",
        "#                             train_rough_len=rough_len,\n",
        "#                             train_finetune_len=finetune_len)\n",
        "\n",
        "#                         # Calculate errors\n",
        "#                         topographic_error = sm.calculate_topographic_error()\n",
        "#                         # quantization_error = np.mean(sm._bmu[1])\n",
        "#                         som_lib_quantization_error = sm.calculate_quantization_error()\n",
        "\n",
        "#                         # Store the results\n",
        "#                         results.append({\n",
        "#                             'test_index': test_index,\n",
        "#                             'mapsize': mapsize,\n",
        "#                             'finetune_len': finetune_len,\n",
        "#                             'normalization': norm,\n",
        "#                             'initialization': init,\n",
        "#                             'lattice': lattice,\n",
        "#                             'neighborhood': neighborhood,\n",
        "#                             'topographic_error': topographic_error,\n",
        "#                             # 'quantization_error': quantization_error,\n",
        "#                             'som_lib_quantization_error': som_lib_quantization_error\n",
        "#                         })\n",
        "\n",
        "#                         # Append for plotting\n",
        "#                         test_indices.append(test_index)\n",
        "#                         topo_errors.append(topographic_error)\n",
        "#                         quant_errors.append(som_lib_quantization_error)\n",
        "\n",
        "#                         # Print the results\n",
        "#                         print(f\"[{test_index}] mapsize: {mapsize}, finetune_length: {finetune_len},normalization: {norm}, initialization: {init}, \"\n",
        "#                               f\"lattice: {lattice}, neighborhood: {neighborhood} => \"\n",
        "#                               f\"Topographic error: {topographic_error:.4f}, \"\n",
        "#                               # f\"Quantization error: {quantization_error:.4f},\"\n",
        "#                               f\"som_lib_quantization_error: {som_lib_quantization_error:.4f}\")\n",
        "\n",
        "#                         test_index += 1"
      ]
    },
    {
      "cell_type": "markdown",
      "metadata": {
        "id": "D-MGO0CoC9zM"
      },
      "source": [
        "Based on the standard practices of the SOMpy library, it's likely that both our input data and the Best Matching Unit (BMU) weights are normalized during the training process.\n",
        "\n",
        "In SOMpy, when we build the Self-Organizing Map (SOM) using the SOMFactory().build() method, we can specify the normalization method. For example:\n",
        "\n",
        "`sm = som_fac.build(data, normalization='var', ...)`\n",
        "\n",
        "Here, normalization='var' indicates that the data will be standardized using z-score normalization, where each feature is transformed to have a mean of 0 and a standard deviation of 1.\n",
        "\n",
        "During training, the SOM adjusts its codebook vectors (weights) in the same normalized space as the input data. This ensures that distance calculations between data points and codebook vectors are meaningful and consistent.\n",
        "\n",
        "In summary, unless we've explicitly disabled normalization, both your data and BMU weights are operating in a normalized space within SOMpy."
      ]
    },
    {
      "cell_type": "markdown",
      "metadata": {
        "id": "EO-jZukf9WkG"
      },
      "source": [
        "### Plotting errors for each parameter value conbination"
      ]
    },
    {
      "cell_type": "code",
      "execution_count": null,
      "metadata": {
        "id": "4VAXuNdq9Pgb"
      },
      "outputs": [],
      "source": [
        "# # Plotting\n",
        "# plt.figure(figsize=(12, 6))\n",
        "\n",
        "# plt.plot(test_indices, topo_errors, label='Topographic Error', marker='o', linestyle='-')\n",
        "# plt.plot(test_indices, quant_errors, label='Quantization Error', marker='s', linestyle='-')\n",
        "\n",
        "# plt.xlabel('Test Case Index')\n",
        "# plt.ylabel('Error')\n",
        "# plt.title('Topographic and Quantization Errors Across Test Cases')\n",
        "# plt.legend()\n",
        "# plt.grid(True)\n",
        "# plt.tight_layout()\n",
        "# plt.show()"
      ]
    },
    {
      "cell_type": "code",
      "execution_count": null,
      "metadata": {
        "id": "LegPvjfmVWqy"
      },
      "outputs": [],
      "source": [
        "# rint(\"[0] mapsize: (10, 10), finetune_length: 1000,normalization: var, initialization: random, lattice: rect, neighborhood: gaussian => Topographic error: 0.5161, som_lib_quantization_error: 0.5680\n",
        "# /usr/local/lib/python3.11/dist-packages/sompy/sompy.py:344: RuntimeWarning: invalid value encountered in sqrt\n",
        "#   np.mean(np.sqrt(bmu[1] + fixed_euclidean_x2))) #lbugnon: ojo aca me tiró un warning, revisar (commit sinc: 965666d3d4d93bcf48e8cef6ea2c41a018c1cb83 )\n",
        "# [1] mapsize: (10, 10), finetune_length: 1000,normalization: var, initialization: random, lattice: rect, neighborhood: bubble => Topographic error: 1.0000, som_lib_quantization_error: 0.4919\n",
        "# [2] mapsize: (10, 10), finetune_length: 1000,normalization: var, initialization: random, lattice: hexa, neighborhood: gaussian => Topographic error: 0.0000, som_lib_quantization_error: 0.6290\n",
        "# /usr/local/lib/python3.11/dist-packages/sompy/sompy.py:356: RuntimeWarning: invalid value encountered in sqrt\n",
        "#   bmu[1] = np.sqrt(bmu[1] + fixed_euclidean_x2)\n",
        "# [3] mapsize: (10, 10), finetune_length: 1000,normalization: var, initialization: random, lattice: hexa, neighborhood: bubble => Topographic error: 1.0000, som_lib_quantization_error: 0.4535\n",
        "# [4] mapsize: (10, 10), finetune_length: 1000,normalization: var, initialization: pca, lattice: rect, neighborhood: gaussian => Topographic error: 1.0000, som_lib_quantization_error: 0.5699\n",
        "# [5] mapsize: (10, 10), finetune_length: 1000,normalization: var, initialization: pca, lattice: hexa, neighborhood: gaussian => Topographic error: 0.0000, som_lib_quantization_error: 0.6287\n",
        "# [6] mapsize: (10, 10), finetune_length: 2000,normalization: var, initialization: random, lattice: rect, neighborhood: gaussian => Topographic error: 0.0839, som_lib_quantization_error: 0.5720\n",
        "# /usr/local/lib/python3.11/dist-packages/sompy/sompy.py:344: RuntimeWarning: invalid value encountered in sqrt\n",
        "#   np.mean(np.sqrt(bmu[1] + fixed_euclidean_x2))) #lbugnon: ojo aca me tiró un warning, revisar (commit sinc: 965666d3d4d93bcf48e8cef6ea2c41a018c1cb83 )\n",
        "# [7] mapsize: (10, 10), finetune_length: 2000,normalization: var, initialization: random, lattice: rect, neighborhood: bubble => Topographic error: 0.9419, som_lib_quantization_error: 0.4996\n",
        "# [8] mapsize: (10, 10), finetune_length: 2000,normalization: var, initialization: random, lattice: hexa, neighborhood: gaussian => Topographic error: 0.0000, som_lib_quantization_error: 0.6292\n",
        "# /usr/local/lib/python3.11/dist-packages/sompy/sompy.py:356: RuntimeWarning: invalid value encountered in sqrt\n",
        "#   bmu[1] = np.sqrt(bmu[1] + fixed_euclidean_x2)\n",
        "# [9] mapsize: (10, 10), finetune_length: 2000,normalization: var, initialization: random, lattice: hexa, neighborhood: bubble => Topographic error: 0.1097, som_lib_quantization_error: 0.4684\n",
        "# [10] mapsize: (10, 10), finetune_length: 2000,normalization: var, initialization: pca, lattice: rect, neighborhood: gaussian => Topographic error: 1.0000, som_lib_quantization_error: 0.5699\n",
        "# [11] mapsize: (10, 10), finetune_length: 2000,normalization: var, initialization: pca, lattice: hexa, neighborhood: gaussian => Topographic error: 0.0000, som_lib_quantization_error: 0.6287\n",
        "# [12] mapsize: (10, 10), finetune_length: 3000,normalization: var, initialization: random, lattice: rect, neighborhood: gaussian => Topographic error: 0.3290, som_lib_quantization_error: 0.5666\n",
        "# /usr/local/lib/python3.11/dist-packages/sompy/sompy.py:344: RuntimeWarning: invalid value encountered in sqrt\n",
        "#   np.mean(np.sqrt(bmu[1] + fixed_euclidean_x2))) #lbugnon: ojo aca me tiró un warning, revisar (commit sinc: 965666d3d4d93bcf48e8cef6ea2c41a018c1cb83 )\n",
        "# [13] mapsize: (10, 10), finetune_length: 3000,normalization: var, initialization: random, lattice: rect, neighborhood: bubble => Topographic error: 0.9484, som_lib_quantization_error: 0.4995\n",
        "# [14] mapsize: (10, 10), finetune_length: 3000,normalization: var, initialization: random, lattice: hexa, neighborhood: gaussian => Topographic error: 0.0000, som_lib_quantization_error: 0.6309\n",
        "# /usr/local/lib/python3.11/dist-packages/sompy/sompy.py:356: RuntimeWarning: invalid value encountered in sqrt\n",
        "#   bmu[1] = np.sqrt(bmu[1] + fixed_euclidean_x2)\n",
        "# [15] mapsize: (10, 10), finetune_length: 3000,normalization: var, initialization: random, lattice: hexa, neighborhood: bubble => Topographic error: 1.0000, som_lib_quantization_error: 0.4321\n",
        "# [16] mapsize: (10, 10), finetune_length: 3000,normalization: var, initialization: pca, lattice: rect, neighborhood: gaussian => Topographic error: 1.0000, som_lib_quantization_error: 0.5699\n",
        "# [17] mapsize: (10, 10), finetune_length: 3000,normalization: var, initialization: pca, lattice: hexa, neighborhood: gaussian => Topographic error: 0.0000, som_lib_quantization_error: 0.6287\n",
        "# [18] mapsize: (10, 10), finetune_length: 4000,normalization: var, initialization: random, lattice: rect, neighborhood: gaussian => Topographic error: 0.6710, som_lib_quantization_error: 0.5660\n",
        "# /usr/local/lib/python3.11/dist-packages/sompy/sompy.py:344: RuntimeWarning: invalid value encountered in sqrt\n",
        "#   np.mean(np.sqrt(bmu[1] + fixed_euclidean_x2))) #lbugnon: ojo aca me tiró un warning, revisar (commit sinc: 965666d3d4d93bcf48e8cef6ea2c41a018c1cb83 )\n",
        "# [19] mapsize: (10, 10), finetune_length: 4000,normalization: var, initialization: random, lattice: rect, neighborhood: bubble => Topographic error: 1.0000, som_lib_quantization_error: 0.5077\n",
        "# [20] mapsize: (10, 10), finetune_length: 4000,normalization: var, initialization: random, lattice: hexa, neighborhood: gaussian => Topographic error: 0.5032, som_lib_quantization_error: 0.6348\n",
        "# /usr/local/lib/python3.11/dist-packages/sompy/sompy.py:356: RuntimeWarning: invalid value encountered in sqrt\n",
        "#   bmu[1] = np.sqrt(bmu[1] + fixed_euclidean_x2)\n",
        "# [21] mapsize: (10, 10), finetune_length: 4000,normalization: var, initialization: random, lattice: hexa, neighborhood: bubble => Topographic error: 0.1097, som_lib_quantization_error: 0.4620\n",
        "# [22] mapsize: (10, 10), finetune_length: 4000,normalization: var, initialization: pca, lattice: rect, neighborhood: gaussian => Topographic error: 1.0000, som_lib_quantization_error: 0.5699\n",
        "# [23] mapsize: (10, 10), finetune_length: 4000,normalization: var, initialization: pca, lattice: hexa, neighborhood: gaussian => Topographic error: 0.0000, som_lib_quantization_error: 0.6287\n",
        "# [24] mapsize: (10, 10), finetune_length: 5000,normalization: var, initialization: random, lattice: rect, neighborhood: gaussian => Topographic error: 0.4581, som_lib_quantization_error: 0.5719\n",
        "# /usr/local/lib/python3.11/dist-packages/sompy/sompy.py:344: RuntimeWarning: invalid value encountered in sqrt\n",
        "#   np.mean(np.sqrt(bmu[1] + fixed_euclidean_x2))) #lbugnon: ojo aca me tiró un warning, revisar (commit sinc: 965666d3d4d93bcf48e8cef6ea2c41a018c1cb83 )\n",
        "# [25] mapsize: (10, 10), finetune_length: 5000,normalization: var, initialization: random, lattice: rect, neighborhood: bubble => Topographic error: 0.9806, som_lib_quantization_error: 0.5067\n",
        "# [26] mapsize: (10, 10), finetune_length: 5000,normalization: var, initialization: random, lattice: hexa, neighborhood: gaussian => Topographic error: 0.0000, som_lib_quantization_error: 0.6345\n",
        "# [27] mapsize: (10, 10), finetune_length: 5000,normalization: var, initialization: random, lattice: hexa, neighborhood: bubble => Topographic error: 1.0000, som_lib_quantization_error: 0.4784\n",
        "# [28] mapsize: (10, 10), finetune_length: 5000,normalization: var, initialization: pca, lattice: rect, neighborhood: gaussian => Topographic error: 1.0000, som_lib_quantization_error: 0.5699\n",
        "# [29] mapsize: (10, 10), finetune_length: 5000,normalization: var, initialization: pca, lattice: hexa, neighborhood: gaussian => Topographic error: 0.0000, som_lib_quantization_error: 0.6287\n",
        "# [30] mapsize: (20, 20), finetune_length: 4000,normalization: var, initialization: random, lattice: rect, neighborhood: gaussian => Topographic error: 0.0129, som_lib_quantization_error: 0.3837\n",
        "# /usr/local/lib/python3.11/dist-packages/sompy/sompy.py:344: RuntimeWarning: invalid value encountered in sqrt\n",
        "#   np.mean(np.sqrt(bmu[1] + fixed_euclidean_x2))) #lbugnon: ojo aca me tiró un warning, revisar (commit sinc: 965666d3d4d93bcf48e8cef6ea2c41a018c1cb83 )\n",
        "# /usr/local/lib/python3.11/dist-packages/sompy/sompy.py:356: RuntimeWarning: invalid value encountered in sqrt\n",
        "#   bmu[1] = np.sqrt(bmu[1] + fixed_euclidean_x2)\n",
        "# [31] mapsize: (20, 20), finetune_length: 4000,normalization: var, initialization: random, lattice: rect, neighborhood: bubble => Topographic error: 1.0000, som_lib_quantization_error: 0.0266\n",
        "# [32] mapsize: (20, 20), finetune_length: 4000,normalization: var, initialization: random, lattice: hexa, neighborhood: gaussian => Topographic error: 0.0000, som_lib_quantization_error: 0.5643\n",
        "# [33] mapsize: (20, 20), finetune_length: 4000,normalization: var, initialization: random, lattice: hexa, neighborhood: bubble => Topographic error: 0.0000, som_lib_quantization_error: 0.7999\n",
        "# [34] mapsize: (20, 20), finetune_length: 4000,normalization: var, initialization: pca, lattice: rect, neighborhood: gaussian => Topographic error: 1.0000, som_lib_quantization_error: 0.3748\n",
        "# [35] mapsize: (20, 20), finetune_length: 4000,normalization: var, initialization: pca, lattice: hexa, neighborhood: gaussian => Topographic error: 0.0000, som_lib_quantization_error: 0.5437\n",
        "# [36] mapsize: (20, 20), finetune_length: 8000,normalization: var, initialization: random, lattice: rect, neighborhood: gaussian => Topographic error: 0.9935, som_lib_quantization_error: 0.3751\n",
        "# /usr/local/lib/python3.11/dist-packages/sompy/sompy.py:344: RuntimeWarning: invalid value encountered in sqrt\n",
        "#   np.mean(np.sqrt(bmu[1] + fixed_euclidean_x2))) #lbugnon: ojo aca me tiró un warning, revisar (commit sinc: 965666d3d4d93bcf48e8cef6ea2c41a018c1cb83 )\n",
        "# /usr/local/lib/python3.11/dist-packages/sompy/sompy.py:356: RuntimeWarning: invalid value encountered in sqrt\n",
        "#   bmu[1] = np.sqrt(bmu[1] + fixed_euclidean_x2)\n",
        "# [37] mapsize: (20, 20), finetune_length: 8000,normalization: var, initialization: random, lattice: rect, neighborhood: bubble => Topographic error: 1.0000, som_lib_quantization_error: 0.0000\n",
        "# [38] mapsize: (20, 20), finetune_length: 8000,normalization: var, initialization: random, lattice: hexa, neighborhood: gaussian => Topographic error: 0.0000, som_lib_quantization_error: 0.5779\n",
        "# [39] mapsize: (20, 20), finetune_length: 8000,normalization: var, initialization: random, lattice: hexa, neighborhood: bubble => Topographic error: 0.0000, som_lib_quantization_error: 0.7999\n",
        "# [40] mapsize: (20, 20), finetune_length: 8000,normalization: var, initialization: pca, lattice: rect, neighborhood: gaussian => Topographic error: 1.0000, som_lib_quantization_error: 0.3748\n",
        "# [41] mapsize: (20, 20), finetune_length: 8000,normalization: var, initialization: pca, lattice: hexa, neighborhood: gaussian => Topographic error: 0.0000, som_lib_quantization_error: 0.5437\n",
        "# [42] mapsize: (20, 20), finetune_length: 12000,normalization: var, initialization: random, lattice: rect, neighborhood: gaussian => Topographic error: 0.8516, som_lib_quantization_error: 0.3854\n",
        "# /usr/local/lib/python3.11/dist-packages/sompy/sompy.py:344: RuntimeWarning: invalid value encountered in sqrt\n",
        "#   np.mean(np.sqrt(bmu[1] + fixed_euclidean_x2))) #lbugnon: ojo aca me tiró un warning, revisar (commit sinc: 965666d3d4d93bcf48e8cef6ea2c41a018c1cb83 )\n",
        "# /usr/local/lib/python3.11/dist-packages/sompy/sompy.py:356: RuntimeWarning: invalid value encountered in sqrt\n",
        "#   bmu[1] = np.sqrt(bmu[1] + fixed_euclidean_x2)\n",
        "# [43] mapsize: (20, 20), finetune_length: 12000,normalization: var, initialization: random, lattice: rect, neighborhood: bubble => Topographic error: 1.0000, som_lib_quantization_error: 0.0085\n",
        "# [44] mapsize: (20, 20), finetune_length: 12000,normalization: var, initialization: random, lattice: hexa, neighborhood: gaussian => Topographic error: 0.6387, som_lib_quantization_error: 0.5565\n",
        "# [45] mapsize: (20, 20), finetune_length: 12000,normalization: var, initialization: random, lattice: hexa, neighborhood: bubble => Topographic error: 0.0000, som_lib_quantization_error: 0.7999\n",
        "# [46] mapsize: (20, 20), finetune_length: 12000,normalization: var, initialization: pca, lattice: rect, neighborhood: gaussian => Topographic error: 1.0000, som_lib_quantization_error: 0.3748\n",
        "# [47] mapsize: (20, 20), finetune_length: 12000,normalization: var, initialization: pca, lattice: hexa, neighborhood: gaussian => Topographic error: 0.0000, som_lib_quantization_error: 0.5437\n",
        "# [48] mapsize: (20, 20), finetune_length: 16000,normalization: var, initialization: random, lattice: rect, neighborhood: gaussian => Topographic error: 0.9097, som_lib_quantization_error: 0.3811\n",
        "# /usr/local/lib/python3.11/dist-packages/sompy/sompy.py:344: RuntimeWarning: invalid value encountered in sqrt\n",
        "#   np.mean(np.sqrt(bmu[1] + fixed_euclidean_x2))) #lbugnon: ojo aca me tiró un warning, revisar (commit sinc: 965666d3d4d93bcf48e8cef6ea2c41a018c1cb83 )\n",
        "# /usr/local/lib/python3.11/dist-packages/sompy/sompy.py:356: RuntimeWarning: invalid value encountered in sqrt\n",
        "#   bmu[1] = np.sqrt(bmu[1] + fixed_euclidean_x2)\n",
        "# [49] mapsize: (20, 20), finetune_length: 16000,normalization: var, initialization: random, lattice: rect, neighborhood: bubble => Topographic error: 1.0000, som_lib_quantization_error: 0.0044\n",
        "# [50] mapsize: (20, 20), finetune_length: 16000,normalization: var, initialization: random, lattice: hexa, neighborhood: gaussian => Topographic error: 0.0000, som_lib_quantization_error: 0.5695\n",
        "# [51] mapsize: (20, 20), finetune_length: 16000,normalization: var, initialization: random, lattice: hexa, neighborhood: bubble => Topographic error: 0.0000, som_lib_quantization_error: 0.7999\n",
        "# [52] mapsize: (20, 20), finetune_length: 16000,normalization: var, initialization: pca, lattice: rect, neighborhood: gaussian => Topographic error: 1.0000, som_lib_quantization_error: 0.3748\n",
        "# [53] mapsize: (20, 20), finetune_length: 16000,normalization: var, initialization: pca, lattice: hexa, neighborhood: gaussian => Topographic error: 0.0000, som_lib_quantization_error: 0.5437\n",
        "# [54] mapsize: (20, 20), finetune_length: 20000,normalization: var, initialization: random, lattice: rect, neighborhood: gaussian => Topographic error: 1.0000, som_lib_quantization_error: 0.3841\n",
        "# /usr/local/lib/python3.11/dist-packages/sompy/sompy.py:344: RuntimeWarning: invalid value encountered in sqrt\n",
        "#   np.mean(np.sqrt(bmu[1] + fixed_euclidean_x2))) #lbugnon: ojo aca me tiró un warning, revisar (commit sinc: 965666d3d4d93bcf48e8cef6ea2c41a018c1cb83 )\n",
        "# /usr/local/lib/python3.11/dist-packages/sompy/sompy.py:356: RuntimeWarning: invalid value encountered in sqrt\n",
        "#   bmu[1] = np.sqrt(bmu[1] + fixed_euclidean_x2)\n",
        "# [55] mapsize: (20, 20), finetune_length: 20000,normalization: var, initialization: random, lattice: rect, neighborhood: bubble => Topographic error: 1.0000, som_lib_quantization_error: 0.0000\n",
        "# [56] mapsize: (20, 20), finetune_length: 20000,normalization: var, initialization: random, lattice: hexa, neighborhood: gaussian => Topographic error: 0.4065, som_lib_quantization_error: 0.5595\n",
        "# [57] mapsize: (20, 20), finetune_length: 20000,normalization: var, initialization: random, lattice: hexa, neighborhood: bubble => Topographic error: 0.0000, som_lib_quantization_error: 0.7999\n",
        "# [58] mapsize: (20, 20), finetune_length: 20000,normalization: var, initialization: pca, lattice: rect, neighborhood: gaussian => Topographic error: 1.0000, som_lib_quantization_error: 0.3748\n",
        "# [59] mapsize: (20, 20), finetune_length: 20000,normalization: var, initialization: pca, lattice: hexa, neighborhood: gaussian => Topographic error: 0.0000, som_lib_quantization_error: 0.5437\n",
        "# [60] mapsize: (30, 30), finetune_length: 9000,normalization: var, initialization: random, lattice: rect, neighborhood: gaussian => Topographic error: 0.0452, som_lib_quantization_error: 0.1892\n",
        "# /usr/local/lib/python3.11/dist-packages/sompy/sompy.py:344: RuntimeWarning: invalid value encountered in sqrt\n",
        "#   np.mean(np.sqrt(bmu[1] + fixed_euclidean_x2))) #lbugnon: ojo aca me tiró un warning, revisar (commit sinc: 965666d3d4d93bcf48e8cef6ea2c41a018c1cb83 )\n",
        "# /usr/local/lib/python3.11/dist-packages/sompy/sompy.py:356: RuntimeWarning: invalid value encountered in sqrt\n",
        "#   bmu[1] = np.sqrt(bmu[1] + fixed_euclidean_x2)\n",
        "# [61] mapsize: (30, 30), finetune_length: 9000,normalization: var, initialization: random, lattice: rect, neighborhood: bubble => Topographic error: 0.9935, som_lib_quantization_error: 0.0000\n",
        "# [62] mapsize: (30, 30), finetune_length: 9000,normalization: var, initialization: random, lattice: hexa, neighborhood: gaussian => Topographic error: 0.0194, som_lib_quantization_error: 0.5136\n",
        "# [63] mapsize: (30, 30), finetune_length: 9000,normalization: var, initialization: random, lattice: hexa, neighborhood: bubble => Topographic error: 1.0000, som_lib_quantization_error: 0.0082\n",
        "# [64] mapsize: (30, 30), finetune_length: 9000,normalization: var, initialization: pca, lattice: rect, neighborhood: gaussian => Topographic error: 1.0000, som_lib_quantization_error: 0.1790\n",
        "# [65] mapsize: (30, 30), finetune_length: 9000,normalization: var, initialization: pca, lattice: hexa, neighborhood: gaussian => Topographic error: 0.5871, som_lib_quantization_error: 0.4893\n",
        "# [66] mapsize: (30, 30), finetune_length: 18000,normalization: var, initialization: random, lattice: rect, neighborhood: gaussian => Topographic error: 1.0000, som_lib_quantization_error: 0.2016\n",
        "# /usr/local/lib/python3.11/dist-packages/sompy/sompy.py:344: RuntimeWarning: invalid value encountered in sqrt\n",
        "#   np.mean(np.sqrt(bmu[1] + fixed_euclidean_x2))) #lbugnon: ojo aca me tiró un warning, revisar (commit sinc: 965666d3d4d93bcf48e8cef6ea2c41a018c1cb83 )\n",
        "# /usr/local/lib/python3.11/dist-packages/sompy/sompy.py:356: RuntimeWarning: invalid value encountered in sqrt\n",
        "#   bmu[1] = np.sqrt(bmu[1] + fixed_euclidean_x2)\n",
        "# [67] mapsize: (30, 30), finetune_length: 18000,normalization: var, initialization: random, lattice: rect, neighborhood: bubble => Topographic error: 0.9742, som_lib_quantization_error: 0.0060\n",
        "# [68] mapsize: (30, 30), finetune_length: 18000,normalization: var, initialization: random, lattice: hexa, neighborhood: gaussian => Topographic error: 0.0000, som_lib_quantization_error: 0.5169\n",
        "# [69] mapsize: (30, 30), finetune_length: 18000,normalization: var, initialization: random, lattice: hexa, neighborhood: bubble => Topographic error: 1.0000, som_lib_quantization_error: 0.0061\n",
        "# [70] mapsize: (30, 30), finetune_length: 18000,normalization: var, initialization: pca, lattice: rect, neighborhood: gaussian => Topographic error: 1.0000, som_lib_quantization_error: 0.1790\n",
        "# [71] mapsize: (30, 30), finetune_length: 18000,normalization: var, initialization: pca, lattice: hexa, neighborhood: gaussian => Topographic error: 0.5871, som_lib_quantization_error: 0.4893\n",
        "# [72] mapsize: (30, 30), finetune_length: 27000,normalization: var, initialization: random, lattice: rect, neighborhood: gaussian => Topographic error: 1.0000, som_lib_quantization_error: 0.1907\n",
        "# /usr/local/lib/python3.11/dist-packages/sompy/sompy.py:344: RuntimeWarning: invalid value encountered in sqrt\n",
        "#   np.mean(np.sqrt(bmu[1] + fixed_euclidean_x2))) #lbugnon: ojo aca me tiró un warning, revisar (commit sinc: 965666d3d4d93bcf48e8cef6ea2c41a018c1cb83 )\n",
        "# /usr/local/lib/python3.11/dist-packages/sompy/sompy.py:356: RuntimeWarning: invalid value encountered in sqrt\n",
        "#   bmu[1] = np.sqrt(bmu[1] + fixed_euclidean_x2)\n",
        "# [73] mapsize: (30, 30), finetune_length: 27000,normalization: var, initialization: random, lattice: rect, neighborhood: bubble => Topographic error: 0.9871, som_lib_quantization_error: 0.0000\n",
        "# \")"
      ]
    },
    {
      "cell_type": "code",
      "execution_count": null,
      "metadata": {
        "colab": {
          "base_uri": "https://localhost:8080/"
        },
        "id": "FjqbPTQ-6Ndz",
        "outputId": "ce917dae-4db0-4c9c-a3f3-b99f4c75a822"
      },
      "outputs": [
        {
          "name": "stdout",
          "output_type": "stream",
          "text": [
            "Selected parameter values : \n",
            "mapsize: (20, 20), normalization: var, initialization: pca, lattice: hexa, neighborhood: gaussian => Topographic error: 0.0000, Quantization error: 13.3839\n",
            "Number of chunks : 155\n"
          ]
        }
      ],
      "source": [
        "print(\"Selected parameter values : \")\n",
        "print(\"mapsize: (20, 20), normalization: var, initialization: pca, lattice: hexa, neighborhood: gaussian => Topographic error: 0.0000, Quantization error: 13.3839\")\n",
        "print(\"Number of chunks :\", len(chunks))"
      ]
    },
    {
      "cell_type": "markdown",
      "metadata": {
        "id": "JEiy56L28p_i"
      },
      "source": [
        "The normalization function used in SOMpy:\n",
        "\n",
        "```python\n",
        "def normalize(self, data):\n",
        "    me, st = self._mean_and_standard_dev(data)\n",
        "    st[st == 0] = 1\n",
        "    return (data - me) / st\n",
        "```\n",
        "\n",
        "This is **z-score normalization**, also called **standardization**.\n",
        "\n",
        "---\n",
        "\n",
        "### 🔍 What does z-score normalization do?\n",
        "\n",
        "For each feature (column) in the dataset:\n",
        "\n",
        "* Subtract the mean\n",
        "* Divide by the standard deviation\n",
        "\n",
        "**Formula:**\n",
        "\n",
        "$$\n",
        "\\text{normalized\\_value} = \\frac{x - \\mu}{\\sigma}\n",
        "$$\n",
        "\n",
        "---\n",
        "\n",
        "### ✅ What is the range of the output?\n",
        "\n",
        "There is **no fixed min-max range**, but typically:\n",
        "\n",
        "* Most values will fall between **−3 and +3**, assuming the data is roughly normally distributed.\n",
        "* The mean of each feature becomes **0**\n",
        "* The standard deviation becomes **1**\n",
        "\n",
        "So, the **normalized data is centered around 0** with unit variance.\n",
        "\n",
        "---\n",
        "\n",
        "### 🧠 Implication for SOM:\n",
        "\n",
        "Using z-score normalization ensures:\n",
        "\n",
        "* All features contribute **equally** regardless of their original scale.\n",
        "* Helps the SOM form a balanced map rather than being biased toward high-magnitude features.\n"
      ]
    },
    {
      "cell_type": "code",
      "execution_count": null,
      "metadata": {
        "colab": {
          "base_uri": "https://localhost:8080/"
        },
        "id": "Syjy2BpI09n6",
        "outputId": "3e3bceba-a59a-42e0-f6bd-899727ae6386"
      },
      "outputs": [
        {
          "name": "stdout",
          "output_type": "stream",
          "text": [
            "Topographic error = 0.0; Quantization error = 0.5440437957241395\n"
          ]
        }
      ],
      "source": [
        "from sompy.sompy import SOM\n",
        "from sompy.sompy import SOMFactory\n",
        "\n",
        "som_fac = SOMFactory()\n",
        "\n",
        "sm = som_fac.build(data, mapsize=(20, 20), normalization='var', initialization='pca', lattice='hexa', neighborhood='gaussian')\n",
        "sm.train(n_job=1, verbose=False, train_rough_len=rough_len, train_finetune_len=finetune_len)\n",
        "\n",
        "topographic_error = sm.calculate_topographic_error()\n",
        "quantization_error = sm.calculate_quantization_error()\n",
        "print (\"Topographic error = %s; Quantization error = %s\" % (topographic_error, quantization_error))"
      ]
    },
    {
      "cell_type": "code",
      "execution_count": null,
      "metadata": {
        "colab": {
          "base_uri": "https://localhost:8080/",
          "height": 829
        },
        "id": "J_n7QT4809rk",
        "outputId": "d495bd6f-7df2-4b83-9fb8-68a51c1d17c4"
      },
      "outputs": [
        {
          "data": {
            "image/png": "[encoded data removed]",
            "text/plain": [
              "<Figure size 1000x1000 with 3 Axes>"
            ]
          },
          "metadata": {},
          "output_type": "display_data"
        }
      ],
      "source": [
        "from sompy.visualization.bmuhits import BmuHitsView\n",
        "\n",
        "vhts  = BmuHitsView(10,10,\"Hits Map\",text_size=7)\n",
        "vhts.show(sm, anotate=True, onlyzeros=False, labelsize=12, cmap=\"plasma\", logaritmic=False)\n",
        "\n",
        "#cmap options\n",
        "# Sequential: 'viridis', 'plasma', 'inferno', 'magma', 'cividis', 'gray', 'binary'\n",
        "# Diverging: 'coolwarm', 'bwr', 'seismic'\n",
        "# Qualitative: 'tab10', 'tab20', 'tab20b', 'tab20c'"
      ]
    },
    {
      "cell_type": "markdown",
      "metadata": {
        "id": "iNkmkA_Dz05A"
      },
      "source": [
        "This Hits Map shows how many hits each node has gotten by the number on the node.\n",
        "\n",
        "Exp : 9 chunks has the 400th node as their BMU (Best MAtching Unit)"
      ]
    },
    {
      "cell_type": "code",
      "execution_count": null,
      "metadata": {
        "colab": {
          "base_uri": "https://localhost:8080/"
        },
        "id": "CwQ0C0VxyAlK",
        "outputId": "6435ac5f-4c2e-4e4b-fc11-2a270e5c795e"
      },
      "outputs": [
        {
          "data": {
            "text/plain": [
              "array([ 20.,  20.,  20.,   0.,   0.,  20.,  20.,   0.,   4.,   6.,   0.,\n",
              "         5., 139., 299., 386., 280.,  17.,  59., 359., 192., 171., 151.,\n",
              "        66.,  82., 144.,  60.,   1.,   4.,   4.,   4.,   1.,   4., 171.,\n",
              "       132.,   2.,   6., 179., 199., 139.,   6.,   4.,  95.,   0.,   0.,\n",
              "         5.,   0.,   0.,   0.,  10., 339., 339., 339., 179., 139., 199.,\n",
              "       179., 139.,  19.,  19., 139., 139., 139., 179., 396., 394., 390.,\n",
              "       390., 389., 389., 389., 389., 389., 391., 369., 391., 392., 392.,\n",
              "       399., 388., 388., 385., 385., 385., 385., 385., 340., 380., 380.,\n",
              "       380., 360., 340., 340., 380., 380., 383., 384., 384., 384., 386.,\n",
              "       386., 386., 299.,  17.,  19.,  19.,  17.,  99.,  17.,  99.,  19.,\n",
              "        19.,  19.,  19.,  19.,  59.,  59.,  59., 136., 192., 192., 359.,\n",
              "       399., 191., 192., 213., 171., 270., 270., 192., 172., 152., 151.,\n",
              "       169., 169., 171.,  66.,  44., 104.,  82.,  82.,  82.,  82.,  82.,\n",
              "       104.,  15., 104., 165., 123.,  14., 146., 104., 104., 104.,  60.,\n",
              "        60.])"
            ]
          },
          "execution_count": 25,
          "metadata": {},
          "output_type": "execute_result"
        }
      ],
      "source": [
        "# Get BMUs (Best Matching Units) for each sample\n",
        "bmu_indices = sm._bmu[0]  # Array of shape (n_samples,) containing index of BMU neuron\n",
        "bmu_indices"
      ]
    },
    {
      "cell_type": "markdown",
      "metadata": {
        "id": "okbOX-U2ttW9"
      },
      "source": [
        "* The BMU indices array shows the BMU index of each chunk\n",
        "\n",
        "* Since we have 155 chunks, the length of the array is 155\n",
        "\n",
        "* Because the map size is 20*20, the number of nodes in the map is 400. So the minimum and maximum BMU values are 0 and 399."
      ]
    },
    {
      "cell_type": "markdown",
      "metadata": {
        "id": "nMFUfb3w3Eq_"
      },
      "source": [
        "Why BMU Indices Are 1D in SOMPY\n",
        "\n",
        "In SOMPY:\n",
        "\n",
        "* The BMU indices stored in sm._bmu[0] are 1D indices referring to the flattened list of neurons.\n",
        "\n",
        "* Even though the SOM map is 2D (20×20 = 400 neurons), each neuron is internally represented with a single integer index (0 to 399).\n",
        "\n",
        "* This is done by flattening the 2D grid (row-major order) — so (i, j) becomes i * n_cols + j."
      ]
    },
    {
      "cell_type": "code",
      "execution_count": null,
      "metadata": {
        "colab": {
          "base_uri": "https://localhost:8080/"
        },
        "id": "uxnFd1Wx3Ttt",
        "outputId": "60624b72-2c1f-40db-a9a1-d9f3efce5b9d"
      },
      "outputs": [
        {
          "data": {
            "text/plain": [
              "[(np.float64(1.0), np.float64(0.0)),\n",
              " (np.float64(1.0), np.float64(0.0)),\n",
              " (np.float64(1.0), np.float64(0.0)),\n",
              " (np.float64(0.0), np.float64(0.0)),\n",
              " (np.float64(0.0), np.float64(0.0)),\n",
              " (np.float64(1.0), np.float64(0.0)),\n",
              " (np.float64(1.0), np.float64(0.0)),\n",
              " (np.float64(0.0), np.float64(0.0)),\n",
              " (np.float64(0.0), np.float64(4.0)),\n",
              " (np.float64(0.0), np.float64(6.0))]"
            ]
          },
          "execution_count": 26,
          "metadata": {},
          "output_type": "execute_result"
        }
      ],
      "source": [
        "map_width = sm.codebook.mapsize[1]  # e.g., 20\n",
        "\n",
        "bmu_indices_1d = sm._bmu[0]\n",
        "bmu_coords_2d = [(idx // map_width, idx % map_width) for idx in bmu_indices_1d]\n",
        "bmu_coords_2d[:10]"
      ]
    },
    {
      "cell_type": "code",
      "execution_count": null,
      "metadata": {
        "colab": {
          "base_uri": "https://localhost:8080/"
        },
        "id": "bGNZat7W2Drx",
        "outputId": "e2a9e050-fc0a-45a8-c2e1-cfa4389f8a79"
      },
      "outputs": [
        {
          "data": {
            "text/plain": [
              "array([[ 1,  0, 20],\n",
              "       [ 1,  0, 20],\n",
              "       [ 1,  0, 20],\n",
              "       [ 0,  0,  0],\n",
              "       [ 0,  0,  0],\n",
              "       [ 1,  0, 20],\n",
              "       [ 1,  0, 20],\n",
              "       [ 0,  0,  0],\n",
              "       [ 0,  4,  4],\n",
              "       [ 0,  6,  6]])"
            ]
          },
          "execution_count": 28,
          "metadata": {},
          "output_type": "execute_result"
        }
      ],
      "source": [
        "#This gives the x,y 2D coordinates with the 1d bmu index for the specific data point\n",
        "som_lib_bmu_coords_2d=sm.bmu_ind_to_xy(bmu_indices_1d)\n",
        "som_lib_bmu_coords_2d[:10]"
      ]
    },
    {
      "cell_type": "code",
      "execution_count": null,
      "metadata": {
        "colab": {
          "base_uri": "https://localhost:8080/",
          "height": 191
        },
        "id": "CWrVeLmHhfyT",
        "outputId": "62ce4df2-5773-4de7-eba2-6f82c3047bc3"
      },
      "outputs": [
        {
          "data": {
            "application/vnd.google.colaboratory.intrinsic+json": {
              "type": "string"
            },
            "text/plain": [
              "'MAC addresses and LAN technology o IPv4 addresses o Assigning IPs to networks  Subnetting  Subnet masks  CIDR notation  Private IP addresses  DHCP o Scarcity of IPv4 addresses and IPv6 as a solutionan overview  Finding the path to the destination o Routing and routers o Packet switching  Best effort delivery  Explains the role of a gateway device in inter connecting two LANs  Explain the need for a uniform MAC protocol independent addressing scheme and how IP addresses play that role  Describes the role of subnet masks  Calculates subnet masks and IP address ranges for a given block of IP addresses and network sizes  Describes how DHCP is used to dynamically assign IP addresses  Describes the role of routers in finding a suitable path from the sender to the receiver  Explains packet switching and best 6 20 Competency Competency Level Contents Learning outcomes Periods effort delivery in IP networks 68 Explores the role of transport protocols in the Internet  Delivering data from an application process to another application process o Multiple applications at a host identified by an IP  Multiplexing  multiple end points at the same IP o Ports and port numbers o UDP  Properties  Applications o TCP  Properties  Applications  Explains that it is not sufficient to deliver a message from one IP address to another by demonstrating that the communication is from process to a process  Explains the need for multiplexing messages and how port numbers identify the end points  Briefly describes the functionality of UDP and lists applications that use it  Briefly describes the functionality of TCP and lists applications that use it 4 69 Explores some applications on the Internet  Domain Name System DNS o IP addresses are hard to remember o Human friendly names o Hierarchical name space o Each domain is responsible for managing the names under it o Top level domains  Describes the need for human friendly names instead of IP addresses'"
            ]
          },
          "execution_count": 25,
          "metadata": {},
          "output_type": "execute_result"
        }
      ],
      "source": [
        "chunks[20]"
      ]
    },
    {
      "cell_type": "markdown",
      "metadata": {
        "id": "QTuIgUq-1Ws1"
      },
      "source": [
        "### Allocating BMUs for chunks"
      ]
    },
    {
      "cell_type": "code",
      "execution_count": null,
      "metadata": {
        "id": "2KNjD7cfG6FW"
      },
      "outputs": [],
      "source": [
        "chunks_BMU = [(chunk, int(bmu)) for chunk, bmu in zip(chunks, bmu_indices)]"
      ]
    },
    {
      "cell_type": "markdown",
      "metadata": {
        "id": "LN67-A-H1jt1"
      },
      "source": [
        "# SOM Retrieval"
      ]
    },
    {
      "cell_type": "code",
      "execution_count": null,
      "metadata": {
        "id": "MnYKCXiBLNg9"
      },
      "outputs": [],
      "source": [
        "import numpy as np\n",
        "from sentence_transformers import SentenceTransformer"
      ]
    },
    {
      "cell_type": "code",
      "execution_count": null,
      "metadata": {
        "id": "kWMyMRJBLOmk"
      },
      "outputs": [],
      "source": [
        "# ── 1) Prompt embedding function ───────────────────────────────────────────────\n",
        "def embed_prompt(prompt: str,\n",
        "                 model: SentenceTransformer = model) -> np.ndarray:\n",
        "    \"\"\"\n",
        "    Turn a text prompt into a 384‑dim embedding using the same model\n",
        "    you used for your chunks.\n",
        "    \"\"\"\n",
        "    v = model.encode([prompt])\n",
        "    return v[0]\n",
        "\n",
        "# ── 2) Method to find the BMU index for a new vector ───────────────────────────\n",
        "def find_bmu_for_vector(vec: np.ndarray, som_model) -> int:\n",
        "    \"\"\"\n",
        "    Given a 1×D vector `vec`, find its Best Matching Unit in `som_model`\n",
        "    without retraining. This matches what SOMPY does internally:\n",
        "\n",
        "      1) Normalize `vec` with the SAME mean/std you used on the training data.\n",
        "      2) Compute Euclidean distance from `vec` to every neuron weight.\n",
        "      3) Return the index of the closest neuron (the BMU).\n",
        "    \"\"\"\n",
        "    # 1) Ensure vec is shape (1, D)\n",
        "    vec = vec.reshape(1, -1)\n",
        "\n",
        "    # 2) Normalize using the training-data statistics\n",
        "    #    normalize_by(raw_data, data_to_normalize) scales `data_to_normalize`\n",
        "    #    by the mean/std of `raw_data` (see VarianceNormalizer in normalization.py) :contentReference[oaicite:0]{index=0}\n",
        "    normed_vec = som_model._normalizer.normalize_by(som_model.data_raw, vec)\n",
        "\n",
        "    # 3) Compute distances to all neuron weights (shape: [n_neurons, D])\n",
        "    weights = som_model.codebook.matrix\n",
        "    dists = np.linalg.norm(weights - normed_vec, axis=1)\n",
        "\n",
        "    # 4) Return the BMU index\n",
        "    return int(np.argmin(dists))\n",
        "\n",
        "# ── 3) (Optional) Helper to get neighbor BMU indices in a 2D grid ─────────────\n",
        "def get_neighbor_bmus(bmu_idx: int,\n",
        "                      grid_shape: tuple[int,int],\n",
        "                      radius: int = 1) -> set[int]:\n",
        "    \"\"\"\n",
        "    Given the flattened BMU index and grid_shape=(n_rows, n_cols),\n",
        "    return the set of BMU indices within `radius` (including the center).\n",
        "    \"\"\"\n",
        "    n_rows, n_cols = grid_shape\n",
        "    r, c = divmod(bmu_idx, n_cols)\n",
        "    neighbors = set()\n",
        "    for dr in range(-radius, radius+1):\n",
        "        for dc in range(-radius, radius+1):\n",
        "            rr, cc = r+dr, c+dc\n",
        "            if 0 <= rr < n_rows and 0 <= cc < n_cols:\n",
        "                neighbors.add(rr * n_cols + cc)\n",
        "    return neighbors\n",
        "\n",
        "# ── 4) Retrieval function ──────────────────────────────────────────────────────\n",
        "def retrieve_relevant_chunks(\n",
        "    prompt: str,\n",
        "    chunks: list[str],\n",
        "    embeddings: np.ndarray,\n",
        "    bmu_indices: np.ndarray,\n",
        "    som_model,\n",
        "    grid_shape: tuple[int,int],\n",
        "    neighbor_radius: int = 0,\n",
        "    rerank_top_k: int = 5\n",
        ") -> list[tuple[str, float]]:\n",
        "    \"\"\"\n",
        "    1. Embed the prompt\n",
        "    2. Find its BMU (and optionally neighbors)\n",
        "    3. Collect all chunks assigned to those BMUs\n",
        "    4. Rerank them by cosine similarity to the prompt embedding\n",
        "    5. Return the top `rerank_top_k` as (chunk, score)\n",
        "    \"\"\"\n",
        "\n",
        "    # a) Embed prompt and find BMU\n",
        "    q_vec = embed_prompt(prompt)\n",
        "    prompt_bmu = find_bmu_for_vector(q_vec, som_model)\n",
        "\n",
        "    # b) Decide which BMUs to consider\n",
        "    bmus_to_use = {prompt_bmu}\n",
        "    if neighbor_radius > 0:\n",
        "        bmus_to_use |= get_neighbor_bmus(prompt_bmu, grid_shape, neighbor_radius)\n",
        "\n",
        "    # c) Gather candidate chunks + their embeddings\n",
        "    candidates = []\n",
        "    for chunk, emb, bmu in zip(chunks, embeddings, bmu_indices):\n",
        "        if bmu in bmus_to_use:\n",
        "            candidates.append((chunk, emb))\n",
        "\n",
        "    # d) Rerank by cosine similarity\n",
        "    def cosine(a, b):\n",
        "        return np.dot(a, b) / (np.linalg.norm(a) * np.linalg.norm(b))\n",
        "\n",
        "    scored = [(chunk, cosine(q_vec, emb)) for chunk, emb in candidates]\n",
        "    # sort descending by score\n",
        "    scored.sort(key=lambda x: x[1], reverse=True)\n",
        "\n",
        "    # e) Return top K\n",
        "    return scored[:rerank_top_k]"
      ]
    },
    {
      "cell_type": "code",
      "execution_count": null,
      "metadata": {
        "colab": {
          "base_uri": "https://localhost:8080/"
        },
        "id": "A1yc3op-Furg",
        "outputId": "987a952b-3015-42a5-d7e2-fdd447085245"
      },
      "outputs": [
        {
          "name": "stdout",
          "output_type": "stream",
          "text": [
            "[0.667]\tLevel 51 Defines the term computer operating system OS and investigates its need in computer systems Time 04 periods Learning Outcomes  Defines the computer operating system  Briefly describes the evolution of OS  Identifies the main functions and the abstractions directories files and data provided by the operating system to the user  Describes how the operating system manages the resources of a computer  Classifies the operating systems based on their users and tasks Contents  Introduction to computer Operating System  Evaluation of OS  Main functions of an operating system o providing interfaces o Process management o Resource management o Security and protection  Classification of operating systems o Single user  single task o Single user  multi task o Multi user  multi task o Multithreading o Real time o Time sharing systems Concepts and terms to be highlighted  Definition of operating system  Main functions of operating system  Classification of operating systems Guidance for lesson plans  Discussion on the need of computer operating systems  Discussion on the main functionality of computer operating systems  Discuss and demonstrate the types of operating systems Guidance for assessments and evaluations 123  Divide the class into groups and provide the topics need of OS main functions of OS Types of OS etc to each group ask them to prepare presentation and present it Quality inputs Computers OS CDs or DVDs Internet facility Reading Material Introduction to Computer operating system An operating system OS is a system software that provides a virtual machinehides hardware details provides an interface to applications and end users manages computing resources keeps track of resource usage grantsrevokes permissions for resources and executes application software Evolution of Operating System 1 No OS late 1940s  mid 1950s  Serial Processing  processed programs one after another  Single user system  ProgrammerUser directly interacted with the hardware  No operating system  Programs loaded directly into computer  Machines run from a console with display lights toggle switches 124 Features  Manual Program Scheduling  uniprogramming  processor sat idle when loading programs\n",
            "[0.523]\tResource management o Security and protection  Classification of operating systems o Single user  single task o Single user  multi task o Multi user  multi task o Multithreading o Real time o Time sharing systems functions and the abstractions directories files and data provided by the operating system to the user  Describes how the operating system manages the resources of a computer  Classifies the operating systems based on their users and tasks 52 Explores how an operating system manages directoriesfolders and files in computers  File types o Need for file types exe jpg txt etc  Directory and file organization o File hierarchy o File systems  FAT etc  File security o Passwords and access privileges  File storage management o Storage allocation  Contiguous allocation  Linked allocation  Indexed allocation  Defragmentation  Maintenance of secondary storage o Need and outcome of disk formatting  Describes files and directories  Briefly describes the need of disk formatting  Identifies the need for file types  Lists attributes of file and directories  Describes the structure of the file systems  Illustrates the organization of files and directories  Briefly describes the methods used in file security  Briefly describes how 6 14 Competency Competency Level Contents Learning outcomes Periods an operating system manages file security  Briefly explains o Contiguous allocation o Linked allocation o Indexed allocation  Describes defragmentation and explains how it occurs 53 Explores how an operating system manages processes in computers  Definition of process  Interrupts and interrupts handling  Process management  Process states  Process Transitions  Process control block  Context switching  Process schedulers  Explains processes  Lists the operating system tasks when a process is created  Lists the types of processes  Lists the process states  Explains process termination  Distinguishes a process and a program  Explains process states using the seven state process transition diagrams  Describes process schedulers and scheduling policies  Compares long short\n",
            "[0.436]\tused to restrict access to specific files to approved users 129 File Security  Passwords  Access privileges Authentication Authentication refers to identifying each user of the system and associating the executing programs with those users It is the responsibility of the Operating System to create a protection system which ensures that a user who is running a particular program is authentic Operating Systems generally identifies authenticates users using following three ways  Username  Password  User need to enter a registered username and password with Operating system to login into the system  User attribute  fingerprint eye retina pattern signature  User need to pass hisher attribute via designated input device used by operating system to login into the system Disk Fragmentation Fragmentation is the unintentional division of Disk into many small free areas that cannot be used effectively due to scattered storage of file fragments Defragmentation Defragmentation is a process that locates and eliminates file fragments by rearranging them Before Defragmentation After Defragmentation Source httpswwwauslogicscomenarticlesdefragmentation File Storage Management  Space Allocation Files are allocated disk spaces by operating system Operating systems deploy following three main ways to allocate disk space to files o Contiguous Allocation o Linked Allocation o Indexed Allocation Contiguous Allocation Allocate disk space as a collection of adjacentcontiguous blocks This technique needs to keep track of unused disk space 130 Features  Simple  Easy Access  File size is not known at the time of creation  Extending file size is difficult  External fragmentation free unusable space between allocation Linked Allocation Inside each block a link is maintained to point to where the next block of the file is Features  No external fragmentation  Files can grow easily  Many seek are required to access file data Example MSDOS FAT file system 131 Indexed Allocation Creates a table of pointersindex at the time of the file creation This table is modified as new blocks are allocated for the file or removed from the file The index table is also saved in a blocks Example  UNIX\n",
            "[0.347]\tdescribes the methods used in file security  Briefly describes how an operating system manages file security  Briefly explains o Contiguous allocation o Linked allocation and o Indexed allocation  Describes defragmentation and explains how it occurs Contents  File types o Need for file types exe jpg txt etc  Directory and file organization o File hierarchy o File systems  FAT etc  File security o Passwords and access privileges  File storage management o Storage allocation o Contiguous allocation o Linked allocation o Indexed allocation  Defragmentation  Maintenance of secondary storage o Need and outcome of disk formatting Concepts and terms to be highlighted  Different file types with their extension  File storage management and storage allocations  Needs for maintenance of secondary storage 127 Guidance for lesson plans  Discuss on files and directories  Group the students and provide them various types of files and ask the group them and present their findings  Then discuss the file types  Discuss the file storage management and file storage allocation  Discuss the need for maintenance of secondary storage Guidance for assessments and evaluations  Divide the class into groups and provide assignments to collect various files and group them according to the types and ask them develop presentation and present them Quality inputs  Computers Internet facility a collection of different types of files Reading Material Files A file is a named collection of related information usually a sequence of bytes A file can be viewed in two different ways  Logical programmers view how the users see the file  Liners collection of records  Image File  cellspixels of intensity values  Linear sequence of bytes  Physical operating system view how the file is stored on secondary storage  Many possibilities not necessarily contiguous File Attributes Each file has an associated collection of informationattributes  file name  type eg source data executable  Owner  locations on the secondary storage  organization eg sequential indexed random  access permissions  who is permitted to readwritedelete data in the file  time and date of creation modification last access  file size 128\n"
          ]
        }
      ],
      "source": [
        "# ── 5) Example usage ───────────────────────────────────────────────────────────\n",
        "def som_retrieve():\n",
        "    prompt = \"Describe the evolutions of Operating Systems\"\n",
        "    grid_shape = (20, 20)   # match your SOMFactory mapsize\n",
        "    results = retrieve_relevant_chunks(\n",
        "        prompt,\n",
        "        chunks,\n",
        "        embeddings,\n",
        "        bmu_indices,\n",
        "        sm,               # trained SOM model\n",
        "        grid_shape,\n",
        "        neighbor_radius=1,\n",
        "        rerank_top_k=5\n",
        "    )\n",
        "\n",
        "    for txt, score in results:\n",
        "        # print(f\"[{score:.3f}]\\t{txt[:80]}…\")\n",
        "        print(f\"[{score:.3f}]\\t{txt}\")\n",
        "\n",
        "som_retrieve()"
      ]
    },
    {
      "cell_type": "markdown",
      "metadata": {
        "id": "zRSmTOv_3Nmk"
      },
      "source": [
        "# COSINE Retrieval"
      ]
    },
    {
      "cell_type": "code",
      "execution_count": null,
      "metadata": {
        "colab": {
          "base_uri": "https://localhost:8080/"
        },
        "collapsed": true,
        "id": "LXuvN2uAvKAP",
        "outputId": "06298c9c-aa4a-4fe5-8624-73e284f9859d"
      },
      "outputs": [
        {
          "data": {
            "text/plain": [
              "[array([0,\n",
              "        'Information and Communication Technology Teachers Guide Grade 12 Effective from 2017 Department of Information Technology National Institute of Education Maharagama Sri Lanka wwwnielk Information and Communication Technology Grade 12  Teachers Guide  National Institute of Education First print 2017 ISBN Department of Information Technology Faculty of Science and Technology National Institute of Education Maharagama wwwnielk Printed by i CONTENTS Page No 10 Message from the Director General ii 20 Message from the Deputy Director General iii 30 Curriculum Committee ivv 40 Introduction vi 50 Common National Goals vii 60 Basic Competencies viiix 70 Objectives of the Subject xi 80 Proposed number of periods for each units xii 90 Syllabus 1  27 100 Learning Teaching process 28 191 110 School Policies and Programs 192 120 Assessment and Evaluation 193 ii Message from the Director General With the primary objective of realizing the National Educational Goals recommended by the National Education Commission the then prevalent content based curriculum was modernized and the first phase of the new competency based curriculum was introduced to the eight year curriculum cycle of the primary and secondary education in Sri Lanka in the year 2007 The second phase of the curriculum cycle thus initiated was introduced to the education system in the year 2015 as a result of a curriculum rationalization process based on research findings and various proposals made by stake holders Within this rationalization process the concepts of vertical and horizontal integration have been employed in order to build up competencies of students from foundation level to higher levels and to avoid repetition of subject content in various subjects respectively and furthermore to develop a curriculum that is implementable and student friendly The new Teachers Guides have been introduced with the aim of providing the teachers with necessary guidance for planning lessons engaging students effectively in the learning teaching process and to make Teachers Guides will help teachers to be more effective within the classroom Further the present Teachers Guides have given the',\n",
              "        array([-5.39548555e-03,  1.79969072e-02, -7.06297532e-02, -4.87130843e-02,\n",
              "               -4.30283733e-02,  2.33800840e-02, -6.55836612e-02,  1.00598283e-01,\n",
              "               -1.18471663e-02,  4.72120941e-02,  7.88190812e-02,  7.36460835e-02,\n",
              "                5.08441292e-02,  5.82735278e-02,  6.66672736e-02, -3.98412198e-02,\n",
              "               -2.69062109e-02, -5.60202589e-03, -6.04122877e-03, -3.87186781e-02,\n",
              "                4.07242440e-02,  7.79178590e-02,  2.57023796e-02, -1.11284228e-02,\n",
              "               -7.94367492e-02,  3.43054831e-02,  1.18495654e-02, -9.65563357e-02,\n",
              "               -2.23377235e-02, -3.57125811e-02,  5.57400696e-02,  4.72451048e-03,\n",
              "                3.12522613e-02,  6.01475202e-02, -1.54767996e-02,  1.70795359e-02,\n",
              "                4.67977040e-02,  6.78171311e-03, -1.98782235e-02, -8.61181412e-03,\n",
              "               -8.50613788e-02, -1.12891302e-01, -6.64512590e-02, -2.57737804e-02,\n",
              "                2.92350985e-02, -3.07656694e-02, -8.62392187e-02, -5.73462918e-02,\n",
              "               -7.05561712e-02,  4.15106118e-02, -5.16828820e-02, -5.16943522e-02,\n",
              "               -2.17195861e-02, -2.38478575e-02, -4.71901186e-02,  3.90370376e-03,\n",
              "               -1.75272450e-02,  7.86893740e-02, -1.22645898e-02, -4.65135016e-02,\n",
              "               -4.63714153e-02,  4.04540449e-02, -8.09180960e-02,  1.07112136e-02,\n",
              "                2.15846393e-02, -5.65762296e-02,  1.62980310e-03,  7.71519244e-02,\n",
              "                4.10061851e-02,  3.27476449e-02, -1.20211039e-02,  4.32784483e-03,\n",
              "                2.91075930e-02, -1.63225494e-02, -9.54963733e-03,  1.41797597e-02,\n",
              "               -1.71506181e-02,  6.73878193e-02,  4.55922680e-03, -5.59396967e-02,\n",
              "                3.97375748e-02,  5.06745502e-02, -9.87715460e-03, -4.72418591e-02,\n",
              "               -1.64232049e-02, -2.70039309e-03, -2.81230640e-02,  6.19834587e-02,\n",
              "               -8.69560149e-03, -9.22029242e-02,  1.06412739e-01,  1.08069752e-03,\n",
              "                2.08276585e-02,  9.57877040e-02,  6.81639314e-02, -4.40810025e-02,\n",
              "               -7.37517774e-02, -3.39675099e-02,  4.39184085e-02,  3.72778252e-03,\n",
              "               -3.89833860e-02, -2.72726174e-02, -3.37559879e-02, -1.46798277e-02,\n",
              "               -9.59048346e-02, -9.44669172e-02,  3.51546630e-02,  9.81297251e-03,\n",
              "               -7.32680922e-03, -1.01552583e-01, -7.99726993e-02, -6.07639644e-03,\n",
              "               -3.27788480e-02, -6.38399050e-02,  2.06673015e-02,  2.52515674e-02,\n",
              "                2.38322169e-02,  9.81489643e-02,  4.89719920e-02,  1.35673233e-03,\n",
              "               -9.49602388e-03,  1.31171884e-03,  1.26747629e-02, -6.77961931e-02,\n",
              "                1.85800437e-02, -7.68801123e-02,  5.06234057e-02,  1.12803039e-32,\n",
              "                6.21793531e-02,  3.15732285e-02, -4.50733723e-03,  2.45127641e-02,\n",
              "               -4.32419740e-02, -3.38218063e-02,  3.45101133e-02, -4.97513339e-02,\n",
              "                2.05413960e-02, -9.70891118e-03,  3.86909395e-02,  7.23881796e-02,\n",
              "               -2.97000650e-02,  5.43435439e-02,  1.00096598e-01, -2.93443240e-02,\n",
              "               -1.07674124e-02,  5.65340370e-02,  1.73061006e-02,  2.46296301e-02,\n",
              "               -1.88052915e-02, -1.55589050e-02,  1.03910044e-01, -5.09049520e-02,\n",
              "                5.48960045e-02,  6.52796552e-02,  3.14307809e-02,  3.33411284e-02,\n",
              "               -4.65988331e-02,  2.79000215e-02,  1.00082839e-02, -8.16978440e-02,\n",
              "               -6.97231218e-02,  6.15228992e-03,  3.47273834e-02, -8.88260361e-03,\n",
              "                5.33226989e-02, -5.08657731e-02,  3.47553156e-02, -2.98753064e-02,\n",
              "                3.33038680e-02, -5.15595153e-02,  5.67777418e-02,  5.28174676e-02,\n",
              "                1.00136558e-02, -6.00653654e-03,  6.03249930e-02,  8.84329602e-02,\n",
              "                1.28474431e-02,  6.95798099e-02, -4.09401990e-02, -8.56756698e-03,\n",
              "               -3.38226147e-02, -1.00319907e-01,  3.97706255e-02,  3.69155742e-02,\n",
              "               -2.17140839e-02,  6.58769086e-02, -1.59484020e-03, -2.35036621e-03,\n",
              "               -2.55731195e-02, -3.59111167e-02, -4.07497399e-02,  1.95051003e-02,\n",
              "                2.34121047e-02, -6.53144568e-02, -3.47507410e-02, -3.50444950e-02,\n",
              "                1.19881824e-01, -1.27198845e-01, -6.51200190e-02, -1.03577428e-01,\n",
              "               -6.04673894e-03,  4.56161983e-02, -3.31940991e-03, -2.22438052e-02,\n",
              "               -2.27097850e-02, -2.40367297e-02, -8.23634677e-03,  2.80530490e-02,\n",
              "               -1.84545312e-02,  5.61997518e-02, -7.95273948e-03, -1.30771071e-01,\n",
              "                6.15187921e-02, -1.63040757e-02,  2.08870675e-02,  1.62907932e-02,\n",
              "                3.53357308e-02, -3.45791578e-02, -9.72128566e-03,  9.70967114e-03,\n",
              "                2.19155904e-02,  1.04993723e-01,  1.15133382e-01, -1.20408149e-32,\n",
              "                4.90552634e-02,  7.15465471e-02, -1.31406263e-01,  7.41500929e-02,\n",
              "                1.29921697e-02,  2.21100338e-02,  7.46779665e-02, -3.78638529e-03,\n",
              "               -3.71399038e-02, -2.96645556e-02,  2.36777477e-02, -3.83637585e-02,\n",
              "               -4.15205322e-02,  9.63720120e-03, -4.54323180e-02,  3.38766575e-02,\n",
              "                3.20979161e-03, -4.78297332e-03, -2.59915460e-03, -1.20099718e-02,\n",
              "                4.55960371e-02,  1.93533860e-02, -1.25294387e-01,  1.74142681e-02,\n",
              "                5.13228476e-02, -6.34093508e-02, -3.43765318e-02, -7.36587634e-03,\n",
              "                5.20938775e-03,  7.50384256e-02,  9.61590633e-02, -1.02765754e-01,\n",
              "               -1.03775216e-02,  1.14445560e-01, -5.89762963e-02, -5.69561198e-02,\n",
              "                6.72610402e-02, -5.27249947e-02, -4.77973372e-02,  1.37982592e-01,\n",
              "                1.67955942e-02,  2.46247239e-02,  2.06941739e-02, -5.30991405e-02,\n",
              "               -1.86088476e-02, -3.22584882e-02,  8.13418999e-02, -2.19431892e-03,\n",
              "               -3.98553116e-03, -6.93022609e-02,  1.01338923e-02,  3.86844911e-02,\n",
              "                2.70824693e-02, -7.73988664e-02,  1.12019844e-01,  1.89193059e-02,\n",
              "                2.05745418e-02, -2.44120061e-02, -2.67303977e-02, -5.04697338e-02,\n",
              "                1.44652322e-01, -1.82611290e-02, -1.67815946e-02, -8.81444942e-03,\n",
              "                6.61748424e-02, -3.41995410e-03,  5.57348020e-02,  5.34574948e-02,\n",
              "                1.60414949e-02, -6.85776919e-02, -4.79413867e-02, -5.77032231e-02,\n",
              "                8.86467379e-03, -1.32520482e-01, -6.50878400e-02, -6.39833063e-02,\n",
              "               -5.41980825e-02,  1.98007766e-02, -2.30830591e-02,  1.87144335e-02,\n",
              "               -5.00975288e-02, -4.37300615e-02, -1.66522227e-02, -4.82209884e-02,\n",
              "                1.32765649e-02,  2.51792762e-02,  3.22522074e-02, -4.97795350e-04,\n",
              "                4.48413892e-03, -7.52067491e-02,  1.43088866e-02, -1.22954296e-02,\n",
              "                2.56394991e-03,  9.97874215e-02,  8.63963831e-03, -5.67816869e-08,\n",
              "                2.28576288e-02, -1.16850205e-01, -5.89544140e-02,  1.47627564e-02,\n",
              "                8.10336694e-02, -8.86889361e-03,  9.23577324e-03, -3.06514185e-02,\n",
              "                3.89069729e-02,  6.09596744e-02, -7.13712573e-02, -4.56136353e-02,\n",
              "               -4.07401584e-02, -7.97931477e-03,  5.53075634e-02, -9.39120911e-03,\n",
              "                3.46432738e-02,  3.46812494e-02, -1.15433969e-02, -1.17742196e-02,\n",
              "                1.48703709e-01, -4.55737934e-02, -5.74218184e-02, -3.87713537e-02,\n",
              "               -1.56952757e-02,  5.07239811e-03, -1.51779838e-02,  5.75438477e-02,\n",
              "                2.70609576e-02,  3.41043510e-02,  6.09083520e-03, -4.58166096e-03,\n",
              "               -2.25331495e-03, -9.99129564e-02, -1.88448187e-02,  4.14519385e-03,\n",
              "                9.78476554e-02,  6.01336583e-02,  9.59468633e-02,  2.88317855e-02,\n",
              "               -6.59167692e-02, -1.97984846e-04,  4.85062636e-02,  5.42409196e-02,\n",
              "                5.24958670e-02,  1.67589337e-02, -7.56914541e-02,  1.91804208e-02,\n",
              "               -1.02743665e-02, -2.54088417e-02, -5.26128672e-02,  6.14111591e-03,\n",
              "               -4.22331970e-03, -2.63312049e-02,  2.89760996e-02,  3.01724095e-02,\n",
              "               -1.37853893e-02, -4.75758500e-02, -9.16788653e-02, -5.11645935e-02,\n",
              "               -5.93300071e-03,  1.65469106e-02, -2.60851663e-02, -2.04396825e-02],\n",
              "              dtype=float32)                                                       ],\n",
              "       dtype=object),\n",
              " array([1,\n",
              "        'new Teachers Guides have been introduced with the aim of providing the teachers with necessary guidance for planning lessons engaging students effectively in the learning teaching process and to make Teachers Guides will help teachers to be more effective within the classroom Further the present Teachers Guides have given the necessary freedom for the teachers to select quality inputs and activities in order to improve student competencies Since the Teachers Guides do not place greater emphasis on the subject content prescribed for the relevant grades it is very much necessary to use these guides along with the text books compiled by the Educational Publications Department if Guides are to be made more effective The primary objective of this rationalized new curriculum the new Teachers Guides and the new prescribed texts is to transform the student population into a human resource replete with the skills and competencies required for the world of work through embarking upon a pattern of education which is more student centered and activity based I wish to make use of this opportunity to thank and express my appreciation to the members of the Council and the Academic Affairs Board of the NIE the resource persons who contributed to the compiling of these Teachers Guides and other parties for their dedication in this matter Dr Mrs Jayanthi Gunasekara Director General National Institute of Education iii Message from the Deputy Director General Education from the past has been constantly changing and forging forward In recent years these changes have become quite rapid The Past two decades have witnessed a high surge in teaching methodologies as well as in the use of technological tools and in the field of knowledge creation Accordingly the National Institute of Education is in the process of taking appropriate and timely steps with regard to the education reforms of 2015 It is with immense pleasure that this Teachers Guide where the new curriculum has been planned based on a thorough study of the changes that have taken place in the global context adopted in terms of local needs based on a studentcentered learningteaching approach is presented to you teachers who serve as the pilots of the schools system An instructional manual of',\n",
              "        array([-8.84345174e-02, -5.22240996e-03, -4.13554609e-02,  9.75611713e-03,\n",
              "               -5.92627116e-02, -1.32207451e-02,  3.23250294e-02,  5.50604910e-02,\n",
              "                5.75148268e-03,  2.47654431e-02,  6.49628565e-02,  7.63877407e-02,\n",
              "               -9.81848128e-03,  4.47200425e-02, -5.62749757e-03,  3.37266270e-03,\n",
              "               -3.19097638e-02,  4.22038771e-02, -6.54823035e-02, -4.55648527e-02,\n",
              "                4.11567390e-02,  6.97955936e-02, -6.72918139e-03,  1.11042168e-02,\n",
              "               -1.10096373e-01, -1.61040220e-02, -1.16608692e-02, -1.07175738e-01,\n",
              "                5.87171130e-03, -8.66860300e-02, -1.32834986e-02, -1.91125069e-02,\n",
              "                1.23409303e-02,  8.19213036e-03,  3.13585512e-02,  7.97613561e-02,\n",
              "                4.17124927e-02,  9.78228599e-02, -9.88063961e-03,  1.24158179e-02,\n",
              "                3.13534634e-03, -8.88586231e-03, -5.02201207e-02, -1.38719957e-02,\n",
              "                3.23514156e-02,  1.28962919e-02, -1.63587742e-02, -6.30560741e-02,\n",
              "               -4.25671190e-02,  4.47443128e-02, -1.10298142e-01, -7.34656975e-02,\n",
              "               -7.26368427e-02, -6.55282736e-02,  1.91881973e-02, -2.52701100e-02,\n",
              "               -1.23798940e-02, -3.49173904e-04, -6.86412212e-03, -8.14517066e-02,\n",
              "                1.67290140e-02,  6.94517940e-02, -6.05090782e-02, -6.46492513e-03,\n",
              "                3.26653533e-02, -8.80254656e-02, -2.04687808e-02,  5.94905429e-02,\n",
              "                1.97927766e-02, -1.32724131e-02, -3.99256796e-02, -2.96341013e-02,\n",
              "                9.90337580e-02,  2.10790932e-02,  5.82723832e-03,  5.80376238e-02,\n",
              "               -3.63077186e-02,  6.46975711e-02,  7.20648281e-03, -9.32639837e-02,\n",
              "                3.50560695e-02,  6.33349223e-03,  7.08106160e-02, -2.58487966e-02,\n",
              "               -5.39063960e-02,  2.47856304e-02, -2.48842239e-02, -3.64613310e-02,\n",
              "                6.30162731e-02, -2.36117691e-02,  6.86331242e-02,  4.08647396e-02,\n",
              "                2.55274884e-02,  4.22413349e-02, -1.19780218e-02,  1.31945880e-02,\n",
              "               -1.06751956e-01, -6.18516989e-02, -7.98263866e-03,  6.29334077e-02,\n",
              "               -3.08062620e-02,  5.53218499e-02, -9.95188020e-03, -3.03484965e-02,\n",
              "               -7.55509436e-02, -4.39949408e-02, -1.46646723e-02,  1.04429126e-02,\n",
              "               -3.27685960e-02, -9.06280149e-03, -3.14319208e-02,  5.11056930e-02,\n",
              "               -7.15977773e-02, -3.99982072e-02,  4.34281416e-02, -1.07887192e-02,\n",
              "                9.44899861e-03,  1.17657043e-01,  2.16404200e-02,  2.77478937e-02,\n",
              "               -1.86017696e-02,  4.74703405e-03, -7.48069084e-04, -4.35950868e-02,\n",
              "               -2.38130596e-02, -5.66964112e-02, -1.30859986e-02,  5.88781721e-33,\n",
              "                5.27942926e-02,  1.09547436e-01,  3.65309417e-02,  3.55465636e-02,\n",
              "               -7.36698732e-02, -5.03016151e-02,  9.12560895e-03, -1.16098206e-02,\n",
              "                2.04444886e-03, -2.62571778e-02,  1.38825588e-02,  2.44406741e-02,\n",
              "                9.18239763e-04,  9.23656765e-03, -7.44716451e-02, -4.30532545e-02,\n",
              "                1.33465184e-02,  2.07637716e-02, -3.00715249e-02,  3.92649584e-02,\n",
              "                4.26469669e-02,  7.98959006e-03,  7.32186586e-02, -1.17809244e-01,\n",
              "                6.21095896e-02,  4.53802459e-02,  3.97712328e-02,  5.67601956e-02,\n",
              "                6.93366081e-02,  1.17225172e-02,  8.30832571e-02, -7.33566582e-02,\n",
              "               -8.47806185e-02, -5.35859838e-02,  2.54416373e-02, -3.46216047e-03,\n",
              "                4.06407891e-03, -5.36149330e-02,  1.91416424e-02,  2.11938471e-02,\n",
              "               -8.57751165e-03, -2.10784618e-02,  8.97346064e-02,  1.16104838e-02,\n",
              "                1.83367939e-03,  5.23526073e-02,  6.60680905e-02,  9.59059969e-02,\n",
              "               -2.25003082e-02,  4.52034920e-03, -6.00700602e-02, -7.40558207e-02,\n",
              "               -1.54564697e-02, -3.47727053e-02,  7.70971105e-02, -4.41789366e-02,\n",
              "               -1.11808535e-02,  1.12071760e-01,  4.03847285e-02, -4.32615541e-02,\n",
              "                2.74553765e-02,  2.80189048e-02, -8.48947540e-02,  5.15299924e-02,\n",
              "                5.10600023e-02, -8.41178522e-02, -5.48577756e-02, -6.87857484e-03,\n",
              "                6.27337620e-02, -1.24873832e-01, -8.01397860e-02, -4.50889394e-02,\n",
              "                7.52525181e-02,  9.65825394e-02, -3.76963429e-02, -5.40072732e-02,\n",
              "               -4.32022884e-02, -4.13584560e-02, -2.61561782e-03, -2.64391229e-02,\n",
              "               -7.52457827e-02,  4.84533124e-02,  4.15564813e-02, -1.10009491e-01,\n",
              "                6.70893565e-02, -3.42158265e-02,  3.10904048e-02, -3.38729732e-02,\n",
              "                7.14836568e-02,  2.70564705e-02,  2.76131630e-02,  2.08594557e-02,\n",
              "               -6.10583276e-02,  1.16753489e-01,  1.71716344e-02, -5.57462070e-33,\n",
              "                8.47914964e-02,  4.31180783e-02, -5.91480359e-02,  4.01183218e-02,\n",
              "                2.88638268e-02,  3.00126839e-02, -4.03046384e-02, -2.33964473e-02,\n",
              "                4.49027978e-02, -1.38841569e-01, -3.63624021e-02, -1.07194986e-02,\n",
              "                7.72968400e-03,  4.91347462e-02, -6.44244775e-02, -2.35694312e-02,\n",
              "               -2.06494657e-03,  4.82586659e-02, -3.30472998e-02, -6.80716857e-02,\n",
              "               -3.72341312e-02,  4.27339263e-02, -1.03667684e-01,  7.19369808e-03,\n",
              "                1.20805735e-02, -1.18114334e-02,  6.01413622e-02,  1.81610473e-02,\n",
              "               -6.45515695e-02,  3.60993370e-02,  6.39341176e-02, -8.77557918e-02,\n",
              "               -4.19608317e-02,  1.40134059e-02, -6.98425099e-02, -1.65092740e-02,\n",
              "                8.49142820e-02, -1.00785363e-02, -3.37041616e-02,  1.38866827e-01,\n",
              "                3.53414156e-02,  5.09655662e-02,  2.93148030e-02, -1.11422658e-01,\n",
              "               -2.98590604e-02, -1.66619327e-02,  8.49182531e-02, -1.14275031e-02,\n",
              "                1.90799255e-02,  1.83921475e-02,  5.95353656e-02, -1.03354014e-01,\n",
              "                9.44997370e-03, -1.17757030e-01,  9.61600691e-02,  4.52294275e-02,\n",
              "                7.20645562e-02, -2.95834914e-02,  6.98401928e-02, -3.18132266e-02,\n",
              "                5.61271794e-02, -2.10678633e-02, -3.34949628e-03,  1.59847531e-02,\n",
              "                7.82981589e-02, -5.09463474e-02,  4.20824159e-04,  6.04713708e-02,\n",
              "                4.42990400e-02, -2.20113434e-02, -4.67882492e-02, -5.29224761e-02,\n",
              "                8.74434249e-04, -9.50279161e-02,  5.52716723e-04, -1.15196395e-03,\n",
              "                2.08655819e-02, -3.06755323e-02, -1.42332660e-02, -5.50491549e-03,\n",
              "                1.00191711e-02, -6.38568699e-02, -4.26128097e-02,  2.99212113e-02,\n",
              "                3.60642225e-02,  7.15563074e-02,  9.21642557e-02, -5.67089533e-04,\n",
              "                1.30109265e-02, -7.87919108e-03, -6.25006529e-03,  1.55239273e-02,\n",
              "                5.31638972e-02,  8.97385329e-02, -1.05059939e-02, -5.20585104e-08,\n",
              "                3.78847122e-02, -1.54672116e-02, -8.84153098e-02,  1.51805934e-02,\n",
              "                6.50254637e-02,  1.28760766e-02, -3.10990866e-03, -1.01857493e-02,\n",
              "               -4.42909251e-04,  8.54288265e-02,  9.86103527e-03, -7.11243413e-03,\n",
              "                1.52932974e-02, -3.17854285e-02,  1.00840092e-01,  1.56184025e-02,\n",
              "                2.48087626e-02,  2.07399838e-02, -4.64133434e-02, -7.34064654e-02,\n",
              "                1.25472352e-01, -8.00941233e-03, -7.39412829e-02, -1.19390311e-02,\n",
              "                2.90529635e-02, -1.35580348e-02,  2.68267076e-02,  1.10179530e-02,\n",
              "               -5.44978604e-02,  8.18990469e-02, -1.34662504e-03, -9.09584295e-03,\n",
              "                7.05676824e-02, -5.96298389e-02,  1.50670223e-02,  2.01916732e-02,\n",
              "               -8.53548408e-04,  1.24886902e-02,  7.21916482e-02,  1.05866477e-01,\n",
              "               -1.80910211e-02, -3.39264981e-03,  8.34039152e-02,  6.16525523e-02,\n",
              "               -2.70912107e-02, -2.58301459e-02, -5.62280556e-03,  4.31837104e-02,\n",
              "               -6.53127953e-02, -6.31135106e-02, -8.63609388e-02, -5.44445217e-02,\n",
              "                4.50402945e-02, -4.00467180e-02,  3.56873334e-03,  4.97929119e-02,\n",
              "               -5.51051041e-03, -3.23460670e-03, -4.50445227e-02, -4.50471155e-02,\n",
              "               -1.12037845e-02, -3.34681720e-02, -2.66348030e-02,  2.85320040e-02],\n",
              "              dtype=float32)                                                       ],\n",
              "       dtype=object),\n",
              " array([2,\n",
              "        'based on a thorough study of the changes that have taken place in the global context adopted in terms of local needs based on a studentcentered learningteaching approach is presented to you teachers who serve as the pilots of the schools system An instructional manual of this nature is provided to you with the confidence that you will be able to make a greater contribution using this There is no doubt whatsoever that this Teachers Guide will provide substantial support in the classroom teachinglearning process at the same time Furthermore the teacher will have a better control of the classroom with a constructive approach in selecting modern resource materials and following the guide lines given in this book I trust that through the careful study of this Teachers Guide provided to you you will act with commitment in the generation of a greatly creative set of students capable of helping Sri Lanka move socially as well as economically forward This Teachers Guide is the outcome of the expertise and unflagging commitment of a team of subject teachers and academics in the field Education While expressing my sincere appreciation for this task performed for the development of the education system my heartfelt thanks go to all of you who contributed your knowledge and skills in making this document such a landmark in the field MFSP Jayawardhana Deputy Director General Faculty of Science and Technology iv 04 Curriculum Committee Guidance and Approval Academic Affairs Board National Institute of Education Subject Coordinator Mr S Shanmugalingam Senior Lecturer National Institute of Education Resource Contributions Mr D Anura Jayalal Director Department of IT MSc PG in Ins Design PGDE BSc National Institute of Education Mr S Shanmugalingam MSc PGDE Senior Lecturer Department of Information Technology National Institute of Education Dr Damith D Karunarathna PhD Senior Lecturer UCSC University of Colombo Dr Gamini Wijerathna PhD Dean Faculty of Computing Technology University of Kalaniya Dr HKTKWijayasiriwardhanePhD Senior Lecturer University of Kelaniya',\n",
              "        array([-3.05975545e-02,  2.60735936e-02, -8.28715041e-03, -1.65457465e-03,\n",
              "                3.54572497e-02, -6.76204404e-03,  1.29335085e-02,  8.82792100e-03,\n",
              "               -4.85967696e-02,  8.16129670e-02,  6.85055256e-02,  4.89949919e-02,\n",
              "                2.00586487e-02,  4.92871702e-02, -2.09189691e-02,  1.70977470e-02,\n",
              "               -5.10655604e-02,  1.48044266e-02, -6.97320029e-02, -1.36247827e-02,\n",
              "                4.66819741e-02,  5.18602654e-02,  1.42238643e-02,  1.62004456e-02,\n",
              "               -3.85281108e-02,  3.97375785e-03,  4.30261418e-02, -6.79012239e-02,\n",
              "                5.37281949e-03, -7.49285221e-02, -1.09146023e-02,  4.54068817e-02,\n",
              "               -4.72469702e-02,  3.46601382e-02,  2.43309140e-02,  7.29738995e-02,\n",
              "                5.51494956e-03,  6.38745129e-02,  5.35563566e-02, -1.30622741e-02,\n",
              "               -5.59974127e-02, -6.36311173e-02, -3.42785716e-02, -6.92656562e-02,\n",
              "               -8.82676803e-03, -2.32758801e-02, -3.78624350e-02, -7.77166188e-02,\n",
              "               -5.88095151e-02,  2.66760718e-02, -6.92454278e-02, -1.04468636e-01,\n",
              "               -5.41733354e-02, -1.18079238e-01, -2.39882823e-02, -9.11567453e-03,\n",
              "               -6.29277853e-03,  1.76235307e-02, -3.27306986e-02, -7.61935860e-02,\n",
              "               -5.68437064e-03,  5.23846410e-02, -1.06304310e-01,  3.93734686e-02,\n",
              "                4.16924246e-02, -9.64613408e-02, -4.11080383e-03,  9.35685858e-02,\n",
              "                1.85845084e-02, -2.39005722e-02, -3.63878235e-02,  7.57234590e-03,\n",
              "                8.22161883e-02, -7.65752560e-03, -3.38315293e-02,  3.25882770e-02,\n",
              "               -1.56800319e-02,  7.38223195e-02,  7.39456043e-02, -6.67381957e-02,\n",
              "                9.39665511e-02,  3.45604979e-02,  1.91597883e-02, -7.31652305e-02,\n",
              "               -2.58357227e-02, -5.24097048e-02,  2.03668736e-02, -3.24440897e-02,\n",
              "                6.68870881e-02, -5.94292842e-02,  5.34161776e-02,  2.41555106e-02,\n",
              "                4.05588038e-02,  1.59938317e-02,  3.77322473e-02, -7.48825865e-03,\n",
              "               -7.25643784e-02, -2.85270941e-02,  6.16569584e-03,  5.24071567e-02,\n",
              "               -3.06296609e-02,  5.70239313e-02, -9.94022284e-03, -3.59809175e-02,\n",
              "               -8.47203061e-02, -6.89878389e-02, -5.82698286e-02,  1.68886092e-02,\n",
              "                9.78686009e-03, -6.70085624e-02, -9.45598409e-02,  1.97655745e-02,\n",
              "               -9.15277153e-02, -2.04007346e-02,  4.11088578e-02,  3.08755739e-03,\n",
              "                3.65642905e-02,  5.04829511e-02,  1.84871629e-02, -4.04003486e-02,\n",
              "               -3.76097448e-02,  1.09003847e-02, -1.39351049e-02, -7.13237524e-02,\n",
              "               -4.20468561e-02, -8.25046822e-02,  2.06061117e-02,  6.83131342e-33,\n",
              "                8.61455873e-02,  5.95347695e-02, -1.27579188e-02,  7.71566480e-02,\n",
              "               -5.85131859e-03, -6.03841953e-02,  1.68492142e-02, -2.75394488e-02,\n",
              "               -6.10859208e-02, -3.04781441e-02,  8.43023732e-02,  4.80958112e-02,\n",
              "                1.05707981e-02,  6.87370822e-02, -2.89431456e-02, -6.40161410e-02,\n",
              "               -6.89054048e-03, -3.02578863e-02,  2.95303739e-03,  8.55464861e-02,\n",
              "               -2.79503260e-02,  1.02753807e-02,  8.75224099e-02, -8.00763890e-02,\n",
              "                2.49232110e-02,  3.72418612e-02,  4.89980206e-02,  2.63592824e-02,\n",
              "                2.33182274e-02,  3.91141772e-02,  7.95897096e-02, -5.25848009e-02,\n",
              "               -1.31542623e-01, -4.77801673e-02,  2.04841513e-02, -2.33594831e-02,\n",
              "               -2.57541728e-03, -8.67817029e-02,  6.72082929e-03, -2.07945816e-02,\n",
              "                3.83889191e-02, -6.65742606e-02,  1.46163860e-02,  4.18480150e-02,\n",
              "                3.89265339e-03,  5.78159690e-02,  9.62027162e-02,  8.38684738e-02,\n",
              "                7.53934681e-03,  8.19877982e-02, -6.26254678e-02, -4.19768281e-02,\n",
              "               -5.96196838e-02, -1.02353334e-01,  7.24478140e-02, -1.58034284e-02,\n",
              "                1.65238157e-02,  1.18430473e-01,  2.26049386e-02, -9.16366428e-02,\n",
              "               -4.13344949e-02, -3.46818864e-02, -6.50307089e-02,  3.25999372e-02,\n",
              "                4.97386754e-02, -6.82783797e-02, -1.55027322e-02, -5.31094559e-02,\n",
              "                6.78907707e-02, -1.37438491e-01, -5.29539622e-02, -4.31141853e-02,\n",
              "                4.52083275e-02,  9.23655257e-02, -2.39323056e-03, -5.29093249e-03,\n",
              "               -7.71480612e-03, -2.63231732e-02,  1.87913273e-02,  2.53405999e-02,\n",
              "               -6.93956167e-02,  2.00682767e-02, -3.20997462e-02, -9.06792581e-02,\n",
              "                9.25537478e-03, -3.95901836e-02,  5.67412525e-02, -3.18298489e-02,\n",
              "                1.12113185e-01,  1.54881645e-02,  1.18608586e-02, -2.02217381e-02,\n",
              "               -1.75756309e-03,  8.05294961e-02,  1.23687750e-02, -8.53644071e-33,\n",
              "                9.29607674e-02,  4.76648696e-02, -5.24738543e-02,  7.88843185e-02,\n",
              "                6.27714843e-02,  1.70146320e-02, -2.36386880e-02, -2.30353102e-02,\n",
              "                3.69840749e-02, -7.31398389e-02, -3.24690081e-02, -4.26779781e-03,\n",
              "                1.14520791e-03,  3.51902395e-02, -7.98006877e-02, -1.02447430e-02,\n",
              "                4.75680865e-02,  9.42518376e-03, -2.92635411e-02, -9.45235323e-03,\n",
              "               -1.14575736e-02,  8.68328437e-02, -3.61846983e-02,  4.81936596e-02,\n",
              "                4.10520025e-02,  4.14060941e-03, -9.54902265e-03,  2.73939501e-02,\n",
              "               -6.26424253e-02,  3.00560873e-02,  9.94404927e-02, -4.71207462e-02,\n",
              "               -1.11533422e-02,  7.26004615e-02, -1.04407437e-01,  1.56993624e-02,\n",
              "                1.03813730e-01, -1.61390100e-02, -7.09996149e-02,  1.20492063e-01,\n",
              "                2.22143736e-02,  1.89084914e-02, -1.21542895e-02, -7.90224075e-02,\n",
              "               -1.70769896e-02, -5.47769591e-02,  7.08600134e-02, -5.45362234e-02,\n",
              "               -2.47605443e-02, -6.79730922e-02,  5.14141023e-02, -2.49904562e-02,\n",
              "                1.44960042e-02, -1.22360542e-01,  1.48887917e-01,  6.58789650e-02,\n",
              "                9.56634060e-02, -3.68966646e-02,  1.32984957e-02, -3.23208980e-02,\n",
              "                5.07621095e-02,  2.38894597e-02, -1.60353463e-02,  2.17914563e-02,\n",
              "                7.55760744e-02, -3.78913917e-02,  4.77262139e-02,  3.26038003e-02,\n",
              "               -4.18214919e-03, -3.37258354e-02, -2.62687523e-02, -1.61813907e-02,\n",
              "               -1.48710003e-02, -6.18470833e-02,  9.77597572e-03, -4.16360572e-02,\n",
              "               -1.70953646e-02, -4.27542180e-02, -1.48954075e-02, -1.65154785e-02,\n",
              "                2.83058872e-03, -6.42921701e-02, -2.80415937e-02, -8.60854164e-02,\n",
              "                5.29264919e-02,  1.09854620e-02,  2.40497831e-02,  1.07139833e-02,\n",
              "                3.20456177e-02, -5.03410511e-02, -2.49718726e-02,  1.05561772e-02,\n",
              "                1.31069943e-02, -2.20660726e-03,  4.82026823e-02, -6.10995059e-08,\n",
              "                7.78762698e-02, -4.82538939e-02, -5.88989519e-02,  3.49942334e-02,\n",
              "                4.40764017e-02, -3.21489125e-02,  2.74573881e-02,  2.44806316e-02,\n",
              "               -9.52415448e-03,  1.05250955e-01, -4.42298502e-02, -1.02083376e-02,\n",
              "                8.96802638e-03,  3.63611430e-02,  6.73070401e-02,  2.69585140e-02,\n",
              "                4.00761552e-02,  2.81015728e-02, -6.07320592e-02, -9.25784111e-02,\n",
              "                1.49084434e-01, -1.83275919e-02, -3.46824341e-02, -1.41182840e-02,\n",
              "                7.39070168e-03, -8.80390592e-03, -5.30774472e-03,  6.70927167e-02,\n",
              "               -8.14384967e-02,  9.63997561e-03, -3.75170186e-02,  1.92821473e-02,\n",
              "               -7.39909522e-03, -4.01951075e-02, -7.74268666e-03,  2.60968320e-02,\n",
              "                8.00510794e-02, -1.13888802e-02,  5.80760762e-02,  8.88469592e-02,\n",
              "               -6.30374923e-02,  1.45197366e-04,  2.65141334e-02,  6.38020411e-02,\n",
              "               -1.94343422e-02,  8.07693508e-03, -3.99437808e-02,  1.83888562e-02,\n",
              "               -7.29270205e-02, -2.61176266e-02, -5.89770339e-02, -2.13416237e-02,\n",
              "                1.02435257e-02, -5.03532728e-03,  1.70321073e-02,  4.48116772e-02,\n",
              "               -4.53682542e-02,  1.96890160e-02, -1.68242361e-02, -4.78304625e-02,\n",
              "                2.97330058e-04,  1.98992062e-02, -8.35441574e-02, -2.62406822e-02],\n",
              "              dtype=float32)                                                       ],\n",
              "       dtype=object)]"
            ]
          },
          "execution_count": 30,
          "metadata": {},
          "output_type": "execute_result"
        }
      ],
      "source": [
        "local_data = [\n",
        "    np.array([idx, chunk, emb], dtype=object)\n",
        "    for idx, (chunk, emb) in enumerate(zip(chunks, embeddings))\n",
        "]\n",
        "local_data[:3]"
      ]
    },
    {
      "cell_type": "code",
      "execution_count": null,
      "metadata": {
        "id": "Xs9lgn_js95M"
      },
      "outputs": [],
      "source": [
        "# cursor = conn.cursor()\n",
        "\n",
        "def cosine_similarity(a, b):\n",
        "    return np.dot(a, b) / (np.linalg.norm(a) * np.linalg.norm(b))\n",
        "\n",
        "def search_similar_chunks_local(query: str,\n",
        "                                data_array: list[np.ndarray],\n",
        "                                top_k: int = 5):\n",
        "    query_embedding = model.encode(query)\n",
        "    # cursor.execute(\"SELECT id, text_chunk, embedding FROM document_embeddings\")\n",
        "    # results = cursor.fetchall()\n",
        "    results = data_array\n",
        "    scored = []\n",
        "    for _id, chunk, emb in results:\n",
        "        sim = cosine_similarity(query_embedding, np.array(emb))\n",
        "        scored.append((sim, chunk))\n",
        "    scored.sort(reverse=True)\n",
        "    return [chunk for _, chunk in scored[:top_k]]"
      ]
    },
    {
      "cell_type": "code",
      "execution_count": null,
      "metadata": {
        "colab": {
          "base_uri": "https://localhost:8080/"
        },
        "id": "XNr3MkZws-Cl",
        "outputId": "65d6f757-9866-4d3e-8c4d-cb08cf51ef96"
      },
      "outputs": [
        {
          "name": "stdout",
          "output_type": "stream",
          "text": [
            "Level 51 Defines the term computer operating system OS and investigates its need in computer systems Time 04 periods Learning Outcomes  Defines the computer operating system  Briefly describes the evolution of OS  Identifies the main functions and the abstractions directories files and data provided by the operating system to the user  Describes how the operating system manages the resources of a computer  Classifies the operating systems based on their users and tasks Contents  Introduction to computer Operating System  Evaluation of OS  Main functions of an operating system o providing interfaces o Process management o Resource management o Security and protection  Classification of operating systems o Single user  single task o Single user  multi task o Multi user  multi task o Multithreading o Real time o Time sharing systems Concepts and terms to be highlighted  Definition of operating system  Main functions of operating system  Classification of operating systems Guidance for lesson plans  Discussion on the need of computer operating systems  Discussion on the main functionality of computer operating systems  Discuss and demonstrate the types of operating systems Guidance for assessments and evaluations 123  Divide the class into groups and provide the topics need of OS main functions of OS Types of OS etc to each group ask them to prepare presentation and present it Quality inputs Computers OS CDs or DVDs Internet facility Reading Material Introduction to Computer operating system An operating system OS is a system software that provides a virtual machinehides hardware details provides an interface to applications and end users manages computing resources keeps track of resource usage grantsrevokes permissions for resources and executes application software Evolution of Operating System 1 No OS late 1940s  mid 1950s  Serial Processing  processed programs one after another  Single user system  ProgrammerUser directly interacted with the hardware  No operating system  Programs loaded directly into computer  Machines run from a console with display lights toggle switches 124 Features  Manual Program Scheduling  uniprogramming  processor sat idle when loading programs\n",
            "Resource management o Security and protection  Classification of operating systems o Single user  single task o Single user  multi task o Multi user  multi task o Multithreading o Real time o Time sharing systems functions and the abstractions directories files and data provided by the operating system to the user  Describes how the operating system manages the resources of a computer  Classifies the operating systems based on their users and tasks 52 Explores how an operating system manages directoriesfolders and files in computers  File types o Need for file types exe jpg txt etc  Directory and file organization o File hierarchy o File systems  FAT etc  File security o Passwords and access privileges  File storage management o Storage allocation  Contiguous allocation  Linked allocation  Indexed allocation  Defragmentation  Maintenance of secondary storage o Need and outcome of disk formatting  Describes files and directories  Briefly describes the need of disk formatting  Identifies the need for file types  Lists attributes of file and directories  Describes the structure of the file systems  Illustrates the organization of files and directories  Briefly describes the methods used in file security  Briefly describes how 6 14 Competency Competency Level Contents Learning outcomes Periods an operating system manages file security  Briefly explains o Contiguous allocation o Linked allocation o Indexed allocation  Describes defragmentation and explains how it occurs 53 Explores how an operating system manages processes in computers  Definition of process  Interrupts and interrupts handling  Process management  Process states  Process Transitions  Process control block  Context switching  Process schedulers  Explains processes  Lists the operating system tasks when a process is created  Lists the types of processes  Lists the process states  Explains process termination  Distinguishes a process and a program  Explains process states using the seven state process transition diagrams  Describes process schedulers and scheduling policies  Compares long short\n",
            "ProgrammerUser directly interacted with the hardware  No operating system  Programs loaded directly into computer  Machines run from a console with display lights toggle switches 124 Features  Manual Program Scheduling  uniprogramming  processor sat idle when loading programs and doing IO 2 Simple Batch System  Introduced to maximize the processor utilization  Programs recorded in a magnetic tape with an inexpensive machine  OS loaded and executed programs in tape one at a time  When the current program ended execution its output was written to another tape and OS loaded next program  At the end of entire batch of programs output tape was printed with an inexpensive machine Source httpswwwclirorgpubsreportspub542what_wronghtml Features  No direct access to hardware  Uniprogramming  High response time  Processor sat idle during IO 3 MultiProgrammed batch Systems  Central theme of modern OS  Introduce in 3rd generation to minimize the processor idle time during IO  Memory is partitioned to hold multiple programs  When current program waiting for IO OS switches processor to execute another program in memory 125  If memory is large enough to hold more programs processor could keep 100 busy 4 Time Sharing System  Introduced to minimize the response time and maximize the user interaction during program execution  Uses context switching  Enables to share the processor time among multiple programs  Rapidly switching among programs credits illusion of concurrent execution of multiple programs Following are some of important functions of an operating System  Process Management  Resource Management Memory IO device Storage  User Interfacing  Security Protection Different types of Operating Systems Based on the users and Tasks Different types of Operating SystemsBased on the users  Single user  Facilitates single user to use the system at a time  Multi UserFacilitates multiple users to use the system at a time Different types of Operating SystemsBased on Number of tasks  Single Task  Executes only one program at atime  Multi Task\n",
            "single user to use the system at a time  Multi UserFacilitates multiple users to use the system at a time Different types of Operating SystemsBased on Number of tasks  Single Task  Executes only one program at atime  Multi Task  Executes multiple programs at atime Different types of Operating Systems  Single usersingle task A single task is performed by one user at a time  Single userMulti task Several programs are run at the same time by a single user  Multi userMulti task  A multiuser operating system has been designed for more than one user to access the computer at the same or different time  Multithreading  A thread is also called a sub process Threads provide a way to improve application performance through the parallel execution of sub process  Real Time  OS is designed to run applications with very precise timing and with a high degree of reliability  The main objective of realtime operating systems is their quick and predictable response to events  These types of OS are needed in situations where downtime is costly or a program delay could cause a safety hazard  Time Sharing Systems o Processors time is shared among multiple usersapplications Features of Timesharing operating systems are as follows o Provides quick response o Reduces CPU idle time 126 Competency 5 Uses operating systems to manage the functionality of computers Competency Level 52 Explores how an operating system manages directoriesfolders and files in computers Time 06 periods Learning Outcomes  Describes files and directories  Briefly describes the need of disk formatting  Identifies the need for file types  Lists attributes of file and directories  Describes the structure of the file systems  Illustrates the organization of files and directories  Briefly describes the methods used in file security  Briefly describes how an operating system manages file security  Briefly explains o Contiguous allocation o Linked allocation and o Indexed allocation  Describes defragmentation and explains how it occurs Contents  File types o\n",
            "to get on the CPU Scheduling Policies  Nonpreemptive  Once a process is in the running state it will continue until it terminates or blocks itself for IO  Preemptive  Currently running process may be interrupted and moved to the Ready state by the OS  Allows for better service since any one process cannot monopolize the processor for very long 140 Competency 5 Uses operating systems to manage the functionality of computers Competency Level 54 Explores how an operating system manages the resources Time 06 periods Learning Outcomes  Briefly explains the need of memory management and memory management unit MMU  Briefly explains the virtual memory  Briefly explains paging and mapping  Briefly describes how an OS manages Input and output devices  Briefly describes device drivers  Briefly describes the need of device drivers  Briefly describes spooling  Installs appropriate device drivers when connecting a peripheral Contents  Memory management o Memory management unitMMU o Physical Memory o Virtual memory  Input and output device management o Device drivers o Spooling Reading Material Memory Management Memory management is the functionality of an operating system which handles or manages primary memory and moves processes back and forth between main memory and disk during execution Memory management keeps track of each and every memory location regardless of either it is allocated to some process or it is free It checks how much memory is to be allocated to processes It decides which process will get memory at what time It tracks whenever some memory gets freed or unallocated and correspondingly it updates the status An Operating System does the following activities for memory management  Keeps tracks of primary memory ie what part of it are in use by whom what part are not in use  In multiprogramming the OS decides which process will get memory when andhow much 141  Allocates the memory when a process requests it to do so  Deallocates the memory when a process no longer needs it or has been terminated Memory\n"
          ]
        }
      ],
      "source": [
        "def cos_retrieve():\n",
        "    results = search_similar_chunks_local(\n",
        "    \"Describe the evolutions of Operating Systems\",\n",
        "    local_data,\n",
        "    top_k=5\n",
        "    )\n",
        "    for txt in results:\n",
        "        print(txt)\n",
        "\n",
        "cos_retrieve()"
      ]
    },
    {
      "cell_type": "markdown",
      "metadata": {
        "id": "2vJaPQRykfDj"
      },
      "source": [
        "##Next Steps :\n",
        "* Visualize the quantization error to identify the severity\n",
        "* Perform k means to find top k BMUs rather than only 1 BMU"
      ]
    },
    {
      "cell_type": "markdown",
      "metadata": {
        "id": "W3VPvbGT4DB7"
      },
      "source": [
        "## Visualize the quantization error to identify the severity"
      ]
    },
    {
      "cell_type": "markdown",
      "metadata": {
        "id": "0llJvltC9HXg"
      },
      "source": [
        "#### **✅ Our Understanding — Confirmed & Clarified**\n",
        "\n",
        "\"The data points are initially in high dimensional space. The 2D topology/map is wrapped around the data to get closer to the data points.\"\n",
        "* ✔️ Correct.\n",
        "\n",
        "\"In this process, the position of the data points are not changing, only the node positions (BMUs) are changing in the high-dimensional space.\"\n",
        "* ✔️ Correct again. Data remains fixed; SOM nodes move in high-dimensional space to match the data distribution.\n",
        "\n",
        "\"Quantization error is quantifying the error distance between data points and their closest SOM node.\"\n",
        "* ✔️ Perfect. It’s the average Euclidean distance between each input vector and its BMU weight vector (codebook vector)."
      ]
    },
    {
      "cell_type": "markdown",
      "metadata": {
        "id": "SsNnZ5NK9puF"
      },
      "source": [
        "1. 📊 How to Visualize the Quantization Error"
      ]
    },
    {
      "cell_type": "markdown",
      "metadata": {
        "id": "ZWDucPaF9w_H"
      },
      "source": [
        "a. Scatter Plot of Quantization Error per Sample\n",
        "\n",
        "Plot how far each point is from its BMU."
      ]
    },
    {
      "cell_type": "code",
      "execution_count": null,
      "metadata": {
        "colab": {
          "base_uri": "https://localhost:8080/"
        },
        "id": "rHNSJryn-CAU",
        "outputId": "e64e36d3-9e20-45e3-c645-b13b8ad8214d"
      },
      "outputs": [
        {
          "data": {
            "text/plain": [
              "[(np.float64(1.0), np.float64(0.0)),\n",
              " (np.float64(1.0), np.float64(0.0)),\n",
              " (np.float64(1.0), np.float64(0.0)),\n",
              " (np.float64(0.0), np.float64(0.0)),\n",
              " (np.float64(0.0), np.float64(0.0)),\n",
              " (np.float64(1.0), np.float64(0.0)),\n",
              " (np.float64(1.0), np.float64(0.0)),\n",
              " (np.float64(0.0), np.float64(0.0)),\n",
              " (np.float64(0.0), np.float64(4.0)),\n",
              " (np.float64(0.0), np.float64(6.0))]"
            ]
          },
          "execution_count": 43,
          "metadata": {},
          "output_type": "execute_result"
        }
      ],
      "source": [
        "map_width = sm.codebook.mapsize[1]  # e.g., 20\n",
        "\n",
        "bmu_indices_1d = sm._bmu[0]\n",
        "bmu_coords_2d = [(idx // map_width, idx % map_width) for idx in bmu_indices_1d]\n",
        "bmu_coords_2d[:10]"
      ]
    },
    {
      "cell_type": "code",
      "execution_count": null,
      "metadata": {
        "colab": {
          "base_uri": "https://localhost:8080/"
        },
        "id": "7WMMCStj-6-o",
        "outputId": "9cb0876b-a915-454f-db25-47fee57a28d9"
      },
      "outputs": [
        {
          "data": {
            "text/plain": [
              "dtype('float64')"
            ]
          },
          "execution_count": 47,
          "metadata": {},
          "output_type": "execute_result"
        }
      ],
      "source": [
        "sm._bmu[0][0].dtype"
      ]
    },
    {
      "cell_type": "code",
      "execution_count": null,
      "metadata": {
        "id": "Zr-e6m-79v6N"
      },
      "outputs": [],
      "source": [
        "import matplotlib.pyplot as plt\n",
        "import numpy as np\n",
        "\n",
        "# Get BMU weight vectors (high-dimensional)\n",
        "neuron_values = sm.codebook.matrix[sm._bmu[0].astype(int)]\n",
        "\n",
        "# Compute quantization errors for each sample\n",
        "quantization_errors = np.linalg.norm(data - bmu_vectors, axis=1) #Here we're taking the euclidean norm (or magnitude) along each row\n",
        "\n",
        "# Plot\n",
        "plt.figure(figsize=(10, 4))\n",
        "plt.plot(quantization_errors, marker='o', linestyle='')\n",
        "plt.title('Quantization Error for Each Sample')\n",
        "plt.xlabel('Sample Index')\n",
        "plt.ylabel('Euclidean Distance to BMU')\n",
        "plt.grid(True)\n",
        "plt.show()"
      ]
    },
    {
      "cell_type": "markdown",
      "metadata": {
        "id": "QV4-yl05l-sU"
      },
      "source": [
        "* sm._bmu[0] is an array of BMU indices — one index per sample.\n",
        "\n",
        "* sm.codebook.matrix is a matrix of shape (n_nodes, n_features) — each row is a neuron's position in high-dimensional space.\n",
        "\n",
        "* So sm.codebook.matrix[sm._bmu[0]] gives you an array of shape (n_samples, n_features) — the BMU vector (i.e., the neuron's weight) that each sample got mapped to."
      ]
    },
    {
      "cell_type": "markdown",
      "metadata": {
        "id": "0T5EeV7Fmopc"
      },
      "source": [
        "**Weight Vector**\n",
        "\n",
        "* Each neuron (node) in the SOM grid has a weight vector, which is a point in the original feature space (same dimensionality as your data). That’s the neuron's position in the high-dimensional space.\n",
        "\n",
        "* Even though the SOM is a 2D grid visually, the nodes themselves “live” in the data's feature space.\n",
        "\n",
        "* During training, these vectors (weights) are updated to get closer to nearby data points.\n",
        "\n",
        "* weight vector = position of the node in high-dimensional space."
      ]
    },
    {
      "cell_type": "code",
      "execution_count": null,
      "metadata": {
        "colab": {
          "base_uri": "https://localhost:8080/"
        },
        "id": "yotIHkwws-LW",
        "outputId": "8f582daa-1314-4f6b-daa9-ff592d6a238f"
      },
      "outputs": [
        {
          "data": {
            "text/plain": [
              "array([[-0.245518,  0.596945,  0.445224, ..., -0.973499, -0.595096,\n",
              "         0.01117 ],\n",
              "       [-0.245518,  0.596945,  0.445224, ..., -0.973499, -0.595096,\n",
              "         0.01117 ],\n",
              "       [-0.245518,  0.596945,  0.445224, ..., -0.973499, -0.595096,\n",
              "         0.01117 ],\n",
              "       ...,\n",
              "       [-0.052044,  0.037891,  0.032418, ..., -0.56798 ,  0.395356,\n",
              "         0.765358],\n",
              "       [-0.379371,  0.611926,  0.355033, ..., -0.54595 , -0.400019,\n",
              "         0.377037],\n",
              "       [-0.379371,  0.611926,  0.355033, ..., -0.54595 , -0.400019,\n",
              "         0.377037]])"
            ]
          },
          "execution_count": 51,
          "metadata": {},
          "output_type": "execute_result"
        }
      ],
      "source": [
        "neuron_values"
      ]
    },
    {
      "cell_type": "code",
      "execution_count": null,
      "metadata": {
        "colab": {
          "base_uri": "https://localhost:8080/"
        },
        "id": "fpL5rNhgfXPt",
        "outputId": "f60bd219-88ec-4f0a-98af-bf8c04f15d2f"
      },
      "outputs": [
        {
          "data": {
            "text/plain": [
              "(155, 384)"
            ]
          },
          "execution_count": 57,
          "metadata": {},
          "output_type": "execute_result"
        }
      ],
      "source": [
        "neuron_values.shape"
      ]
    },
    {
      "cell_type": "code",
      "execution_count": null,
      "metadata": {
        "colab": {
          "base_uri": "https://localhost:8080/"
        },
        "id": "R33bIam1fgUa",
        "outputId": "3cf3fb33-403b-426e-89db-524bb90119a4"
      },
      "outputs": [
        {
          "data": {
            "text/plain": [
              "array([[ 0.18880248,  0.26471484, -0.57631046, ..., -0.6104693 ,\n",
              "        -0.9116158 , -0.24147697],\n",
              "       [-1.8185698 , -0.294386  ,  0.1892385 , ..., -1.8615263 ,\n",
              "        -0.9241936 ,  1.1092962 ],\n",
              "       [-0.42042834,  0.45919436,  1.0540044 , ..., -0.5266163 ,\n",
              "        -2.2264986 , -0.40148443],\n",
              "       ...,\n",
              "       [-0.4746899 ,  0.3080123 ,  0.11147743, ..., -0.7870753 ,\n",
              "         0.44222328,  1.2133061 ],\n",
              "       [-0.68682534,  1.7234899 ,  1.1463143 , ..., -1.2369212 ,\n",
              "        -1.019859  ,  0.44665843],\n",
              "       [-0.32508627,  0.24290141, -0.19468717, ...,  1.0066882 ,\n",
              "        -0.8336944 , -0.2135052 ]], dtype=float32)"
            ]
          },
          "execution_count": 58,
          "metadata": {},
          "output_type": "execute_result"
        }
      ],
      "source": [
        "sm._data"
      ]
    },
    {
      "cell_type": "code",
      "execution_count": null,
      "metadata": {
        "colab": {
          "base_uri": "https://localhost:8080/"
        },
        "id": "EB2D0TQ-9d3D",
        "outputId": "12fb71e5-1356-4b87-a6fc-5edd942aa6cd"
      },
      "outputs": [
        {
          "data": {
            "text/plain": [
              "(155, 384)"
            ]
          },
          "execution_count": 56,
          "metadata": {},
          "output_type": "execute_result"
        }
      ],
      "source": [
        "quantization_errors.shape"
      ]
    },
    {
      "cell_type": "code",
      "execution_count": null,
      "metadata": {
        "id": "zOXl9M709d7N"
      },
      "outputs": [],
      "source": []
    },
    {
      "cell_type": "code",
      "execution_count": null,
      "metadata": {
        "id": "_QAqWdRG9d-N"
      },
      "outputs": [],
      "source": []
    },
    {
      "cell_type": "code",
      "execution_count": null,
      "metadata": {
        "id": "mXjX-Rwp9eBB"
      },
      "outputs": [],
      "source": []
    },
    {
      "cell_type": "code",
      "execution_count": null,
      "metadata": {
        "id": "tzURlwO09eDY"
      },
      "outputs": [],
      "source": []
    },
    {
      "cell_type": "code",
      "execution_count": null,
      "metadata": {
        "id": "W_C1z84S9eGa"
      },
      "outputs": [],
      "source": []
    },
    {
      "cell_type": "markdown",
      "metadata": {
        "id": "tMqAmJ-q00wj"
      },
      "source": [
        "### Clustering using SOM (not required)"
      ]
    },
    {
      "cell_type": "code",
      "execution_count": null,
      "metadata": {
        "colab": {
          "base_uri": "https://localhost:8080/",
          "height": 825
        },
        "id": "wYCrNGWU09vx",
        "outputId": "a5932e90-9ab2-4a7b-b67d-eedf72fa9f8d"
      },
      "outputs": [
        {
          "data": {
            "image/png": "[encoded data removed]",
            "text/plain": [
              "<Figure size 1000x1000 with 2 Axes>"
            ]
          },
          "metadata": {},
          "output_type": "display_data"
        }
      ],
      "source": [
        "from sompy.visualization.hitmap import HitMapView\n",
        "\n",
        "sm_clustered=sm.cluster(10)\n",
        "hits=HitMapView(10,10,\"Hits Map\",text_size=7)\n",
        "hits_plot=hits.show(sm, anotate=True, onlyzeros=False, cmap=\"magma\", labelsize=12)"
      ]
    },
    {
      "cell_type": "code",
      "execution_count": null,
      "metadata": {
        "id": "fJHZYlJfGL5p"
      },
      "outputs": [],
      "source": [
        "# Get cluster labels for each neuron (from the clustering)\n",
        "neuron_cluster_labels = sm.cluster_labels  # Array of shape (n_neurons,) = (100,) for 10x10 grid\n",
        "\n",
        "# Assign the cluster label to each sample based on its BMU neuron\n",
        "sample_cluster_labels = [neuron_cluster_labels[int(bmu)] for bmu in bmu_indices]\n",
        "# Ensure sample_cluster_labels is a NumPy array\n",
        "sample_cluster_labels = np.array(sample_cluster_labels).reshape(-1, 1)\n",
        "\n",
        "# Concatenate cluster labels as a new column\n",
        "data_with_clusters = np.hstack((data, sample_cluster_labels))"
      ]
    },
    {
      "cell_type": "code",
      "execution_count": null,
      "metadata": {
        "id": "_bBw1qQZs-Os"
      },
      "outputs": [],
      "source": []
    },
    {
      "cell_type": "code",
      "execution_count": null,
      "metadata": {
        "id": "NZXPo7U8s-Sh"
      },
      "outputs": [],
      "source": []
    },
    {
      "cell_type": "code",
      "execution_count": null,
      "metadata": {
        "id": "fTHXRvt3s-Vh"
      },
      "outputs": [],
      "source": []
    },
    {
      "cell_type": "code",
      "execution_count": null,
      "metadata": {
        "colab": {
          "base_uri": "https://localhost:8080/"
        },
        "id": "9JVHykxQqsNZ",
        "outputId": "b0b1f267-0619-41ad-db22-208a5882e649"
      },
      "outputs": [
        {
          "data": {
            "text/plain": [
              "['__class__',\n",
              " '__delattr__',\n",
              " '__dict__',\n",
              " '__dir__',\n",
              " '__doc__',\n",
              " '__eq__',\n",
              " '__format__',\n",
              " '__ge__',\n",
              " '__getattribute__',\n",
              " '__getstate__',\n",
              " '__gt__',\n",
              " '__hash__',\n",
              " '__init__',\n",
              " '__init_subclass__',\n",
              " '__le__',\n",
              " '__lt__',\n",
              " '__module__',\n",
              " '__ne__',\n",
              " '__new__',\n",
              " '__reduce__',\n",
              " '__reduce_ex__',\n",
              " '__repr__',\n",
              " '__setattr__',\n",
              " '__sizeof__',\n",
              " '__str__',\n",
              " '__subclasshook__',\n",
              " '__weakref__',\n",
              " '_batchtrain',\n",
              " '_bmu',\n",
              " '_calculate_ms_and_mpd',\n",
              " '_component_names',\n",
              " '_data',\n",
              " '_dim',\n",
              " '_distance_matrix',\n",
              " '_dlabel',\n",
              " '_dlen',\n",
              " '_normalizer',\n",
              " 'bmu_ind_to_xy',\n",
              " 'build_component_names',\n",
              " 'build_data_labels',\n",
              " 'calculate_map_dist',\n",
              " 'calculate_map_size',\n",
              " 'calculate_quantization_error',\n",
              " 'calculate_topographic_error',\n",
              " 'cluster',\n",
              " 'cluster_labels',\n",
              " 'codebook',\n",
              " 'component_names',\n",
              " 'data_labels',\n",
              " 'data_raw',\n",
              " 'find_bmu',\n",
              " 'find_k_nodes',\n",
              " 'finetune_train',\n",
              " 'initialization',\n",
              " 'mapshape',\n",
              " 'mask',\n",
              " 'name',\n",
              " 'neighborhood',\n",
              " 'node_activation',\n",
              " 'predict',\n",
              " 'predict_by',\n",
              " 'predict_probability',\n",
              " 'project_data',\n",
              " 'rough_train',\n",
              " 'train',\n",
              " 'training',\n",
              " 'update_codebook_voronoi']"
            ]
          },
          "execution_count": 51,
          "metadata": {},
          "output_type": "execute_result"
        }
      ],
      "source": [
        " #Print methids and attributes of som model\n",
        "dir(sm)"
      ]
    },
    {
      "cell_type": "code",
      "execution_count": null,
      "metadata": {
        "colab": {
          "base_uri": "https://localhost:8080/"
        },
        "id": "Marve-sbhaWp",
        "outputId": "1cde77f9-f6d8-4796-98e5-eb22f5c21329"
      },
      "outputs": [
        {
          "data": {
            "text/plain": [
              "['__class__',\n",
              " '__delattr__',\n",
              " '__dict__',\n",
              " '__dir__',\n",
              " '__doc__',\n",
              " '__eq__',\n",
              " '__format__',\n",
              " '__ge__',\n",
              " '__getattribute__',\n",
              " '__getstate__',\n",
              " '__gt__',\n",
              " '__hash__',\n",
              " '__init__',\n",
              " '__init_subclass__',\n",
              " '__le__',\n",
              " '__lt__',\n",
              " '__module__',\n",
              " '__ne__',\n",
              " '__new__',\n",
              " '__reduce__',\n",
              " '__reduce_ex__',\n",
              " '__repr__',\n",
              " '__setattr__',\n",
              " '__sizeof__',\n",
              " '__str__',\n",
              " '__subclasshook__',\n",
              " '__weakref__',\n",
              " '_mean_and_standard_dev',\n",
              " 'denormalize_by',\n",
              " 'name',\n",
              " 'normalize',\n",
              " 'normalize_by']"
            ]
          },
          "execution_count": 46,
          "metadata": {},
          "output_type": "execute_result"
        }
      ],
      "source": [
        "dir(sm._normalizer)"
      ]
    },
    {
      "cell_type": "markdown",
      "metadata": {
        "id": "c6ZBi-mwkPx4"
      },
      "source": [
        "In SOMPY, the `_normalizer` object provides methods to handle data normalization, which is crucial for effective training of Self-Organizing Maps (SOMs). The two primary methods offered are `normalize` and `normalize_by`, each serving distinct purposes in the normalization process.\n",
        "\n",
        "---\n",
        "\n",
        "### 🔹 `normalize(data)`\n",
        "The `normalize` method is used to standardize the training data before feeding it into the SOMThis process typically involves scaling the data so that each feature has a mean of zero and a standard deviation of one, or adjusting the data to a specific rangeNormalization ensures that all features contribute equally to the training process, preventing features with larger scales from dominating the learning\n",
        "For example, if you're training your SOM with a dataset `trainingDataMatrix`, you would apply\n",
        "\n",
        "```python\n",
        "normalized_data = somModel._normalizer.normalize(trainingDataMatrix)\n",
        "```\n",
        "This step is essential to prepare the data appropriately for the SOM's learning algorithm\n",
        "\n",
        "---\n",
        "\n",
        "### 🔹 `normalize_by(raw_data, data_to_normalize)`\n",
        "The `normalize_by` method is designed to apply the normalization parameters derived from one dataset (`raw_data`) to another dataset (`data_to_normalize`. This is particularly useful when you have new data that you want to project onto an already trained SOM, ensuring consistency in the data's scale and distributio.\n",
        "For instance, if you have new data `newDataMatrix` and you want to normalize it using the parameters from your original training data `trainingDataMatrix`, you would us:\n",
        "\n",
        "```python\n",
        "normalized_new_data = somModel._normalizer.normalize_by(trainingDataMatrix, newDataMatrix)\n",
        "``\n",
        "\n",
        "This ensures that the new data is scaled in the same way as the training data, allowing for accurate mapping onto the existing SO.\n",
        "\n",
        "---\n",
        "\n",
        "### ✅ Summary\n",
        "`normalize`      | Standardizes the training data                    | Preparing data before training the SOM\n",
        "\n",
        "`normalize_by`   | Applies training data's normalization to new data | Projecting new data onto a trained SOM"
      ]
    },
    {
      "cell_type": "code",
      "execution_count": null,
      "metadata": {
        "id": "ToY1DeQJen14"
      },
      "outputs": [],
      "source": []
    }
  ],
  "metadata": {
    "colab": {
      "provenance": []
    },
    "kernelspec": {
      "display_name": "Python 3",
      "name": "python3"
    },
    "language_info": {
      "name": "python"
    },
    "widgets": {
      "application/vnd.jupyter.widget-state+json": {
        "6d694581295f463fa40077e2148ce8c3": {
          "model_module": "@jupyter-widgets/controls",
          "model_name": "HBoxModel",
          "model_module_version": "1.5.0",
          "state": {
            "_dom_classes": [],
            "_model_module": "@jupyter-widgets/controls",
            "_model_module_version": "1.5.0",
            "_model_name": "HBoxModel",
            "_view_count": null,
            "_view_module": "@jupyter-widgets/controls",
            "_view_module_version": "1.5.0",
            "_view_name": "HBoxView",
            "box_style": "",
            "children": [
              "IPY_MODEL_4e27b45473bd474d8b0ee3fb7a65bb9f",
              "IPY_MODEL_b9b1565d64ba44e68869979b65cbab5a",
              "IPY_MODEL_a10e6bce58674fd6baf5325a3647510a"
            ],
            "layout": "IPY_MODEL_cd95bab16c7346fbbde788aec6da5b17"
          }
        },
        "4e27b45473bd474d8b0ee3fb7a65bb9f": {
          "model_module": "@jupyter-widgets/controls",
          "model_name": "HTMLModel",
          "model_module_version": "1.5.0",
          "state": {
            "_dom_classes": [],
            "_model_module": "@jupyter-widgets/controls",
            "_model_module_version": "1.5.0",
            "_model_name": "HTMLModel",
            "_view_count": null,
            "_view_module": "@jupyter-widgets/controls",
            "_view_module_version": "1.5.0",
            "_view_name": "HTMLView",
            "description": "",
            "description_tooltip": null,
            "layout": "IPY_MODEL_2bcd3dc6d8cd4e91b037df3cc7957115",
            "placeholder": "​",
            "style": "IPY_MODEL_c7d9202555b043ef935aa6b7997ed11d",
            "value": "modules.json: 100%"
          }
        },
        "b9b1565d64ba44e68869979b65cbab5a": {
          "model_module": "@jupyter-widgets/controls",
          "model_name": "FloatProgressModel",
          "model_module_version": "1.5.0",
          "state": {
            "_dom_classes": [],
            "_model_module": "@jupyter-widgets/controls",
            "_model_module_version": "1.5.0",
            "_model_name": "FloatProgressModel",
            "_view_count": null,
            "_view_module": "@jupyter-widgets/controls",
            "_view_module_version": "1.5.0",
            "_view_name": "ProgressView",
            "bar_style": "success",
            "description": "",
            "description_tooltip": null,
            "layout": "IPY_MODEL_054292b3a514464d81b12edf20652989",
            "max": 349,
            "min": 0,
            "orientation": "horizontal",
            "style": "IPY_MODEL_e078e126dfd64583ae3c0a3e3b4c054a",
            "value": 349
          }
        },
        "a10e6bce58674fd6baf5325a3647510a": {
          "model_module": "@jupyter-widgets/controls",
          "model_name": "HTMLModel",
          "model_module_version": "1.5.0",
          "state": {
            "_dom_classes": [],
            "_model_module": "@jupyter-widgets/controls",
            "_model_module_version": "1.5.0",
            "_model_name": "HTMLModel",
            "_view_count": null,
            "_view_module": "@jupyter-widgets/controls",
            "_view_module_version": "1.5.0",
            "_view_name": "HTMLView",
            "description": "",
            "description_tooltip": null,
            "layout": "IPY_MODEL_433f97c08ccc40af9a7a3d0c934df829",
            "placeholder": "​",
            "style": "IPY_MODEL_d2f30a6b64c546d7b648e07c45610996",
            "value": " 349/349 [00:00&lt;00:00, 29.1kB/s]"
          }
        },
        "cd95bab16c7346fbbde788aec6da5b17": {
          "model_module": "@jupyter-widgets/base",
          "model_name": "LayoutModel",
          "model_module_version": "1.2.0",
          "state": {
            "_model_module": "@jupyter-widgets/base",
            "_model_module_version": "1.2.0",
            "_model_name": "LayoutModel",
            "_view_count": null,
            "_view_module": "@jupyter-widgets/base",
            "_view_module_version": "1.2.0",
            "_view_name": "LayoutView",
            "align_content": null,
            "align_items": null,
            "align_self": null,
            "border": null,
            "bottom": null,
            "display": null,
            "flex": null,
            "flex_flow": null,
            "grid_area": null,
            "grid_auto_columns": null,
            "grid_auto_flow": null,
            "grid_auto_rows": null,
            "grid_column": null,
            "grid_gap": null,
            "grid_row": null,
            "grid_template_areas": null,
            "grid_template_columns": null,
            "grid_template_rows": null,
            "height": null,
            "justify_content": null,
            "justify_items": null,
            "left": null,
            "margin": null,
            "max_height": null,
            "max_width": null,
            "min_height": null,
            "min_width": null,
            "object_fit": null,
            "object_position": null,
            "order": null,
            "overflow": null,
            "overflow_x": null,
            "overflow_y": null,
            "padding": null,
            "right": null,
            "top": null,
            "visibility": null,
            "width": null
          }
        },
        "2bcd3dc6d8cd4e91b037df3cc7957115": {
          "model_module": "@jupyter-widgets/base",
          "model_name": "LayoutModel",
          "model_module_version": "1.2.0",
          "state": {
            "_model_module": "@jupyter-widgets/base",
            "_model_module_version": "1.2.0",
            "_model_name": "LayoutModel",
            "_view_count": null,
            "_view_module": "@jupyter-widgets/base",
            "_view_module_version": "1.2.0",
            "_view_name": "LayoutView",
            "align_content": null,
            "align_items": null,
            "align_self": null,
            "border": null,
            "bottom": null,
            "display": null,
            "flex": null,
            "flex_flow": null,
            "grid_area": null,
            "grid_auto_columns": null,
            "grid_auto_flow": null,
            "grid_auto_rows": null,
            "grid_column": null,
            "grid_gap": null,
            "grid_row": null,
            "grid_template_areas": null,
            "grid_template_columns": null,
            "grid_template_rows": null,
            "height": null,
            "justify_content": null,
            "justify_items": null,
            "left": null,
            "margin": null,
            "max_height": null,
            "max_width": null,
            "min_height": null,
            "min_width": null,
            "object_fit": null,
            "object_position": null,
            "order": null,
            "overflow": null,
            "overflow_x": null,
            "overflow_y": null,
            "padding": null,
            "right": null,
            "top": null,
            "visibility": null,
            "width": null
          }
        },
        "c7d9202555b043ef935aa6b7997ed11d": {
          "model_module": "@jupyter-widgets/controls",
          "model_name": "DescriptionStyleModel",
          "model_module_version": "1.5.0",
          "state": {
            "_model_module": "@jupyter-widgets/controls",
            "_model_module_version": "1.5.0",
            "_model_name": "DescriptionStyleModel",
            "_view_count": null,
            "_view_module": "@jupyter-widgets/base",
            "_view_module_version": "1.2.0",
            "_view_name": "StyleView",
            "description_width": ""
          }
        },
        "054292b3a514464d81b12edf20652989": {
          "model_module": "@jupyter-widgets/base",
          "model_name": "LayoutModel",
          "model_module_version": "1.2.0",
          "state": {
            "_model_module": "@jupyter-widgets/base",
            "_model_module_version": "1.2.0",
            "_model_name": "LayoutModel",
            "_view_count": null,
            "_view_module": "@jupyter-widgets/base",
            "_view_module_version": "1.2.0",
            "_view_name": "LayoutView",
            "align_content": null,
            "align_items": null,
            "align_self": null,
            "border": null,
            "bottom": null,
            "display": null,
            "flex": null,
            "flex_flow": null,
            "grid_area": null,
            "grid_auto_columns": null,
            "grid_auto_flow": null,
            "grid_auto_rows": null,
            "grid_column": null,
            "grid_gap": null,
            "grid_row": null,
            "grid_template_areas": null,
            "grid_template_columns": null,
            "grid_template_rows": null,
            "height": null,
            "justify_content": null,
            "justify_items": null,
            "left": null,
            "margin": null,
            "max_height": null,
            "max_width": null,
            "min_height": null,
            "min_width": null,
            "object_fit": null,
            "object_position": null,
            "order": null,
            "overflow": null,
            "overflow_x": null,
            "overflow_y": null,
            "padding": null,
            "right": null,
            "top": null,
            "visibility": null,
            "width": null
          }
        },
        "e078e126dfd64583ae3c0a3e3b4c054a": {
          "model_module": "@jupyter-widgets/controls",
          "model_name": "ProgressStyleModel",
          "model_module_version": "1.5.0",
          "state": {
            "_model_module": "@jupyter-widgets/controls",
            "_model_module_version": "1.5.0",
            "_model_name": "ProgressStyleModel",
            "_view_count": null,
            "_view_module": "@jupyter-widgets/base",
            "_view_module_version": "1.2.0",
            "_view_name": "StyleView",
            "bar_color": null,
            "description_width": ""
          }
        },
        "433f97c08ccc40af9a7a3d0c934df829": {
          "model_module": "@jupyter-widgets/base",
          "model_name": "LayoutModel",
          "model_module_version": "1.2.0",
          "state": {
            "_model_module": "@jupyter-widgets/base",
            "_model_module_version": "1.2.0",
            "_model_name": "LayoutModel",
            "_view_count": null,
            "_view_module": "@jupyter-widgets/base",
            "_view_module_version": "1.2.0",
            "_view_name": "LayoutView",
            "align_content": null,
            "align_items": null,
            "align_self": null,
            "border": null,
            "bottom": null,
            "display": null,
            "flex": null,
            "flex_flow": null,
            "grid_area": null,
            "grid_auto_columns": null,
            "grid_auto_flow": null,
            "grid_auto_rows": null,
            "grid_column": null,
            "grid_gap": null,
            "grid_row": null,
            "grid_template_areas": null,
            "grid_template_columns": null,
            "grid_template_rows": null,
            "height": null,
            "justify_content": null,
            "justify_items": null,
            "left": null,
            "margin": null,
            "max_height": null,
            "max_width": null,
            "min_height": null,
            "min_width": null,
            "object_fit": null,
            "object_position": null,
            "order": null,
            "overflow": null,
            "overflow_x": null,
            "overflow_y": null,
            "padding": null,
            "right": null,
            "top": null,
            "visibility": null,
            "width": null
          }
        },
        "d2f30a6b64c546d7b648e07c45610996": {
          "model_module": "@jupyter-widgets/controls",
          "model_name": "DescriptionStyleModel",
          "model_module_version": "1.5.0",
          "state": {
            "_model_module": "@jupyter-widgets/controls",
            "_model_module_version": "1.5.0",
            "_model_name": "DescriptionStyleModel",
            "_view_count": null,
            "_view_module": "@jupyter-widgets/base",
            "_view_module_version": "1.2.0",
            "_view_name": "StyleView",
            "description_width": ""
          }
        },
        "0ff44b3f5b6b436fad425f0f42d9a9ca": {
          "model_module": "@jupyter-widgets/controls",
          "model_name": "HBoxModel",
          "model_module_version": "1.5.0",
          "state": {
            "_dom_classes": [],
            "_model_module": "@jupyter-widgets/controls",
            "_model_module_version": "1.5.0",
            "_model_name": "HBoxModel",
            "_view_count": null,
            "_view_module": "@jupyter-widgets/controls",
            "_view_module_version": "1.5.0",
            "_view_name": "HBoxView",
            "box_style": "",
            "children": [
              "IPY_MODEL_fa1343d1bf6f43a5890d6b735a418b8c",
              "IPY_MODEL_503f03d93d3f4acc9d8f3cc27765f8f4",
              "IPY_MODEL_24353253fcda4d1ba836fbc18aced804"
            ],
            "layout": "IPY_MODEL_673dbc970eb94842a0cec725bec996c6"
          }
        },
        "fa1343d1bf6f43a5890d6b735a418b8c": {
          "model_module": "@jupyter-widgets/controls",
          "model_name": "HTMLModel",
          "model_module_version": "1.5.0",
          "state": {
            "_dom_classes": [],
            "_model_module": "@jupyter-widgets/controls",
            "_model_module_version": "1.5.0",
            "_model_name": "HTMLModel",
            "_view_count": null,
            "_view_module": "@jupyter-widgets/controls",
            "_view_module_version": "1.5.0",
            "_view_name": "HTMLView",
            "description": "",
            "description_tooltip": null,
            "layout": "IPY_MODEL_ef0d5a079b4544ef9cb1f53a450febb7",
            "placeholder": "​",
            "style": "IPY_MODEL_833714efeb84442eb768d324edee4df8",
            "value": "config_sentence_transformers.json: 100%"
          }
        },
        "503f03d93d3f4acc9d8f3cc27765f8f4": {
          "model_module": "@jupyter-widgets/controls",
          "model_name": "FloatProgressModel",
          "model_module_version": "1.5.0",
          "state": {
            "_dom_classes": [],
            "_model_module": "@jupyter-widgets/controls",
            "_model_module_version": "1.5.0",
            "_model_name": "FloatProgressModel",
            "_view_count": null,
            "_view_module": "@jupyter-widgets/controls",
            "_view_module_version": "1.5.0",
            "_view_name": "ProgressView",
            "bar_style": "success",
            "description": "",
            "description_tooltip": null,
            "layout": "IPY_MODEL_bde98751188d4d37b7f1cb6b1d0bdc6b",
            "max": 116,
            "min": 0,
            "orientation": "horizontal",
            "style": "IPY_MODEL_6f93f9563820432bab5e29313eb55e57",
            "value": 116
          }
        },
        "24353253fcda4d1ba836fbc18aced804": {
          "model_module": "@jupyter-widgets/controls",
          "model_name": "HTMLModel",
          "model_module_version": "1.5.0",
          "state": {
            "_dom_classes": [],
            "_model_module": "@jupyter-widgets/controls",
            "_model_module_version": "1.5.0",
            "_model_name": "HTMLModel",
            "_view_count": null,
            "_view_module": "@jupyter-widgets/controls",
            "_view_module_version": "1.5.0",
            "_view_name": "HTMLView",
            "description": "",
            "description_tooltip": null,
            "layout": "IPY_MODEL_931d1f9af106423a8090e06d87f426be",
            "placeholder": "​",
            "style": "IPY_MODEL_5da5182d295544a3bc06476a37db7099",
            "value": " 116/116 [00:00&lt;00:00, 1.48kB/s]"
          }
        },
        "673dbc970eb94842a0cec725bec996c6": {
          "model_module": "@jupyter-widgets/base",
          "model_name": "LayoutModel",
          "model_module_version": "1.2.0",
          "state": {
            "_model_module": "@jupyter-widgets/base",
            "_model_module_version": "1.2.0",
            "_model_name": "LayoutModel",
            "_view_count": null,
            "_view_module": "@jupyter-widgets/base",
            "_view_module_version": "1.2.0",
            "_view_name": "LayoutView",
            "align_content": null,
            "align_items": null,
            "align_self": null,
            "border": null,
            "bottom": null,
            "display": null,
            "flex": null,
            "flex_flow": null,
            "grid_area": null,
            "grid_auto_columns": null,
            "grid_auto_flow": null,
            "grid_auto_rows": null,
            "grid_column": null,
            "grid_gap": null,
            "grid_row": null,
            "grid_template_areas": null,
            "grid_template_columns": null,
            "grid_template_rows": null,
            "height": null,
            "justify_content": null,
            "justify_items": null,
            "left": null,
            "margin": null,
            "max_height": null,
            "max_width": null,
            "min_height": null,
            "min_width": null,
            "object_fit": null,
            "object_position": null,
            "order": null,
            "overflow": null,
            "overflow_x": null,
            "overflow_y": null,
            "padding": null,
            "right": null,
            "top": null,
            "visibility": null,
            "width": null
          }
        },
        "ef0d5a079b4544ef9cb1f53a450febb7": {
          "model_module": "@jupyter-widgets/base",
          "model_name": "LayoutModel",
          "model_module_version": "1.2.0",
          "state": {
            "_model_module": "@jupyter-widgets/base",
            "_model_module_version": "1.2.0",
            "_model_name": "LayoutModel",
            "_view_count": null,
            "_view_module": "@jupyter-widgets/base",
            "_view_module_version": "1.2.0",
            "_view_name": "LayoutView",
            "align_content": null,
            "align_items": null,
            "align_self": null,
            "border": null,
            "bottom": null,
            "display": null,
            "flex": null,
            "flex_flow": null,
            "grid_area": null,
            "grid_auto_columns": null,
            "grid_auto_flow": null,
            "grid_auto_rows": null,
            "grid_column": null,
            "grid_gap": null,
            "grid_row": null,
            "grid_template_areas": null,
            "grid_template_columns": null,
            "grid_template_rows": null,
            "height": null,
            "justify_content": null,
            "justify_items": null,
            "left": null,
            "margin": null,
            "max_height": null,
            "max_width": null,
            "min_height": null,
            "min_width": null,
            "object_fit": null,
            "object_position": null,
            "order": null,
            "overflow": null,
            "overflow_x": null,
            "overflow_y": null,
            "padding": null,
            "right": null,
            "top": null,
            "visibility": null,
            "width": null
          }
        },
        "833714efeb84442eb768d324edee4df8": {
          "model_module": "@jupyter-widgets/controls",
          "model_name": "DescriptionStyleModel",
          "model_module_version": "1.5.0",
          "state": {
            "_model_module": "@jupyter-widgets/controls",
            "_model_module_version": "1.5.0",
            "_model_name": "DescriptionStyleModel",
            "_view_count": null,
            "_view_module": "@jupyter-widgets/base",
            "_view_module_version": "1.2.0",
            "_view_name": "StyleView",
            "description_width": ""
          }
        },
        "bde98751188d4d37b7f1cb6b1d0bdc6b": {
          "model_module": "@jupyter-widgets/base",
          "model_name": "LayoutModel",
          "model_module_version": "1.2.0",
          "state": {
            "_model_module": "@jupyter-widgets/base",
            "_model_module_version": "1.2.0",
            "_model_name": "LayoutModel",
            "_view_count": null,
            "_view_module": "@jupyter-widgets/base",
            "_view_module_version": "1.2.0",
            "_view_name": "LayoutView",
            "align_content": null,
            "align_items": null,
            "align_self": null,
            "border": null,
            "bottom": null,
            "display": null,
            "flex": null,
            "flex_flow": null,
            "grid_area": null,
            "grid_auto_columns": null,
            "grid_auto_flow": null,
            "grid_auto_rows": null,
            "grid_column": null,
            "grid_gap": null,
            "grid_row": null,
            "grid_template_areas": null,
            "grid_template_columns": null,
            "grid_template_rows": null,
            "height": null,
            "justify_content": null,
            "justify_items": null,
            "left": null,
            "margin": null,
            "max_height": null,
            "max_width": null,
            "min_height": null,
            "min_width": null,
            "object_fit": null,
            "object_position": null,
            "order": null,
            "overflow": null,
            "overflow_x": null,
            "overflow_y": null,
            "padding": null,
            "right": null,
            "top": null,
            "visibility": null,
            "width": null
          }
        },
        "6f93f9563820432bab5e29313eb55e57": {
          "model_module": "@jupyter-widgets/controls",
          "model_name": "ProgressStyleModel",
          "model_module_version": "1.5.0",
          "state": {
            "_model_module": "@jupyter-widgets/controls",
            "_model_module_version": "1.5.0",
            "_model_name": "ProgressStyleModel",
            "_view_count": null,
            "_view_module": "@jupyter-widgets/base",
            "_view_module_version": "1.2.0",
            "_view_name": "StyleView",
            "bar_color": null,
            "description_width": ""
          }
        },
        "931d1f9af106423a8090e06d87f426be": {
          "model_module": "@jupyter-widgets/base",
          "model_name": "LayoutModel",
          "model_module_version": "1.2.0",
          "state": {
            "_model_module": "@jupyter-widgets/base",
            "_model_module_version": "1.2.0",
            "_model_name": "LayoutModel",
            "_view_count": null,
            "_view_module": "@jupyter-widgets/base",
            "_view_module_version": "1.2.0",
            "_view_name": "LayoutView",
            "align_content": null,
            "align_items": null,
            "align_self": null,
            "border": null,
            "bottom": null,
            "display": null,
            "flex": null,
            "flex_flow": null,
            "grid_area": null,
            "grid_auto_columns": null,
            "grid_auto_flow": null,
            "grid_auto_rows": null,
            "grid_column": null,
            "grid_gap": null,
            "grid_row": null,
            "grid_template_areas": null,
            "grid_template_columns": null,
            "grid_template_rows": null,
            "height": null,
            "justify_content": null,
            "justify_items": null,
            "left": null,
            "margin": null,
            "max_height": null,
            "max_width": null,
            "min_height": null,
            "min_width": null,
            "object_fit": null,
            "object_position": null,
            "order": null,
            "overflow": null,
            "overflow_x": null,
            "overflow_y": null,
            "padding": null,
            "right": null,
            "top": null,
            "visibility": null,
            "width": null
          }
        },
        "5da5182d295544a3bc06476a37db7099": {
          "model_module": "@jupyter-widgets/controls",
          "model_name": "DescriptionStyleModel",
          "model_module_version": "1.5.0",
          "state": {
            "_model_module": "@jupyter-widgets/controls",
            "_model_module_version": "1.5.0",
            "_model_name": "DescriptionStyleModel",
            "_view_count": null,
            "_view_module": "@jupyter-widgets/base",
            "_view_module_version": "1.2.0",
            "_view_name": "StyleView",
            "description_width": ""
          }
        },
        "a240c84daea745e28e427484eb9aed1e": {
          "model_module": "@jupyter-widgets/controls",
          "model_name": "HBoxModel",
          "model_module_version": "1.5.0",
          "state": {
            "_dom_classes": [],
            "_model_module": "@jupyter-widgets/controls",
            "_model_module_version": "1.5.0",
            "_model_name": "HBoxModel",
            "_view_count": null,
            "_view_module": "@jupyter-widgets/controls",
            "_view_module_version": "1.5.0",
            "_view_name": "HBoxView",
            "box_style": "",
            "children": [
              "IPY_MODEL_56bed6dd27a841f69b21ea06842054e8",
              "IPY_MODEL_ef07f7bb366c462f95bf1ec583a91659",
              "IPY_MODEL_b67b9da21fe942a7a546a38cecbc5e93"
            ],
            "layout": "IPY_MODEL_4d06d55fc265442fb7722b2a83f30d6a"
          }
        },
        "56bed6dd27a841f69b21ea06842054e8": {
          "model_module": "@jupyter-widgets/controls",
          "model_name": "HTMLModel",
          "model_module_version": "1.5.0",
          "state": {
            "_dom_classes": [],
            "_model_module": "@jupyter-widgets/controls",
            "_model_module_version": "1.5.0",
            "_model_name": "HTMLModel",
            "_view_count": null,
            "_view_module": "@jupyter-widgets/controls",
            "_view_module_version": "1.5.0",
            "_view_name": "HTMLView",
            "description": "",
            "description_tooltip": null,
            "layout": "IPY_MODEL_fe9b7cc4470e47f58752338b2371c022",
            "placeholder": "​",
            "style": "IPY_MODEL_3ae35afc804c49a4bc9b1e3dfa42b964",
            "value": "README.md: 100%"
          }
        },
        "ef07f7bb366c462f95bf1ec583a91659": {
          "model_module": "@jupyter-widgets/controls",
          "model_name": "FloatProgressModel",
          "model_module_version": "1.5.0",
          "state": {
            "_dom_classes": [],
            "_model_module": "@jupyter-widgets/controls",
            "_model_module_version": "1.5.0",
            "_model_name": "FloatProgressModel",
            "_view_count": null,
            "_view_module": "@jupyter-widgets/controls",
            "_view_module_version": "1.5.0",
            "_view_name": "ProgressView",
            "bar_style": "success",
            "description": "",
            "description_tooltip": null,
            "layout": "IPY_MODEL_9f4dd05a438e4dfe8e542191b8d24502",
            "max": 10454,
            "min": 0,
            "orientation": "horizontal",
            "style": "IPY_MODEL_436874df862947c99a18d0fd52dce842",
            "value": 10454
          }
        },
        "b67b9da21fe942a7a546a38cecbc5e93": {
          "model_module": "@jupyter-widgets/controls",
          "model_name": "HTMLModel",
          "model_module_version": "1.5.0",
          "state": {
            "_dom_classes": [],
            "_model_module": "@jupyter-widgets/controls",
            "_model_module_version": "1.5.0",
            "_model_name": "HTMLModel",
            "_view_count": null,
            "_view_module": "@jupyter-widgets/controls",
            "_view_module_version": "1.5.0",
            "_view_name": "HTMLView",
            "description": "",
            "description_tooltip": null,
            "layout": "IPY_MODEL_d48e82f329d24258a0605823b05e1374",
            "placeholder": "​",
            "style": "IPY_MODEL_c16fa29fddec44c9bf57f094286ec7a7",
            "value": " 10.5k/10.5k [00:00&lt;00:00, 687kB/s]"
          }
        },
        "4d06d55fc265442fb7722b2a83f30d6a": {
          "model_module": "@jupyter-widgets/base",
          "model_name": "LayoutModel",
          "model_module_version": "1.2.0",
          "state": {
            "_model_module": "@jupyter-widgets/base",
            "_model_module_version": "1.2.0",
            "_model_name": "LayoutModel",
            "_view_count": null,
            "_view_module": "@jupyter-widgets/base",
            "_view_module_version": "1.2.0",
            "_view_name": "LayoutView",
            "align_content": null,
            "align_items": null,
            "align_self": null,
            "border": null,
            "bottom": null,
            "display": null,
            "flex": null,
            "flex_flow": null,
            "grid_area": null,
            "grid_auto_columns": null,
            "grid_auto_flow": null,
            "grid_auto_rows": null,
            "grid_column": null,
            "grid_gap": null,
            "grid_row": null,
            "grid_template_areas": null,
            "grid_template_columns": null,
            "grid_template_rows": null,
            "height": null,
            "justify_content": null,
            "justify_items": null,
            "left": null,
            "margin": null,
            "max_height": null,
            "max_width": null,
            "min_height": null,
            "min_width": null,
            "object_fit": null,
            "object_position": null,
            "order": null,
            "overflow": null,
            "overflow_x": null,
            "overflow_y": null,
            "padding": null,
            "right": null,
            "top": null,
            "visibility": null,
            "width": null
          }
        },
        "fe9b7cc4470e47f58752338b2371c022": {
          "model_module": "@jupyter-widgets/base",
          "model_name": "LayoutModel",
          "model_module_version": "1.2.0",
          "state": {
            "_model_module": "@jupyter-widgets/base",
            "_model_module_version": "1.2.0",
            "_model_name": "LayoutModel",
            "_view_count": null,
            "_view_module": "@jupyter-widgets/base",
            "_view_module_version": "1.2.0",
            "_view_name": "LayoutView",
            "align_content": null,
            "align_items": null,
            "align_self": null,
            "border": null,
            "bottom": null,
            "display": null,
            "flex": null,
            "flex_flow": null,
            "grid_area": null,
            "grid_auto_columns": null,
            "grid_auto_flow": null,
            "grid_auto_rows": null,
            "grid_column": null,
            "grid_gap": null,
            "grid_row": null,
            "grid_template_areas": null,
            "grid_template_columns": null,
            "grid_template_rows": null,
            "height": null,
            "justify_content": null,
            "justify_items": null,
            "left": null,
            "margin": null,
            "max_height": null,
            "max_width": null,
            "min_height": null,
            "min_width": null,
            "object_fit": null,
            "object_position": null,
            "order": null,
            "overflow": null,
            "overflow_x": null,
            "overflow_y": null,
            "padding": null,
            "right": null,
            "top": null,
            "visibility": null,
            "width": null
          }
        },
        "3ae35afc804c49a4bc9b1e3dfa42b964": {
          "model_module": "@jupyter-widgets/controls",
          "model_name": "DescriptionStyleModel",
          "model_module_version": "1.5.0",
          "state": {
            "_model_module": "@jupyter-widgets/controls",
            "_model_module_version": "1.5.0",
            "_model_name": "DescriptionStyleModel",
            "_view_count": null,
            "_view_module": "@jupyter-widgets/base",
            "_view_module_version": "1.2.0",
            "_view_name": "StyleView",
            "description_width": ""
          }
        },
        "9f4dd05a438e4dfe8e542191b8d24502": {
          "model_module": "@jupyter-widgets/base",
          "model_name": "LayoutModel",
          "model_module_version": "1.2.0",
          "state": {
            "_model_module": "@jupyter-widgets/base",
            "_model_module_version": "1.2.0",
            "_model_name": "LayoutModel",
            "_view_count": null,
            "_view_module": "@jupyter-widgets/base",
            "_view_module_version": "1.2.0",
            "_view_name": "LayoutView",
            "align_content": null,
            "align_items": null,
            "align_self": null,
            "border": null,
            "bottom": null,
            "display": null,
            "flex": null,
            "flex_flow": null,
            "grid_area": null,
            "grid_auto_columns": null,
            "grid_auto_flow": null,
            "grid_auto_rows": null,
            "grid_column": null,
            "grid_gap": null,
            "grid_row": null,
            "grid_template_areas": null,
            "grid_template_columns": null,
            "grid_template_rows": null,
            "height": null,
            "justify_content": null,
            "justify_items": null,
            "left": null,
            "margin": null,
            "max_height": null,
            "max_width": null,
            "min_height": null,
            "min_width": null,
            "object_fit": null,
            "object_position": null,
            "order": null,
            "overflow": null,
            "overflow_x": null,
            "overflow_y": null,
            "padding": null,
            "right": null,
            "top": null,
            "visibility": null,
            "width": null
          }
        },
        "436874df862947c99a18d0fd52dce842": {
          "model_module": "@jupyter-widgets/controls",
          "model_name": "ProgressStyleModel",
          "model_module_version": "1.5.0",
          "state": {
            "_model_module": "@jupyter-widgets/controls",
            "_model_module_version": "1.5.0",
            "_model_name": "ProgressStyleModel",
            "_view_count": null,
            "_view_module": "@jupyter-widgets/base",
            "_view_module_version": "1.2.0",
            "_view_name": "StyleView",
            "bar_color": null,
            "description_width": ""
          }
        },
        "d48e82f329d24258a0605823b05e1374": {
          "model_module": "@jupyter-widgets/base",
          "model_name": "LayoutModel",
          "model_module_version": "1.2.0",
          "state": {
            "_model_module": "@jupyter-widgets/base",
            "_model_module_version": "1.2.0",
            "_model_name": "LayoutModel",
            "_view_count": null,
            "_view_module": "@jupyter-widgets/base",
            "_view_module_version": "1.2.0",
            "_view_name": "LayoutView",
            "align_content": null,
            "align_items": null,
            "align_self": null,
            "border": null,
            "bottom": null,
            "display": null,
            "flex": null,
            "flex_flow": null,
            "grid_area": null,
            "grid_auto_columns": null,
            "grid_auto_flow": null,
            "grid_auto_rows": null,
            "grid_column": null,
            "grid_gap": null,
            "grid_row": null,
            "grid_template_areas": null,
            "grid_template_columns": null,
            "grid_template_rows": null,
            "height": null,
            "justify_content": null,
            "justify_items": null,
            "left": null,
            "margin": null,
            "max_height": null,
            "max_width": null,
            "min_height": null,
            "min_width": null,
            "object_fit": null,
            "object_position": null,
            "order": null,
            "overflow": null,
            "overflow_x": null,
            "overflow_y": null,
            "padding": null,
            "right": null,
            "top": null,
            "visibility": null,
            "width": null
          }
        },
        "c16fa29fddec44c9bf57f094286ec7a7": {
          "model_module": "@jupyter-widgets/controls",
          "model_name": "DescriptionStyleModel",
          "model_module_version": "1.5.0",
          "state": {
            "_model_module": "@jupyter-widgets/controls",
            "_model_module_version": "1.5.0",
            "_model_name": "DescriptionStyleModel",
            "_view_count": null,
            "_view_module": "@jupyter-widgets/base",
            "_view_module_version": "1.2.0",
            "_view_name": "StyleView",
            "description_width": ""
          }
        },
        "de629dd1c2d54f7e9013b77194df442d": {
          "model_module": "@jupyter-widgets/controls",
          "model_name": "HBoxModel",
          "model_module_version": "1.5.0",
          "state": {
            "_dom_classes": [],
            "_model_module": "@jupyter-widgets/controls",
            "_model_module_version": "1.5.0",
            "_model_name": "HBoxModel",
            "_view_count": null,
            "_view_module": "@jupyter-widgets/controls",
            "_view_module_version": "1.5.0",
            "_view_name": "HBoxView",
            "box_style": "",
            "children": [
              "IPY_MODEL_3c6917fd505846e499cca30088198120",
              "IPY_MODEL_d15aa5c169634b63ad1774d18bbbfc79",
              "IPY_MODEL_645b6c88c55e45cf9eb1ebfd030ab264"
            ],
            "layout": "IPY_MODEL_96cab1ee32e540e6bf48e95e62fa849f"
          }
        },
        "3c6917fd505846e499cca30088198120": {
          "model_module": "@jupyter-widgets/controls",
          "model_name": "HTMLModel",
          "model_module_version": "1.5.0",
          "state": {
            "_dom_classes": [],
            "_model_module": "@jupyter-widgets/controls",
            "_model_module_version": "1.5.0",
            "_model_name": "HTMLModel",
            "_view_count": null,
            "_view_module": "@jupyter-widgets/controls",
            "_view_module_version": "1.5.0",
            "_view_name": "HTMLView",
            "description": "",
            "description_tooltip": null,
            "layout": "IPY_MODEL_024ab4ef0f2e4f4b8a90a4d769f0d2f1",
            "placeholder": "​",
            "style": "IPY_MODEL_ef4d600914c04dad9e1377d55eca4dc2",
            "value": "sentence_bert_config.json: 100%"
          }
        },
        "d15aa5c169634b63ad1774d18bbbfc79": {
          "model_module": "@jupyter-widgets/controls",
          "model_name": "FloatProgressModel",
          "model_module_version": "1.5.0",
          "state": {
            "_dom_classes": [],
            "_model_module": "@jupyter-widgets/controls",
            "_model_module_version": "1.5.0",
            "_model_name": "FloatProgressModel",
            "_view_count": null,
            "_view_module": "@jupyter-widgets/controls",
            "_view_module_version": "1.5.0",
            "_view_name": "ProgressView",
            "bar_style": "success",
            "description": "",
            "description_tooltip": null,
            "layout": "IPY_MODEL_3d67b3e6446945928ce9a7f50d0c874b",
            "max": 53,
            "min": 0,
            "orientation": "horizontal",
            "style": "IPY_MODEL_b23e7339780d4ae6babacd4ded8fb2d2",
            "value": 53
          }
        },
        "645b6c88c55e45cf9eb1ebfd030ab264": {
          "model_module": "@jupyter-widgets/controls",
          "model_name": "HTMLModel",
          "model_module_version": "1.5.0",
          "state": {
            "_dom_classes": [],
            "_model_module": "@jupyter-widgets/controls",
            "_model_module_version": "1.5.0",
            "_model_name": "HTMLModel",
            "_view_count": null,
            "_view_module": "@jupyter-widgets/controls",
            "_view_module_version": "1.5.0",
            "_view_name": "HTMLView",
            "description": "",
            "description_tooltip": null,
            "layout": "IPY_MODEL_daddf709dda4451a8afb7a1288dd8a62",
            "placeholder": "​",
            "style": "IPY_MODEL_407be57c73d2484a8ad2c6e667637806",
            "value": " 53.0/53.0 [00:00&lt;00:00, 4.07kB/s]"
          }
        },
        "96cab1ee32e540e6bf48e95e62fa849f": {
          "model_module": "@jupyter-widgets/base",
          "model_name": "LayoutModel",
          "model_module_version": "1.2.0",
          "state": {
            "_model_module": "@jupyter-widgets/base",
            "_model_module_version": "1.2.0",
            "_model_name": "LayoutModel",
            "_view_count": null,
            "_view_module": "@jupyter-widgets/base",
            "_view_module_version": "1.2.0",
            "_view_name": "LayoutView",
            "align_content": null,
            "align_items": null,
            "align_self": null,
            "border": null,
            "bottom": null,
            "display": null,
            "flex": null,
            "flex_flow": null,
            "grid_area": null,
            "grid_auto_columns": null,
            "grid_auto_flow": null,
            "grid_auto_rows": null,
            "grid_column": null,
            "grid_gap": null,
            "grid_row": null,
            "grid_template_areas": null,
            "grid_template_columns": null,
            "grid_template_rows": null,
            "height": null,
            "justify_content": null,
            "justify_items": null,
            "left": null,
            "margin": null,
            "max_height": null,
            "max_width": null,
            "min_height": null,
            "min_width": null,
            "object_fit": null,
            "object_position": null,
            "order": null,
            "overflow": null,
            "overflow_x": null,
            "overflow_y": null,
            "padding": null,
            "right": null,
            "top": null,
            "visibility": null,
            "width": null
          }
        },
        "024ab4ef0f2e4f4b8a90a4d769f0d2f1": {
          "model_module": "@jupyter-widgets/base",
          "model_name": "LayoutModel",
          "model_module_version": "1.2.0",
          "state": {
            "_model_module": "@jupyter-widgets/base",
            "_model_module_version": "1.2.0",
            "_model_name": "LayoutModel",
            "_view_count": null,
            "_view_module": "@jupyter-widgets/base",
            "_view_module_version": "1.2.0",
            "_view_name": "LayoutView",
            "align_content": null,
            "align_items": null,
            "align_self": null,
            "border": null,
            "bottom": null,
            "display": null,
            "flex": null,
            "flex_flow": null,
            "grid_area": null,
            "grid_auto_columns": null,
            "grid_auto_flow": null,
            "grid_auto_rows": null,
            "grid_column": null,
            "grid_gap": null,
            "grid_row": null,
            "grid_template_areas": null,
            "grid_template_columns": null,
            "grid_template_rows": null,
            "height": null,
            "justify_content": null,
            "justify_items": null,
            "left": null,
            "margin": null,
            "max_height": null,
            "max_width": null,
            "min_height": null,
            "min_width": null,
            "object_fit": null,
            "object_position": null,
            "order": null,
            "overflow": null,
            "overflow_x": null,
            "overflow_y": null,
            "padding": null,
            "right": null,
            "top": null,
            "visibility": null,
            "width": null
          }
        },
        "ef4d600914c04dad9e1377d55eca4dc2": {
          "model_module": "@jupyter-widgets/controls",
          "model_name": "DescriptionStyleModel",
          "model_module_version": "1.5.0",
          "state": {
            "_model_module": "@jupyter-widgets/controls",
            "_model_module_version": "1.5.0",
            "_model_name": "DescriptionStyleModel",
            "_view_count": null,
            "_view_module": "@jupyter-widgets/base",
            "_view_module_version": "1.2.0",
            "_view_name": "StyleView",
            "description_width": ""
          }
        },
        "3d67b3e6446945928ce9a7f50d0c874b": {
          "model_module": "@jupyter-widgets/base",
          "model_name": "LayoutModel",
          "model_module_version": "1.2.0",
          "state": {
            "_model_module": "@jupyter-widgets/base",
            "_model_module_version": "1.2.0",
            "_model_name": "LayoutModel",
            "_view_count": null,
            "_view_module": "@jupyter-widgets/base",
            "_view_module_version": "1.2.0",
            "_view_name": "LayoutView",
            "align_content": null,
            "align_items": null,
            "align_self": null,
            "border": null,
            "bottom": null,
            "display": null,
            "flex": null,
            "flex_flow": null,
            "grid_area": null,
            "grid_auto_columns": null,
            "grid_auto_flow": null,
            "grid_auto_rows": null,
            "grid_column": null,
            "grid_gap": null,
            "grid_row": null,
            "grid_template_areas": null,
            "grid_template_columns": null,
            "grid_template_rows": null,
            "height": null,
            "justify_content": null,
            "justify_items": null,
            "left": null,
            "margin": null,
            "max_height": null,
            "max_width": null,
            "min_height": null,
            "min_width": null,
            "object_fit": null,
            "object_position": null,
            "order": null,
            "overflow": null,
            "overflow_x": null,
            "overflow_y": null,
            "padding": null,
            "right": null,
            "top": null,
            "visibility": null,
            "width": null
          }
        },
        "b23e7339780d4ae6babacd4ded8fb2d2": {
          "model_module": "@jupyter-widgets/controls",
          "model_name": "ProgressStyleModel",
          "model_module_version": "1.5.0",
          "state": {
            "_model_module": "@jupyter-widgets/controls",
            "_model_module_version": "1.5.0",
            "_model_name": "ProgressStyleModel",
            "_view_count": null,
            "_view_module": "@jupyter-widgets/base",
            "_view_module_version": "1.2.0",
            "_view_name": "StyleView",
            "bar_color": null,
            "description_width": ""
          }
        },
        "daddf709dda4451a8afb7a1288dd8a62": {
          "model_module": "@jupyter-widgets/base",
          "model_name": "LayoutModel",
          "model_module_version": "1.2.0",
          "state": {
            "_model_module": "@jupyter-widgets/base",
            "_model_module_version": "1.2.0",
            "_model_name": "LayoutModel",
            "_view_count": null,
            "_view_module": "@jupyter-widgets/base",
            "_view_module_version": "1.2.0",
            "_view_name": "LayoutView",
            "align_content": null,
            "align_items": null,
            "align_self": null,
            "border": null,
            "bottom": null,
            "display": null,
            "flex": null,
            "flex_flow": null,
            "grid_area": null,
            "grid_auto_columns": null,
            "grid_auto_flow": null,
            "grid_auto_rows": null,
            "grid_column": null,
            "grid_gap": null,
            "grid_row": null,
            "grid_template_areas": null,
            "grid_template_columns": null,
            "grid_template_rows": null,
            "height": null,
            "justify_content": null,
            "justify_items": null,
            "left": null,
            "margin": null,
            "max_height": null,
            "max_width": null,
            "min_height": null,
            "min_width": null,
            "object_fit": null,
            "object_position": null,
            "order": null,
            "overflow": null,
            "overflow_x": null,
            "overflow_y": null,
            "padding": null,
            "right": null,
            "top": null,
            "visibility": null,
            "width": null
          }
        },
        "407be57c73d2484a8ad2c6e667637806": {
          "model_module": "@jupyter-widgets/controls",
          "model_name": "DescriptionStyleModel",
          "model_module_version": "1.5.0",
          "state": {
            "_model_module": "@jupyter-widgets/controls",
            "_model_module_version": "1.5.0",
            "_model_name": "DescriptionStyleModel",
            "_view_count": null,
            "_view_module": "@jupyter-widgets/base",
            "_view_module_version": "1.2.0",
            "_view_name": "StyleView",
            "description_width": ""
          }
        },
        "265b28cc315943068ce5cc27cb78adfe": {
          "model_module": "@jupyter-widgets/controls",
          "model_name": "HBoxModel",
          "model_module_version": "1.5.0",
          "state": {
            "_dom_classes": [],
            "_model_module": "@jupyter-widgets/controls",
            "_model_module_version": "1.5.0",
            "_model_name": "HBoxModel",
            "_view_count": null,
            "_view_module": "@jupyter-widgets/controls",
            "_view_module_version": "1.5.0",
            "_view_name": "HBoxView",
            "box_style": "",
            "children": [
              "IPY_MODEL_f86ada87d714426eb1a61ce50cb3db9f",
              "IPY_MODEL_83ebceaa7a724ff3ad7fa5da8a92def6",
              "IPY_MODEL_fcf04442c6b1445c8fae63522eb463cf"
            ],
            "layout": "IPY_MODEL_7ab3cab82e434b329d3977c0f586c088"
          }
        },
        "f86ada87d714426eb1a61ce50cb3db9f": {
          "model_module": "@jupyter-widgets/controls",
          "model_name": "HTMLModel",
          "model_module_version": "1.5.0",
          "state": {
            "_dom_classes": [],
            "_model_module": "@jupyter-widgets/controls",
            "_model_module_version": "1.5.0",
            "_model_name": "HTMLModel",
            "_view_count": null,
            "_view_module": "@jupyter-widgets/controls",
            "_view_module_version": "1.5.0",
            "_view_name": "HTMLView",
            "description": "",
            "description_tooltip": null,
            "layout": "IPY_MODEL_491165befcf24c62852200275e66f7a7",
            "placeholder": "​",
            "style": "IPY_MODEL_c42a404a55674b05a2506830d68c320d",
            "value": "config.json: 100%"
          }
        },
        "83ebceaa7a724ff3ad7fa5da8a92def6": {
          "model_module": "@jupyter-widgets/controls",
          "model_name": "FloatProgressModel",
          "model_module_version": "1.5.0",
          "state": {
            "_dom_classes": [],
            "_model_module": "@jupyter-widgets/controls",
            "_model_module_version": "1.5.0",
            "_model_name": "FloatProgressModel",
            "_view_count": null,
            "_view_module": "@jupyter-widgets/controls",
            "_view_module_version": "1.5.0",
            "_view_name": "ProgressView",
            "bar_style": "success",
            "description": "",
            "description_tooltip": null,
            "layout": "IPY_MODEL_b002e6e820e744cba88a09012df20a62",
            "max": 612,
            "min": 0,
            "orientation": "horizontal",
            "style": "IPY_MODEL_9855cd85256b4cf8a6bce4ffc02852b5",
            "value": 612
          }
        },
        "fcf04442c6b1445c8fae63522eb463cf": {
          "model_module": "@jupyter-widgets/controls",
          "model_name": "HTMLModel",
          "model_module_version": "1.5.0",
          "state": {
            "_dom_classes": [],
            "_model_module": "@jupyter-widgets/controls",
            "_model_module_version": "1.5.0",
            "_model_name": "HTMLModel",
            "_view_count": null,
            "_view_module": "@jupyter-widgets/controls",
            "_view_module_version": "1.5.0",
            "_view_name": "HTMLView",
            "description": "",
            "description_tooltip": null,
            "layout": "IPY_MODEL_377e69537b9a4503a1cda8cea3ac9f17",
            "placeholder": "​",
            "style": "IPY_MODEL_e696c4ce620a4b0ab6daa66d05742d53",
            "value": " 612/612 [00:00&lt;00:00, 36.1kB/s]"
          }
        },
        "7ab3cab82e434b329d3977c0f586c088": {
          "model_module": "@jupyter-widgets/base",
          "model_name": "LayoutModel",
          "model_module_version": "1.2.0",
          "state": {
            "_model_module": "@jupyter-widgets/base",
            "_model_module_version": "1.2.0",
            "_model_name": "LayoutModel",
            "_view_count": null,
            "_view_module": "@jupyter-widgets/base",
            "_view_module_version": "1.2.0",
            "_view_name": "LayoutView",
            "align_content": null,
            "align_items": null,
            "align_self": null,
            "border": null,
            "bottom": null,
            "display": null,
            "flex": null,
            "flex_flow": null,
            "grid_area": null,
            "grid_auto_columns": null,
            "grid_auto_flow": null,
            "grid_auto_rows": null,
            "grid_column": null,
            "grid_gap": null,
            "grid_row": null,
            "grid_template_areas": null,
            "grid_template_columns": null,
            "grid_template_rows": null,
            "height": null,
            "justify_content": null,
            "justify_items": null,
            "left": null,
            "margin": null,
            "max_height": null,
            "max_width": null,
            "min_height": null,
            "min_width": null,
            "object_fit": null,
            "object_position": null,
            "order": null,
            "overflow": null,
            "overflow_x": null,
            "overflow_y": null,
            "padding": null,
            "right": null,
            "top": null,
            "visibility": null,
            "width": null
          }
        },
        "491165befcf24c62852200275e66f7a7": {
          "model_module": "@jupyter-widgets/base",
          "model_name": "LayoutModel",
          "model_module_version": "1.2.0",
          "state": {
            "_model_module": "@jupyter-widgets/base",
            "_model_module_version": "1.2.0",
            "_model_name": "LayoutModel",
            "_view_count": null,
            "_view_module": "@jupyter-widgets/base",
            "_view_module_version": "1.2.0",
            "_view_name": "LayoutView",
            "align_content": null,
            "align_items": null,
            "align_self": null,
            "border": null,
            "bottom": null,
            "display": null,
            "flex": null,
            "flex_flow": null,
            "grid_area": null,
            "grid_auto_columns": null,
            "grid_auto_flow": null,
            "grid_auto_rows": null,
            "grid_column": null,
            "grid_gap": null,
            "grid_row": null,
            "grid_template_areas": null,
            "grid_template_columns": null,
            "grid_template_rows": null,
            "height": null,
            "justify_content": null,
            "justify_items": null,
            "left": null,
            "margin": null,
            "max_height": null,
            "max_width": null,
            "min_height": null,
            "min_width": null,
            "object_fit": null,
            "object_position": null,
            "order": null,
            "overflow": null,
            "overflow_x": null,
            "overflow_y": null,
            "padding": null,
            "right": null,
            "top": null,
            "visibility": null,
            "width": null
          }
        },
        "c42a404a55674b05a2506830d68c320d": {
          "model_module": "@jupyter-widgets/controls",
          "model_name": "DescriptionStyleModel",
          "model_module_version": "1.5.0",
          "state": {
            "_model_module": "@jupyter-widgets/controls",
            "_model_module_version": "1.5.0",
            "_model_name": "DescriptionStyleModel",
            "_view_count": null,
            "_view_module": "@jupyter-widgets/base",
            "_view_module_version": "1.2.0",
            "_view_name": "StyleView",
            "description_width": ""
          }
        },
        "b002e6e820e744cba88a09012df20a62": {
          "model_module": "@jupyter-widgets/base",
          "model_name": "LayoutModel",
          "model_module_version": "1.2.0",
          "state": {
            "_model_module": "@jupyter-widgets/base",
            "_model_module_version": "1.2.0",
            "_model_name": "LayoutModel",
            "_view_count": null,
            "_view_module": "@jupyter-widgets/base",
            "_view_module_version": "1.2.0",
            "_view_name": "LayoutView",
            "align_content": null,
            "align_items": null,
            "align_self": null,
            "border": null,
            "bottom": null,
            "display": null,
            "flex": null,
            "flex_flow": null,
            "grid_area": null,
            "grid_auto_columns": null,
            "grid_auto_flow": null,
            "grid_auto_rows": null,
            "grid_column": null,
            "grid_gap": null,
            "grid_row": null,
            "grid_template_areas": null,
            "grid_template_columns": null,
            "grid_template_rows": null,
            "height": null,
            "justify_content": null,
            "justify_items": null,
            "left": null,
            "margin": null,
            "max_height": null,
            "max_width": null,
            "min_height": null,
            "min_width": null,
            "object_fit": null,
            "object_position": null,
            "order": null,
            "overflow": null,
            "overflow_x": null,
            "overflow_y": null,
            "padding": null,
            "right": null,
            "top": null,
            "visibility": null,
            "width": null
          }
        },
        "9855cd85256b4cf8a6bce4ffc02852b5": {
          "model_module": "@jupyter-widgets/controls",
          "model_name": "ProgressStyleModel",
          "model_module_version": "1.5.0",
          "state": {
            "_model_module": "@jupyter-widgets/controls",
            "_model_module_version": "1.5.0",
            "_model_name": "ProgressStyleModel",
            "_view_count": null,
            "_view_module": "@jupyter-widgets/base",
            "_view_module_version": "1.2.0",
            "_view_name": "StyleView",
            "bar_color": null,
            "description_width": ""
          }
        },
        "377e69537b9a4503a1cda8cea3ac9f17": {
          "model_module": "@jupyter-widgets/base",
          "model_name": "LayoutModel",
          "model_module_version": "1.2.0",
          "state": {
            "_model_module": "@jupyter-widgets/base",
            "_model_module_version": "1.2.0",
            "_model_name": "LayoutModel",
            "_view_count": null,
            "_view_module": "@jupyter-widgets/base",
            "_view_module_version": "1.2.0",
            "_view_name": "LayoutView",
            "align_content": null,
            "align_items": null,
            "align_self": null,
            "border": null,
            "bottom": null,
            "display": null,
            "flex": null,
            "flex_flow": null,
            "grid_area": null,
            "grid_auto_columns": null,
            "grid_auto_flow": null,
            "grid_auto_rows": null,
            "grid_column": null,
            "grid_gap": null,
            "grid_row": null,
            "grid_template_areas": null,
            "grid_template_columns": null,
            "grid_template_rows": null,
            "height": null,
            "justify_content": null,
            "justify_items": null,
            "left": null,
            "margin": null,
            "max_height": null,
            "max_width": null,
            "min_height": null,
            "min_width": null,
            "object_fit": null,
            "object_position": null,
            "order": null,
            "overflow": null,
            "overflow_x": null,
            "overflow_y": null,
            "padding": null,
            "right": null,
            "top": null,
            "visibility": null,
            "width": null
          }
        },
        "e696c4ce620a4b0ab6daa66d05742d53": {
          "model_module": "@jupyter-widgets/controls",
          "model_name": "DescriptionStyleModel",
          "model_module_version": "1.5.0",
          "state": {
            "_model_module": "@jupyter-widgets/controls",
            "_model_module_version": "1.5.0",
            "_model_name": "DescriptionStyleModel",
            "_view_count": null,
            "_view_module": "@jupyter-widgets/base",
            "_view_module_version": "1.2.0",
            "_view_name": "StyleView",
            "description_width": ""
          }
        },
        "8aeb92cc6dd344449a539eb22126d727": {
          "model_module": "@jupyter-widgets/controls",
          "model_name": "HBoxModel",
          "model_module_version": "1.5.0",
          "state": {
            "_dom_classes": [],
            "_model_module": "@jupyter-widgets/controls",
            "_model_module_version": "1.5.0",
            "_model_name": "HBoxModel",
            "_view_count": null,
            "_view_module": "@jupyter-widgets/controls",
            "_view_module_version": "1.5.0",
            "_view_name": "HBoxView",
            "box_style": "",
            "children": [
              "IPY_MODEL_19bc3536cde94fa1b083e77850f333cf",
              "IPY_MODEL_aadbdaae2d0444cc84e35ae46bae61ce",
              "IPY_MODEL_63fb02d76dd744c4a830481031ed63ec"
            ],
            "layout": "IPY_MODEL_9670d2df20b24895a76db50e1988deac"
          }
        },
        "19bc3536cde94fa1b083e77850f333cf": {
          "model_module": "@jupyter-widgets/controls",
          "model_name": "HTMLModel",
          "model_module_version": "1.5.0",
          "state": {
            "_dom_classes": [],
            "_model_module": "@jupyter-widgets/controls",
            "_model_module_version": "1.5.0",
            "_model_name": "HTMLModel",
            "_view_count": null,
            "_view_module": "@jupyter-widgets/controls",
            "_view_module_version": "1.5.0",
            "_view_name": "HTMLView",
            "description": "",
            "description_tooltip": null,
            "layout": "IPY_MODEL_ac082d41a6784a239b23d5240fdb037f",
            "placeholder": "​",
            "style": "IPY_MODEL_7f344f11ee8642f8a8a5ac714428d73f",
            "value": "model.safetensors: 100%"
          }
        },
        "aadbdaae2d0444cc84e35ae46bae61ce": {
          "model_module": "@jupyter-widgets/controls",
          "model_name": "FloatProgressModel",
          "model_module_version": "1.5.0",
          "state": {
            "_dom_classes": [],
            "_model_module": "@jupyter-widgets/controls",
            "_model_module_version": "1.5.0",
            "_model_name": "FloatProgressModel",
            "_view_count": null,
            "_view_module": "@jupyter-widgets/controls",
            "_view_module_version": "1.5.0",
            "_view_name": "ProgressView",
            "bar_style": "success",
            "description": "",
            "description_tooltip": null,
            "layout": "IPY_MODEL_7db8f90cf85a4c8f9e05865ef9326fbb",
            "max": 90868376,
            "min": 0,
            "orientation": "horizontal",
            "style": "IPY_MODEL_92701a131d9d45a48b4a556ec104d09d",
            "value": 90868376
          }
        },
        "63fb02d76dd744c4a830481031ed63ec": {
          "model_module": "@jupyter-widgets/controls",
          "model_name": "HTMLModel",
          "model_module_version": "1.5.0",
          "state": {
            "_dom_classes": [],
            "_model_module": "@jupyter-widgets/controls",
            "_model_module_version": "1.5.0",
            "_model_name": "HTMLModel",
            "_view_count": null,
            "_view_module": "@jupyter-widgets/controls",
            "_view_module_version": "1.5.0",
            "_view_name": "HTMLView",
            "description": "",
            "description_tooltip": null,
            "layout": "IPY_MODEL_efab6eb2a474443db409a2c61676297d",
            "placeholder": "​",
            "style": "IPY_MODEL_58d89bc9c75242998914ee1ecb68a0c8",
            "value": " 90.9M/90.9M [00:00&lt;00:00, 183MB/s]"
          }
        },
        "9670d2df20b24895a76db50e1988deac": {
          "model_module": "@jupyter-widgets/base",
          "model_name": "LayoutModel",
          "model_module_version": "1.2.0",
          "state": {
            "_model_module": "@jupyter-widgets/base",
            "_model_module_version": "1.2.0",
            "_model_name": "LayoutModel",
            "_view_count": null,
            "_view_module": "@jupyter-widgets/base",
            "_view_module_version": "1.2.0",
            "_view_name": "LayoutView",
            "align_content": null,
            "align_items": null,
            "align_self": null,
            "border": null,
            "bottom": null,
            "display": null,
            "flex": null,
            "flex_flow": null,
            "grid_area": null,
            "grid_auto_columns": null,
            "grid_auto_flow": null,
            "grid_auto_rows": null,
            "grid_column": null,
            "grid_gap": null,
            "grid_row": null,
            "grid_template_areas": null,
            "grid_template_columns": null,
            "grid_template_rows": null,
            "height": null,
            "justify_content": null,
            "justify_items": null,
            "left": null,
            "margin": null,
            "max_height": null,
            "max_width": null,
            "min_height": null,
            "min_width": null,
            "object_fit": null,
            "object_position": null,
            "order": null,
            "overflow": null,
            "overflow_x": null,
            "overflow_y": null,
            "padding": null,
            "right": null,
            "top": null,
            "visibility": null,
            "width": null
          }
        },
        "ac082d41a6784a239b23d5240fdb037f": {
          "model_module": "@jupyter-widgets/base",
          "model_name": "LayoutModel",
          "model_module_version": "1.2.0",
          "state": {
            "_model_module": "@jupyter-widgets/base",
            "_model_module_version": "1.2.0",
            "_model_name": "LayoutModel",
            "_view_count": null,
            "_view_module": "@jupyter-widgets/base",
            "_view_module_version": "1.2.0",
            "_view_name": "LayoutView",
            "align_content": null,
            "align_items": null,
            "align_self": null,
            "border": null,
            "bottom": null,
            "display": null,
            "flex": null,
            "flex_flow": null,
            "grid_area": null,
            "grid_auto_columns": null,
            "grid_auto_flow": null,
            "grid_auto_rows": null,
            "grid_column": null,
            "grid_gap": null,
            "grid_row": null,
            "grid_template_areas": null,
            "grid_template_columns": null,
            "grid_template_rows": null,
            "height": null,
            "justify_content": null,
            "justify_items": null,
            "left": null,
            "margin": null,
            "max_height": null,
            "max_width": null,
            "min_height": null,
            "min_width": null,
            "object_fit": null,
            "object_position": null,
            "order": null,
            "overflow": null,
            "overflow_x": null,
            "overflow_y": null,
            "padding": null,
            "right": null,
            "top": null,
            "visibility": null,
            "width": null
          }
        },
        "7f344f11ee8642f8a8a5ac714428d73f": {
          "model_module": "@jupyter-widgets/controls",
          "model_name": "DescriptionStyleModel",
          "model_module_version": "1.5.0",
          "state": {
            "_model_module": "@jupyter-widgets/controls",
            "_model_module_version": "1.5.0",
            "_model_name": "DescriptionStyleModel",
            "_view_count": null,
            "_view_module": "@jupyter-widgets/base",
            "_view_module_version": "1.2.0",
            "_view_name": "StyleView",
            "description_width": ""
          }
        },
        "7db8f90cf85a4c8f9e05865ef9326fbb": {
          "model_module": "@jupyter-widgets/base",
          "model_name": "LayoutModel",
          "model_module_version": "1.2.0",
          "state": {
            "_model_module": "@jupyter-widgets/base",
            "_model_module_version": "1.2.0",
            "_model_name": "LayoutModel",
            "_view_count": null,
            "_view_module": "@jupyter-widgets/base",
            "_view_module_version": "1.2.0",
            "_view_name": "LayoutView",
            "align_content": null,
            "align_items": null,
            "align_self": null,
            "border": null,
            "bottom": null,
            "display": null,
            "flex": null,
            "flex_flow": null,
            "grid_area": null,
            "grid_auto_columns": null,
            "grid_auto_flow": null,
            "grid_auto_rows": null,
            "grid_column": null,
            "grid_gap": null,
            "grid_row": null,
            "grid_template_areas": null,
            "grid_template_columns": null,
            "grid_template_rows": null,
            "height": null,
            "justify_content": null,
            "justify_items": null,
            "left": null,
            "margin": null,
            "max_height": null,
            "max_width": null,
            "min_height": null,
            "min_width": null,
            "object_fit": null,
            "object_position": null,
            "order": null,
            "overflow": null,
            "overflow_x": null,
            "overflow_y": null,
            "padding": null,
            "right": null,
            "top": null,
            "visibility": null,
            "width": null
          }
        },
        "92701a131d9d45a48b4a556ec104d09d": {
          "model_module": "@jupyter-widgets/controls",
          "model_name": "ProgressStyleModel",
          "model_module_version": "1.5.0",
          "state": {
            "_model_module": "@jupyter-widgets/controls",
            "_model_module_version": "1.5.0",
            "_model_name": "ProgressStyleModel",
            "_view_count": null,
            "_view_module": "@jupyter-widgets/base",
            "_view_module_version": "1.2.0",
            "_view_name": "StyleView",
            "bar_color": null,
            "description_width": ""
          }
        },
        "efab6eb2a474443db409a2c61676297d": {
          "model_module": "@jupyter-widgets/base",
          "model_name": "LayoutModel",
          "model_module_version": "1.2.0",
          "state": {
            "_model_module": "@jupyter-widgets/base",
            "_model_module_version": "1.2.0",
            "_model_name": "LayoutModel",
            "_view_count": null,
            "_view_module": "@jupyter-widgets/base",
            "_view_module_version": "1.2.0",
            "_view_name": "LayoutView",
            "align_content": null,
            "align_items": null,
            "align_self": null,
            "border": null,
            "bottom": null,
            "display": null,
            "flex": null,
            "flex_flow": null,
            "grid_area": null,
            "grid_auto_columns": null,
            "grid_auto_flow": null,
            "grid_auto_rows": null,
            "grid_column": null,
            "grid_gap": null,
            "grid_row": null,
            "grid_template_areas": null,
            "grid_template_columns": null,
            "grid_template_rows": null,
            "height": null,
            "justify_content": null,
            "justify_items": null,
            "left": null,
            "margin": null,
            "max_height": null,
            "max_width": null,
            "min_height": null,
            "min_width": null,
            "object_fit": null,
            "object_position": null,
            "order": null,
            "overflow": null,
            "overflow_x": null,
            "overflow_y": null,
            "padding": null,
            "right": null,
            "top": null,
            "visibility": null,
            "width": null
          }
        },
        "58d89bc9c75242998914ee1ecb68a0c8": {
          "model_module": "@jupyter-widgets/controls",
          "model_name": "DescriptionStyleModel",
          "model_module_version": "1.5.0",
          "state": {
            "_model_module": "@jupyter-widgets/controls",
            "_model_module_version": "1.5.0",
            "_model_name": "DescriptionStyleModel",
            "_view_count": null,
            "_view_module": "@jupyter-widgets/base",
            "_view_module_version": "1.2.0",
            "_view_name": "StyleView",
            "description_width": ""
          }
        },
        "fdb6359ea3ab4895b4532c148a37a5bc": {
          "model_module": "@jupyter-widgets/controls",
          "model_name": "HBoxModel",
          "model_module_version": "1.5.0",
          "state": {
            "_dom_classes": [],
            "_model_module": "@jupyter-widgets/controls",
            "_model_module_version": "1.5.0",
            "_model_name": "HBoxModel",
            "_view_count": null,
            "_view_module": "@jupyter-widgets/controls",
            "_view_module_version": "1.5.0",
            "_view_name": "HBoxView",
            "box_style": "",
            "children": [
              "IPY_MODEL_3c043e54f97b4694ab79c1bb584eaf8e",
              "IPY_MODEL_a675ab38158a409190376549d55cc2f4",
              "IPY_MODEL_158804cd2608496faf51b85038f02145"
            ],
            "layout": "IPY_MODEL_2f16d254e67f449c876a4b835752a01e"
          }
        },
        "3c043e54f97b4694ab79c1bb584eaf8e": {
          "model_module": "@jupyter-widgets/controls",
          "model_name": "HTMLModel",
          "model_module_version": "1.5.0",
          "state": {
            "_dom_classes": [],
            "_model_module": "@jupyter-widgets/controls",
            "_model_module_version": "1.5.0",
            "_model_name": "HTMLModel",
            "_view_count": null,
            "_view_module": "@jupyter-widgets/controls",
            "_view_module_version": "1.5.0",
            "_view_name": "HTMLView",
            "description": "",
            "description_tooltip": null,
            "layout": "IPY_MODEL_772efcad779b4794afc043dfa064fb34",
            "placeholder": "​",
            "style": "IPY_MODEL_93a96a018c14432dafaebf8291562cce",
            "value": "tokenizer_config.json: 100%"
          }
        },
        "a675ab38158a409190376549d55cc2f4": {
          "model_module": "@jupyter-widgets/controls",
          "model_name": "FloatProgressModel",
          "model_module_version": "1.5.0",
          "state": {
            "_dom_classes": [],
            "_model_module": "@jupyter-widgets/controls",
            "_model_module_version": "1.5.0",
            "_model_name": "FloatProgressModel",
            "_view_count": null,
            "_view_module": "@jupyter-widgets/controls",
            "_view_module_version": "1.5.0",
            "_view_name": "ProgressView",
            "bar_style": "success",
            "description": "",
            "description_tooltip": null,
            "layout": "IPY_MODEL_d0eea89fcd834987979d62a553c2de33",
            "max": 350,
            "min": 0,
            "orientation": "horizontal",
            "style": "IPY_MODEL_e413d7b5a3064a78b529a5780d4a9b6e",
            "value": 350
          }
        },
        "158804cd2608496faf51b85038f02145": {
          "model_module": "@jupyter-widgets/controls",
          "model_name": "HTMLModel",
          "model_module_version": "1.5.0",
          "state": {
            "_dom_classes": [],
            "_model_module": "@jupyter-widgets/controls",
            "_model_module_version": "1.5.0",
            "_model_name": "HTMLModel",
            "_view_count": null,
            "_view_module": "@jupyter-widgets/controls",
            "_view_module_version": "1.5.0",
            "_view_name": "HTMLView",
            "description": "",
            "description_tooltip": null,
            "layout": "IPY_MODEL_a919c73a92004743bd61da73d03f0cb9",
            "placeholder": "​",
            "style": "IPY_MODEL_52a4bf15aed743daa39249f98ba215ee",
            "value": " 350/350 [00:00&lt;00:00, 31.3kB/s]"
          }
        },
        "2f16d254e67f449c876a4b835752a01e": {
          "model_module": "@jupyter-widgets/base",
          "model_name": "LayoutModel",
          "model_module_version": "1.2.0",
          "state": {
            "_model_module": "@jupyter-widgets/base",
            "_model_module_version": "1.2.0",
            "_model_name": "LayoutModel",
            "_view_count": null,
            "_view_module": "@jupyter-widgets/base",
            "_view_module_version": "1.2.0",
            "_view_name": "LayoutView",
            "align_content": null,
            "align_items": null,
            "align_self": null,
            "border": null,
            "bottom": null,
            "display": null,
            "flex": null,
            "flex_flow": null,
            "grid_area": null,
            "grid_auto_columns": null,
            "grid_auto_flow": null,
            "grid_auto_rows": null,
            "grid_column": null,
            "grid_gap": null,
            "grid_row": null,
            "grid_template_areas": null,
            "grid_template_columns": null,
            "grid_template_rows": null,
            "height": null,
            "justify_content": null,
            "justify_items": null,
            "left": null,
            "margin": null,
            "max_height": null,
            "max_width": null,
            "min_height": null,
            "min_width": null,
            "object_fit": null,
            "object_position": null,
            "order": null,
            "overflow": null,
            "overflow_x": null,
            "overflow_y": null,
            "padding": null,
            "right": null,
            "top": null,
            "visibility": null,
            "width": null
          }
        },
        "772efcad779b4794afc043dfa064fb34": {
          "model_module": "@jupyter-widgets/base",
          "model_name": "LayoutModel",
          "model_module_version": "1.2.0",
          "state": {
            "_model_module": "@jupyter-widgets/base",
            "_model_module_version": "1.2.0",
            "_model_name": "LayoutModel",
            "_view_count": null,
            "_view_module": "@jupyter-widgets/base",
            "_view_module_version": "1.2.0",
            "_view_name": "LayoutView",
            "align_content": null,
            "align_items": null,
            "align_self": null,
            "border": null,
            "bottom": null,
            "display": null,
            "flex": null,
            "flex_flow": null,
            "grid_area": null,
            "grid_auto_columns": null,
            "grid_auto_flow": null,
            "grid_auto_rows": null,
            "grid_column": null,
            "grid_gap": null,
            "grid_row": null,
            "grid_template_areas": null,
            "grid_template_columns": null,
            "grid_template_rows": null,
            "height": null,
            "justify_content": null,
            "justify_items": null,
            "left": null,
            "margin": null,
            "max_height": null,
            "max_width": null,
            "min_height": null,
            "min_width": null,
            "object_fit": null,
            "object_position": null,
            "order": null,
            "overflow": null,
            "overflow_x": null,
            "overflow_y": null,
            "padding": null,
            "right": null,
            "top": null,
            "visibility": null,
            "width": null
          }
        },
        "93a96a018c14432dafaebf8291562cce": {
          "model_module": "@jupyter-widgets/controls",
          "model_name": "DescriptionStyleModel",
          "model_module_version": "1.5.0",
          "state": {
            "_model_module": "@jupyter-widgets/controls",
            "_model_module_version": "1.5.0",
            "_model_name": "DescriptionStyleModel",
            "_view_count": null,
            "_view_module": "@jupyter-widgets/base",
            "_view_module_version": "1.2.0",
            "_view_name": "StyleView",
            "description_width": ""
          }
        },
        "d0eea89fcd834987979d62a553c2de33": {
          "model_module": "@jupyter-widgets/base",
          "model_name": "LayoutModel",
          "model_module_version": "1.2.0",
          "state": {
            "_model_module": "@jupyter-widgets/base",
            "_model_module_version": "1.2.0",
            "_model_name": "LayoutModel",
            "_view_count": null,
            "_view_module": "@jupyter-widgets/base",
            "_view_module_version": "1.2.0",
            "_view_name": "LayoutView",
            "align_content": null,
            "align_items": null,
            "align_self": null,
            "border": null,
            "bottom": null,
            "display": null,
            "flex": null,
            "flex_flow": null,
            "grid_area": null,
            "grid_auto_columns": null,
            "grid_auto_flow": null,
            "grid_auto_rows": null,
            "grid_column": null,
            "grid_gap": null,
            "grid_row": null,
            "grid_template_areas": null,
            "grid_template_columns": null,
            "grid_template_rows": null,
            "height": null,
            "justify_content": null,
            "justify_items": null,
            "left": null,
            "margin": null,
            "max_height": null,
            "max_width": null,
            "min_height": null,
            "min_width": null,
            "object_fit": null,
            "object_position": null,
            "order": null,
            "overflow": null,
            "overflow_x": null,
            "overflow_y": null,
            "padding": null,
            "right": null,
            "top": null,
            "visibility": null,
            "width": null
          }
        },
        "e413d7b5a3064a78b529a5780d4a9b6e": {
          "model_module": "@jupyter-widgets/controls",
          "model_name": "ProgressStyleModel",
          "model_module_version": "1.5.0",
          "state": {
            "_model_module": "@jupyter-widgets/controls",
            "_model_module_version": "1.5.0",
            "_model_name": "ProgressStyleModel",
            "_view_count": null,
            "_view_module": "@jupyter-widgets/base",
            "_view_module_version": "1.2.0",
            "_view_name": "StyleView",
            "bar_color": null,
            "description_width": ""
          }
        },
        "a919c73a92004743bd61da73d03f0cb9": {
          "model_module": "@jupyter-widgets/base",
          "model_name": "LayoutModel",
          "model_module_version": "1.2.0",
          "state": {
            "_model_module": "@jupyter-widgets/base",
            "_model_module_version": "1.2.0",
            "_model_name": "LayoutModel",
            "_view_count": null,
            "_view_module": "@jupyter-widgets/base",
            "_view_module_version": "1.2.0",
            "_view_name": "LayoutView",
            "align_content": null,
            "align_items": null,
            "align_self": null,
            "border": null,
            "bottom": null,
            "display": null,
            "flex": null,
            "flex_flow": null,
            "grid_area": null,
            "grid_auto_columns": null,
            "grid_auto_flow": null,
            "grid_auto_rows": null,
            "grid_column": null,
            "grid_gap": null,
            "grid_row": null,
            "grid_template_areas": null,
            "grid_template_columns": null,
            "grid_template_rows": null,
            "height": null,
            "justify_content": null,
            "justify_items": null,
            "left": null,
            "margin": null,
            "max_height": null,
            "max_width": null,
            "min_height": null,
            "min_width": null,
            "object_fit": null,
            "object_position": null,
            "order": null,
            "overflow": null,
            "overflow_x": null,
            "overflow_y": null,
            "padding": null,
            "right": null,
            "top": null,
            "visibility": null,
            "width": null
          }
        },
        "52a4bf15aed743daa39249f98ba215ee": {
          "model_module": "@jupyter-widgets/controls",
          "model_name": "DescriptionStyleModel",
          "model_module_version": "1.5.0",
          "state": {
            "_model_module": "@jupyter-widgets/controls",
            "_model_module_version": "1.5.0",
            "_model_name": "DescriptionStyleModel",
            "_view_count": null,
            "_view_module": "@jupyter-widgets/base",
            "_view_module_version": "1.2.0",
            "_view_name": "StyleView",
            "description_width": ""
          }
        },
        "f6bc8e0643ab4f298cb101cb361f8d09": {
          "model_module": "@jupyter-widgets/controls",
          "model_name": "HBoxModel",
          "model_module_version": "1.5.0",
          "state": {
            "_dom_classes": [],
            "_model_module": "@jupyter-widgets/controls",
            "_model_module_version": "1.5.0",
            "_model_name": "HBoxModel",
            "_view_count": null,
            "_view_module": "@jupyter-widgets/controls",
            "_view_module_version": "1.5.0",
            "_view_name": "HBoxView",
            "box_style": "",
            "children": [
              "IPY_MODEL_6ce656afbb2c49bbb6321e686fc169a0",
              "IPY_MODEL_18f930f5c3b7455fa7eff971cdf88003",
              "IPY_MODEL_b19d47f5671f471bba72d1cbc4dfa7b2"
            ],
            "layout": "IPY_MODEL_4e6aa89c1ba741f5a4c7c3050264c713"
          }
        },
        "6ce656afbb2c49bbb6321e686fc169a0": {
          "model_module": "@jupyter-widgets/controls",
          "model_name": "HTMLModel",
          "model_module_version": "1.5.0",
          "state": {
            "_dom_classes": [],
            "_model_module": "@jupyter-widgets/controls",
            "_model_module_version": "1.5.0",
            "_model_name": "HTMLModel",
            "_view_count": null,
            "_view_module": "@jupyter-widgets/controls",
            "_view_module_version": "1.5.0",
            "_view_name": "HTMLView",
            "description": "",
            "description_tooltip": null,
            "layout": "IPY_MODEL_f950b75da70d4a689cf602e1be2830fb",
            "placeholder": "​",
            "style": "IPY_MODEL_46ba47d66d404df6b871804cb70e590c",
            "value": "vocab.txt: 100%"
          }
        },
        "18f930f5c3b7455fa7eff971cdf88003": {
          "model_module": "@jupyter-widgets/controls",
          "model_name": "FloatProgressModel",
          "model_module_version": "1.5.0",
          "state": {
            "_dom_classes": [],
            "_model_module": "@jupyter-widgets/controls",
            "_model_module_version": "1.5.0",
            "_model_name": "FloatProgressModel",
            "_view_count": null,
            "_view_module": "@jupyter-widgets/controls",
            "_view_module_version": "1.5.0",
            "_view_name": "ProgressView",
            "bar_style": "success",
            "description": "",
            "description_tooltip": null,
            "layout": "IPY_MODEL_b0e040148ab641ffa65942b0d509e9d2",
            "max": 231508,
            "min": 0,
            "orientation": "horizontal",
            "style": "IPY_MODEL_1ef88e4cce0d4489bfa2c0c886560559",
            "value": 231508
          }
        },
        "b19d47f5671f471bba72d1cbc4dfa7b2": {
          "model_module": "@jupyter-widgets/controls",
          "model_name": "HTMLModel",
          "model_module_version": "1.5.0",
          "state": {
            "_dom_classes": [],
            "_model_module": "@jupyter-widgets/controls",
            "_model_module_version": "1.5.0",
            "_model_name": "HTMLModel",
            "_view_count": null,
            "_view_module": "@jupyter-widgets/controls",
            "_view_module_version": "1.5.0",
            "_view_name": "HTMLView",
            "description": "",
            "description_tooltip": null,
            "layout": "IPY_MODEL_4aff34b3d17e4bffb6d926e2b96207d7",
            "placeholder": "​",
            "style": "IPY_MODEL_4f841c8e8c16479495bb70ecc4ea5ab9",
            "value": " 232k/232k [00:00&lt;00:00, 1.29MB/s]"
          }
        },
        "4e6aa89c1ba741f5a4c7c3050264c713": {
          "model_module": "@jupyter-widgets/base",
          "model_name": "LayoutModel",
          "model_module_version": "1.2.0",
          "state": {
            "_model_module": "@jupyter-widgets/base",
            "_model_module_version": "1.2.0",
            "_model_name": "LayoutModel",
            "_view_count": null,
            "_view_module": "@jupyter-widgets/base",
            "_view_module_version": "1.2.0",
            "_view_name": "LayoutView",
            "align_content": null,
            "align_items": null,
            "align_self": null,
            "border": null,
            "bottom": null,
            "display": null,
            "flex": null,
            "flex_flow": null,
            "grid_area": null,
            "grid_auto_columns": null,
            "grid_auto_flow": null,
            "grid_auto_rows": null,
            "grid_column": null,
            "grid_gap": null,
            "grid_row": null,
            "grid_template_areas": null,
            "grid_template_columns": null,
            "grid_template_rows": null,
            "height": null,
            "justify_content": null,
            "justify_items": null,
            "left": null,
            "margin": null,
            "max_height": null,
            "max_width": null,
            "min_height": null,
            "min_width": null,
            "object_fit": null,
            "object_position": null,
            "order": null,
            "overflow": null,
            "overflow_x": null,
            "overflow_y": null,
            "padding": null,
            "right": null,
            "top": null,
            "visibility": null,
            "width": null
          }
        },
        "f950b75da70d4a689cf602e1be2830fb": {
          "model_module": "@jupyter-widgets/base",
          "model_name": "LayoutModel",
          "model_module_version": "1.2.0",
          "state": {
            "_model_module": "@jupyter-widgets/base",
            "_model_module_version": "1.2.0",
            "_model_name": "LayoutModel",
            "_view_count": null,
            "_view_module": "@jupyter-widgets/base",
            "_view_module_version": "1.2.0",
            "_view_name": "LayoutView",
            "align_content": null,
            "align_items": null,
            "align_self": null,
            "border": null,
            "bottom": null,
            "display": null,
            "flex": null,
            "flex_flow": null,
            "grid_area": null,
            "grid_auto_columns": null,
            "grid_auto_flow": null,
            "grid_auto_rows": null,
            "grid_column": null,
            "grid_gap": null,
            "grid_row": null,
            "grid_template_areas": null,
            "grid_template_columns": null,
            "grid_template_rows": null,
            "height": null,
            "justify_content": null,
            "justify_items": null,
            "left": null,
            "margin": null,
            "max_height": null,
            "max_width": null,
            "min_height": null,
            "min_width": null,
            "object_fit": null,
            "object_position": null,
            "order": null,
            "overflow": null,
            "overflow_x": null,
            "overflow_y": null,
            "padding": null,
            "right": null,
            "top": null,
            "visibility": null,
            "width": null
          }
        },
        "46ba47d66d404df6b871804cb70e590c": {
          "model_module": "@jupyter-widgets/controls",
          "model_name": "DescriptionStyleModel",
          "model_module_version": "1.5.0",
          "state": {
            "_model_module": "@jupyter-widgets/controls",
            "_model_module_version": "1.5.0",
            "_model_name": "DescriptionStyleModel",
            "_view_count": null,
            "_view_module": "@jupyter-widgets/base",
            "_view_module_version": "1.2.0",
            "_view_name": "StyleView",
            "description_width": ""
          }
        },
        "b0e040148ab641ffa65942b0d509e9d2": {
          "model_module": "@jupyter-widgets/base",
          "model_name": "LayoutModel",
          "model_module_version": "1.2.0",
          "state": {
            "_model_module": "@jupyter-widgets/base",
            "_model_module_version": "1.2.0",
            "_model_name": "LayoutModel",
            "_view_count": null,
            "_view_module": "@jupyter-widgets/base",
            "_view_module_version": "1.2.0",
            "_view_name": "LayoutView",
            "align_content": null,
            "align_items": null,
            "align_self": null,
            "border": null,
            "bottom": null,
            "display": null,
            "flex": null,
            "flex_flow": null,
            "grid_area": null,
            "grid_auto_columns": null,
            "grid_auto_flow": null,
            "grid_auto_rows": null,
            "grid_column": null,
            "grid_gap": null,
            "grid_row": null,
            "grid_template_areas": null,
            "grid_template_columns": null,
            "grid_template_rows": null,
            "height": null,
            "justify_content": null,
            "justify_items": null,
            "left": null,
            "margin": null,
            "max_height": null,
            "max_width": null,
            "min_height": null,
            "min_width": null,
            "object_fit": null,
            "object_position": null,
            "order": null,
            "overflow": null,
            "overflow_x": null,
            "overflow_y": null,
            "padding": null,
            "right": null,
            "top": null,
            "visibility": null,
            "width": null
          }
        },
        "1ef88e4cce0d4489bfa2c0c886560559": {
          "model_module": "@jupyter-widgets/controls",
          "model_name": "ProgressStyleModel",
          "model_module_version": "1.5.0",
          "state": {
            "_model_module": "@jupyter-widgets/controls",
            "_model_module_version": "1.5.0",
            "_model_name": "ProgressStyleModel",
            "_view_count": null,
            "_view_module": "@jupyter-widgets/base",
            "_view_module_version": "1.2.0",
            "_view_name": "StyleView",
            "bar_color": null,
            "description_width": ""
          }
        },
        "4aff34b3d17e4bffb6d926e2b96207d7": {
          "model_module": "@jupyter-widgets/base",
          "model_name": "LayoutModel",
          "model_module_version": "1.2.0",
          "state": {
            "_model_module": "@jupyter-widgets/base",
            "_model_module_version": "1.2.0",
            "_model_name": "LayoutModel",
            "_view_count": null,
            "_view_module": "@jupyter-widgets/base",
            "_view_module_version": "1.2.0",
            "_view_name": "LayoutView",
            "align_content": null,
            "align_items": null,
            "align_self": null,
            "border": null,
            "bottom": null,
            "display": null,
            "flex": null,
            "flex_flow": null,
            "grid_area": null,
            "grid_auto_columns": null,
            "grid_auto_flow": null,
            "grid_auto_rows": null,
            "grid_column": null,
            "grid_gap": null,
            "grid_row": null,
            "grid_template_areas": null,
            "grid_template_columns": null,
            "grid_template_rows": null,
            "height": null,
            "justify_content": null,
            "justify_items": null,
            "left": null,
            "margin": null,
            "max_height": null,
            "max_width": null,
            "min_height": null,
            "min_width": null,
            "object_fit": null,
            "object_position": null,
            "order": null,
            "overflow": null,
            "overflow_x": null,
            "overflow_y": null,
            "padding": null,
            "right": null,
            "top": null,
            "visibility": null,
            "width": null
          }
        },
        "4f841c8e8c16479495bb70ecc4ea5ab9": {
          "model_module": "@jupyter-widgets/controls",
          "model_name": "DescriptionStyleModel",
          "model_module_version": "1.5.0",
          "state": {
            "_model_module": "@jupyter-widgets/controls",
            "_model_module_version": "1.5.0",
            "_model_name": "DescriptionStyleModel",
            "_view_count": null,
            "_view_module": "@jupyter-widgets/base",
            "_view_module_version": "1.2.0",
            "_view_name": "StyleView",
            "description_width": ""
          }
        },
        "8ee132f432a940de83ce7551c1d3261e": {
          "model_module": "@jupyter-widgets/controls",
          "model_name": "HBoxModel",
          "model_module_version": "1.5.0",
          "state": {
            "_dom_classes": [],
            "_model_module": "@jupyter-widgets/controls",
            "_model_module_version": "1.5.0",
            "_model_name": "HBoxModel",
            "_view_count": null,
            "_view_module": "@jupyter-widgets/controls",
            "_view_module_version": "1.5.0",
            "_view_name": "HBoxView",
            "box_style": "",
            "children": [
              "IPY_MODEL_ccf4745c2c704528b5301b20e41c2209",
              "IPY_MODEL_ddc12a67618c4d41b983198911085708",
              "IPY_MODEL_4c74d8f852fc4d1296e6a855ed77b361"
            ],
            "layout": "IPY_MODEL_a8bbc44b5c304c73817a46f4ace08ccb"
          }
        },
        "ccf4745c2c704528b5301b20e41c2209": {
          "model_module": "@jupyter-widgets/controls",
          "model_name": "HTMLModel",
          "model_module_version": "1.5.0",
          "state": {
            "_dom_classes": [],
            "_model_module": "@jupyter-widgets/controls",
            "_model_module_version": "1.5.0",
            "_model_name": "HTMLModel",
            "_view_count": null,
            "_view_module": "@jupyter-widgets/controls",
            "_view_module_version": "1.5.0",
            "_view_name": "HTMLView",
            "description": "",
            "description_tooltip": null,
            "layout": "IPY_MODEL_2707ea1c7a2348a381ed69a9983128fe",
            "placeholder": "​",
            "style": "IPY_MODEL_4fd650a00d294025897480434f2ded51",
            "value": "tokenizer.json: 100%"
          }
        },
        "ddc12a67618c4d41b983198911085708": {
          "model_module": "@jupyter-widgets/controls",
          "model_name": "FloatProgressModel",
          "model_module_version": "1.5.0",
          "state": {
            "_dom_classes": [],
            "_model_module": "@jupyter-widgets/controls",
            "_model_module_version": "1.5.0",
            "_model_name": "FloatProgressModel",
            "_view_count": null,
            "_view_module": "@jupyter-widgets/controls",
            "_view_module_version": "1.5.0",
            "_view_name": "ProgressView",
            "bar_style": "success",
            "description": "",
            "description_tooltip": null,
            "layout": "IPY_MODEL_3e84023b71c1420183bdbe6c25f32702",
            "max": 466247,
            "min": 0,
            "orientation": "horizontal",
            "style": "IPY_MODEL_7ce39d058ad74083bb46fc9ad01e4979",
            "value": 466247
          }
        },
        "4c74d8f852fc4d1296e6a855ed77b361": {
          "model_module": "@jupyter-widgets/controls",
          "model_name": "HTMLModel",
          "model_module_version": "1.5.0",
          "state": {
            "_dom_classes": [],
            "_model_module": "@jupyter-widgets/controls",
            "_model_module_version": "1.5.0",
            "_model_name": "HTMLModel",
            "_view_count": null,
            "_view_module": "@jupyter-widgets/controls",
            "_view_module_version": "1.5.0",
            "_view_name": "HTMLView",
            "description": "",
            "description_tooltip": null,
            "layout": "IPY_MODEL_9de9e0ce5a6d42cc8486ebd3f62e3710",
            "placeholder": "​",
            "style": "IPY_MODEL_bafc584f3f6d4608852e8066071b4aa1",
            "value": " 466k/466k [00:00&lt;00:00, 1.28MB/s]"
          }
        },
        "a8bbc44b5c304c73817a46f4ace08ccb": {
          "model_module": "@jupyter-widgets/base",
          "model_name": "LayoutModel",
          "model_module_version": "1.2.0",
          "state": {
            "_model_module": "@jupyter-widgets/base",
            "_model_module_version": "1.2.0",
            "_model_name": "LayoutModel",
            "_view_count": null,
            "_view_module": "@jupyter-widgets/base",
            "_view_module_version": "1.2.0",
            "_view_name": "LayoutView",
            "align_content": null,
            "align_items": null,
            "align_self": null,
            "border": null,
            "bottom": null,
            "display": null,
            "flex": null,
            "flex_flow": null,
            "grid_area": null,
            "grid_auto_columns": null,
            "grid_auto_flow": null,
            "grid_auto_rows": null,
            "grid_column": null,
            "grid_gap": null,
            "grid_row": null,
            "grid_template_areas": null,
            "grid_template_columns": null,
            "grid_template_rows": null,
            "height": null,
            "justify_content": null,
            "justify_items": null,
            "left": null,
            "margin": null,
            "max_height": null,
            "max_width": null,
            "min_height": null,
            "min_width": null,
            "object_fit": null,
            "object_position": null,
            "order": null,
            "overflow": null,
            "overflow_x": null,
            "overflow_y": null,
            "padding": null,
            "right": null,
            "top": null,
            "visibility": null,
            "width": null
          }
        },
        "2707ea1c7a2348a381ed69a9983128fe": {
          "model_module": "@jupyter-widgets/base",
          "model_name": "LayoutModel",
          "model_module_version": "1.2.0",
          "state": {
            "_model_module": "@jupyter-widgets/base",
            "_model_module_version": "1.2.0",
            "_model_name": "LayoutModel",
            "_view_count": null,
            "_view_module": "@jupyter-widgets/base",
            "_view_module_version": "1.2.0",
            "_view_name": "LayoutView",
            "align_content": null,
            "align_items": null,
            "align_self": null,
            "border": null,
            "bottom": null,
            "display": null,
            "flex": null,
            "flex_flow": null,
            "grid_area": null,
            "grid_auto_columns": null,
            "grid_auto_flow": null,
            "grid_auto_rows": null,
            "grid_column": null,
            "grid_gap": null,
            "grid_row": null,
            "grid_template_areas": null,
            "grid_template_columns": null,
            "grid_template_rows": null,
            "height": null,
            "justify_content": null,
            "justify_items": null,
            "left": null,
            "margin": null,
            "max_height": null,
            "max_width": null,
            "min_height": null,
            "min_width": null,
            "object_fit": null,
            "object_position": null,
            "order": null,
            "overflow": null,
            "overflow_x": null,
            "overflow_y": null,
            "padding": null,
            "right": null,
            "top": null,
            "visibility": null,
            "width": null
          }
        },
        "4fd650a00d294025897480434f2ded51": {
          "model_module": "@jupyter-widgets/controls",
          "model_name": "DescriptionStyleModel",
          "model_module_version": "1.5.0",
          "state": {
            "_model_module": "@jupyter-widgets/controls",
            "_model_module_version": "1.5.0",
            "_model_name": "DescriptionStyleModel",
            "_view_count": null,
            "_view_module": "@jupyter-widgets/base",
            "_view_module_version": "1.2.0",
            "_view_name": "StyleView",
            "description_width": ""
          }
        },
        "3e84023b71c1420183bdbe6c25f32702": {
          "model_module": "@jupyter-widgets/base",
          "model_name": "LayoutModel",
          "model_module_version": "1.2.0",
          "state": {
            "_model_module": "@jupyter-widgets/base",
            "_model_module_version": "1.2.0",
            "_model_name": "LayoutModel",
            "_view_count": null,
            "_view_module": "@jupyter-widgets/base",
            "_view_module_version": "1.2.0",
            "_view_name": "LayoutView",
            "align_content": null,
            "align_items": null,
            "align_self": null,
            "border": null,
            "bottom": null,
            "display": null,
            "flex": null,
            "flex_flow": null,
            "grid_area": null,
            "grid_auto_columns": null,
            "grid_auto_flow": null,
            "grid_auto_rows": null,
            "grid_column": null,
            "grid_gap": null,
            "grid_row": null,
            "grid_template_areas": null,
            "grid_template_columns": null,
            "grid_template_rows": null,
            "height": null,
            "justify_content": null,
            "justify_items": null,
            "left": null,
            "margin": null,
            "max_height": null,
            "max_width": null,
            "min_height": null,
            "min_width": null,
            "object_fit": null,
            "object_position": null,
            "order": null,
            "overflow": null,
            "overflow_x": null,
            "overflow_y": null,
            "padding": null,
            "right": null,
            "top": null,
            "visibility": null,
            "width": null
          }
        },
        "7ce39d058ad74083bb46fc9ad01e4979": {
          "model_module": "@jupyter-widgets/controls",
          "model_name": "ProgressStyleModel",
          "model_module_version": "1.5.0",
          "state": {
            "_model_module": "@jupyter-widgets/controls",
            "_model_module_version": "1.5.0",
            "_model_name": "ProgressStyleModel",
            "_view_count": null,
            "_view_module": "@jupyter-widgets/base",
            "_view_module_version": "1.2.0",
            "_view_name": "StyleView",
            "bar_color": null,
            "description_width": ""
          }
        },
        "9de9e0ce5a6d42cc8486ebd3f62e3710": {
          "model_module": "@jupyter-widgets/base",
          "model_name": "LayoutModel",
          "model_module_version": "1.2.0",
          "state": {
            "_model_module": "@jupyter-widgets/base",
            "_model_module_version": "1.2.0",
            "_model_name": "LayoutModel",
            "_view_count": null,
            "_view_module": "@jupyter-widgets/base",
            "_view_module_version": "1.2.0",
            "_view_name": "LayoutView",
            "align_content": null,
            "align_items": null,
            "align_self": null,
            "border": null,
            "bottom": null,
            "display": null,
            "flex": null,
            "flex_flow": null,
            "grid_area": null,
            "grid_auto_columns": null,
            "grid_auto_flow": null,
            "grid_auto_rows": null,
            "grid_column": null,
            "grid_gap": null,
            "grid_row": null,
            "grid_template_areas": null,
            "grid_template_columns": null,
            "grid_template_rows": null,
            "height": null,
            "justify_content": null,
            "justify_items": null,
            "left": null,
            "margin": null,
            "max_height": null,
            "max_width": null,
            "min_height": null,
            "min_width": null,
            "object_fit": null,
            "object_position": null,
            "order": null,
            "overflow": null,
            "overflow_x": null,
            "overflow_y": null,
            "padding": null,
            "right": null,
            "top": null,
            "visibility": null,
            "width": null
          }
        },
        "bafc584f3f6d4608852e8066071b4aa1": {
          "model_module": "@jupyter-widgets/controls",
          "model_name": "DescriptionStyleModel",
          "model_module_version": "1.5.0",
          "state": {
            "_model_module": "@jupyter-widgets/controls",
            "_model_module_version": "1.5.0",
            "_model_name": "DescriptionStyleModel",
            "_view_count": null,
            "_view_module": "@jupyter-widgets/base",
            "_view_module_version": "1.2.0",
            "_view_name": "StyleView",
            "description_width": ""
          }
        },
        "0e10d8ccb73145c4a96759e9fe4879fe": {
          "model_module": "@jupyter-widgets/controls",
          "model_name": "HBoxModel",
          "model_module_version": "1.5.0",
          "state": {
            "_dom_classes": [],
            "_model_module": "@jupyter-widgets/controls",
            "_model_module_version": "1.5.0",
            "_model_name": "HBoxModel",
            "_view_count": null,
            "_view_module": "@jupyter-widgets/controls",
            "_view_module_version": "1.5.0",
            "_view_name": "HBoxView",
            "box_style": "",
            "children": [
              "IPY_MODEL_a3876f233db54ebdbca3fe5b0172c2b9",
              "IPY_MODEL_1d7ceb1ab0554196a730ec3b1a85ae7d",
              "IPY_MODEL_be238eae475a461d88e88ff5a162d8ac"
            ],
            "layout": "IPY_MODEL_ef4b9afe8d8d425fb5abd5f3f2f01c2f"
          }
        },
        "a3876f233db54ebdbca3fe5b0172c2b9": {
          "model_module": "@jupyter-widgets/controls",
          "model_name": "HTMLModel",
          "model_module_version": "1.5.0",
          "state": {
            "_dom_classes": [],
            "_model_module": "@jupyter-widgets/controls",
            "_model_module_version": "1.5.0",
            "_model_name": "HTMLModel",
            "_view_count": null,
            "_view_module": "@jupyter-widgets/controls",
            "_view_module_version": "1.5.0",
            "_view_name": "HTMLView",
            "description": "",
            "description_tooltip": null,
            "layout": "IPY_MODEL_9a8d514678494fb7abd65299e6d4d854",
            "placeholder": "​",
            "style": "IPY_MODEL_9d1bfd418df54ddbb353f01fc402b9cb",
            "value": "special_tokens_map.json: 100%"
          }
        },
        "1d7ceb1ab0554196a730ec3b1a85ae7d": {
          "model_module": "@jupyter-widgets/controls",
          "model_name": "FloatProgressModel",
          "model_module_version": "1.5.0",
          "state": {
            "_dom_classes": [],
            "_model_module": "@jupyter-widgets/controls",
            "_model_module_version": "1.5.0",
            "_model_name": "FloatProgressModel",
            "_view_count": null,
            "_view_module": "@jupyter-widgets/controls",
            "_view_module_version": "1.5.0",
            "_view_name": "ProgressView",
            "bar_style": "success",
            "description": "",
            "description_tooltip": null,
            "layout": "IPY_MODEL_0506baa446e84565a730932b020f01cb",
            "max": 112,
            "min": 0,
            "orientation": "horizontal",
            "style": "IPY_MODEL_041e15947b124934b15b0cb0835b1bad",
            "value": 112
          }
        },
        "be238eae475a461d88e88ff5a162d8ac": {
          "model_module": "@jupyter-widgets/controls",
          "model_name": "HTMLModel",
          "model_module_version": "1.5.0",
          "state": {
            "_dom_classes": [],
            "_model_module": "@jupyter-widgets/controls",
            "_model_module_version": "1.5.0",
            "_model_name": "HTMLModel",
            "_view_count": null,
            "_view_module": "@jupyter-widgets/controls",
            "_view_module_version": "1.5.0",
            "_view_name": "HTMLView",
            "description": "",
            "description_tooltip": null,
            "layout": "IPY_MODEL_414aba3040dd473bb506598c2017b5bb",
            "placeholder": "​",
            "style": "IPY_MODEL_fea2520a490c4e78abc48d55dacc4ffb",
            "value": " 112/112 [00:00&lt;00:00, 8.69kB/s]"
          }
        },
        "ef4b9afe8d8d425fb5abd5f3f2f01c2f": {
          "model_module": "@jupyter-widgets/base",
          "model_name": "LayoutModel",
          "model_module_version": "1.2.0",
          "state": {
            "_model_module": "@jupyter-widgets/base",
            "_model_module_version": "1.2.0",
            "_model_name": "LayoutModel",
            "_view_count": null,
            "_view_module": "@jupyter-widgets/base",
            "_view_module_version": "1.2.0",
            "_view_name": "LayoutView",
            "align_content": null,
            "align_items": null,
            "align_self": null,
            "border": null,
            "bottom": null,
            "display": null,
            "flex": null,
            "flex_flow": null,
            "grid_area": null,
            "grid_auto_columns": null,
            "grid_auto_flow": null,
            "grid_auto_rows": null,
            "grid_column": null,
            "grid_gap": null,
            "grid_row": null,
            "grid_template_areas": null,
            "grid_template_columns": null,
            "grid_template_rows": null,
            "height": null,
            "justify_content": null,
            "justify_items": null,
            "left": null,
            "margin": null,
            "max_height": null,
            "max_width": null,
            "min_height": null,
            "min_width": null,
            "object_fit": null,
            "object_position": null,
            "order": null,
            "overflow": null,
            "overflow_x": null,
            "overflow_y": null,
            "padding": null,
            "right": null,
            "top": null,
            "visibility": null,
            "width": null
          }
        },
        "9a8d514678494fb7abd65299e6d4d854": {
          "model_module": "@jupyter-widgets/base",
          "model_name": "LayoutModel",
          "model_module_version": "1.2.0",
          "state": {
            "_model_module": "@jupyter-widgets/base",
            "_model_module_version": "1.2.0",
            "_model_name": "LayoutModel",
            "_view_count": null,
            "_view_module": "@jupyter-widgets/base",
            "_view_module_version": "1.2.0",
            "_view_name": "LayoutView",
            "align_content": null,
            "align_items": null,
            "align_self": null,
            "border": null,
            "bottom": null,
            "display": null,
            "flex": null,
            "flex_flow": null,
            "grid_area": null,
            "grid_auto_columns": null,
            "grid_auto_flow": null,
            "grid_auto_rows": null,
            "grid_column": null,
            "grid_gap": null,
            "grid_row": null,
            "grid_template_areas": null,
            "grid_template_columns": null,
            "grid_template_rows": null,
            "height": null,
            "justify_content": null,
            "justify_items": null,
            "left": null,
            "margin": null,
            "max_height": null,
            "max_width": null,
            "min_height": null,
            "min_width": null,
            "object_fit": null,
            "object_position": null,
            "order": null,
            "overflow": null,
            "overflow_x": null,
            "overflow_y": null,
            "padding": null,
            "right": null,
            "top": null,
            "visibility": null,
            "width": null
          }
        },
        "9d1bfd418df54ddbb353f01fc402b9cb": {
          "model_module": "@jupyter-widgets/controls",
          "model_name": "DescriptionStyleModel",
          "model_module_version": "1.5.0",
          "state": {
            "_model_module": "@jupyter-widgets/controls",
            "_model_module_version": "1.5.0",
            "_model_name": "DescriptionStyleModel",
            "_view_count": null,
            "_view_module": "@jupyter-widgets/base",
            "_view_module_version": "1.2.0",
            "_view_name": "StyleView",
            "description_width": ""
          }
        },
        "0506baa446e84565a730932b020f01cb": {
          "model_module": "@jupyter-widgets/base",
          "model_name": "LayoutModel",
          "model_module_version": "1.2.0",
          "state": {
            "_model_module": "@jupyter-widgets/base",
            "_model_module_version": "1.2.0",
            "_model_name": "LayoutModel",
            "_view_count": null,
            "_view_module": "@jupyter-widgets/base",
            "_view_module_version": "1.2.0",
            "_view_name": "LayoutView",
            "align_content": null,
            "align_items": null,
            "align_self": null,
            "border": null,
            "bottom": null,
            "display": null,
            "flex": null,
            "flex_flow": null,
            "grid_area": null,
            "grid_auto_columns": null,
            "grid_auto_flow": null,
            "grid_auto_rows": null,
            "grid_column": null,
            "grid_gap": null,
            "grid_row": null,
            "grid_template_areas": null,
            "grid_template_columns": null,
            "grid_template_rows": null,
            "height": null,
            "justify_content": null,
            "justify_items": null,
            "left": null,
            "margin": null,
            "max_height": null,
            "max_width": null,
            "min_height": null,
            "min_width": null,
            "object_fit": null,
            "object_position": null,
            "order": null,
            "overflow": null,
            "overflow_x": null,
            "overflow_y": null,
            "padding": null,
            "right": null,
            "top": null,
            "visibility": null,
            "width": null
          }
        },
        "041e15947b124934b15b0cb0835b1bad": {
          "model_module": "@jupyter-widgets/controls",
          "model_name": "ProgressStyleModel",
          "model_module_version": "1.5.0",
          "state": {
            "_model_module": "@jupyter-widgets/controls",
            "_model_module_version": "1.5.0",
            "_model_name": "ProgressStyleModel",
            "_view_count": null,
            "_view_module": "@jupyter-widgets/base",
            "_view_module_version": "1.2.0",
            "_view_name": "StyleView",
            "bar_color": null,
            "description_width": ""
          }
        },
        "414aba3040dd473bb506598c2017b5bb": {
          "model_module": "@jupyter-widgets/base",
          "model_name": "LayoutModel",
          "model_module_version": "1.2.0",
          "state": {
            "_model_module": "@jupyter-widgets/base",
            "_model_module_version": "1.2.0",
            "_model_name": "LayoutModel",
            "_view_count": null,
            "_view_module": "@jupyter-widgets/base",
            "_view_module_version": "1.2.0",
            "_view_name": "LayoutView",
            "align_content": null,
            "align_items": null,
            "align_self": null,
            "border": null,
            "bottom": null,
            "display": null,
            "flex": null,
            "flex_flow": null,
            "grid_area": null,
            "grid_auto_columns": null,
            "grid_auto_flow": null,
            "grid_auto_rows": null,
            "grid_column": null,
            "grid_gap": null,
            "grid_row": null,
            "grid_template_areas": null,
            "grid_template_columns": null,
            "grid_template_rows": null,
            "height": null,
            "justify_content": null,
            "justify_items": null,
            "left": null,
            "margin": null,
            "max_height": null,
            "max_width": null,
            "min_height": null,
            "min_width": null,
            "object_fit": null,
            "object_position": null,
            "order": null,
            "overflow": null,
            "overflow_x": null,
            "overflow_y": null,
            "padding": null,
            "right": null,
            "top": null,
            "visibility": null,
            "width": null
          }
        },
        "fea2520a490c4e78abc48d55dacc4ffb": {
          "model_module": "@jupyter-widgets/controls",
          "model_name": "DescriptionStyleModel",
          "model_module_version": "1.5.0",
          "state": {
            "_model_module": "@jupyter-widgets/controls",
            "_model_module_version": "1.5.0",
            "_model_name": "DescriptionStyleModel",
            "_view_count": null,
            "_view_module": "@jupyter-widgets/base",
            "_view_module_version": "1.2.0",
            "_view_name": "StyleView",
            "description_width": ""
          }
        },
        "8aa610859c8c4505ad0451af8af5f8cc": {
          "model_module": "@jupyter-widgets/controls",
          "model_name": "HBoxModel",
          "model_module_version": "1.5.0",
          "state": {
            "_dom_classes": [],
            "_model_module": "@jupyter-widgets/controls",
            "_model_module_version": "1.5.0",
            "_model_name": "HBoxModel",
            "_view_count": null,
            "_view_module": "@jupyter-widgets/controls",
            "_view_module_version": "1.5.0",
            "_view_name": "HBoxView",
            "box_style": "",
            "children": [
              "IPY_MODEL_7bac213c95d7467d9fc7056915fe185b",
              "IPY_MODEL_357d0ab78da647b9b5ed32e04fb3b9b7",
              "IPY_MODEL_7be7135b38b3493d9ee9d48ceea439a5"
            ],
            "layout": "IPY_MODEL_2ffa686724124302855bd47b2132cfd3"
          }
        },
        "7bac213c95d7467d9fc7056915fe185b": {
          "model_module": "@jupyter-widgets/controls",
          "model_name": "HTMLModel",
          "model_module_version": "1.5.0",
          "state": {
            "_dom_classes": [],
            "_model_module": "@jupyter-widgets/controls",
            "_model_module_version": "1.5.0",
            "_model_name": "HTMLModel",
            "_view_count": null,
            "_view_module": "@jupyter-widgets/controls",
            "_view_module_version": "1.5.0",
            "_view_name": "HTMLView",
            "description": "",
            "description_tooltip": null,
            "layout": "IPY_MODEL_dacc42cbc36b448fa012269a8b3fbac0",
            "placeholder": "​",
            "style": "IPY_MODEL_9efba0a6ce024c5893d2f41349ac9cf9",
            "value": "config.json: 100%"
          }
        },
        "357d0ab78da647b9b5ed32e04fb3b9b7": {
          "model_module": "@jupyter-widgets/controls",
          "model_name": "FloatProgressModel",
          "model_module_version": "1.5.0",
          "state": {
            "_dom_classes": [],
            "_model_module": "@jupyter-widgets/controls",
            "_model_module_version": "1.5.0",
            "_model_name": "FloatProgressModel",
            "_view_count": null,
            "_view_module": "@jupyter-widgets/controls",
            "_view_module_version": "1.5.0",
            "_view_name": "ProgressView",
            "bar_style": "success",
            "description": "",
            "description_tooltip": null,
            "layout": "IPY_MODEL_02da9e85dd7842048814d1401790f6ac",
            "max": 190,
            "min": 0,
            "orientation": "horizontal",
            "style": "IPY_MODEL_5f1a13e1fe6d46679b75c3863e927880",
            "value": 190
          }
        },
        "7be7135b38b3493d9ee9d48ceea439a5": {
          "model_module": "@jupyter-widgets/controls",
          "model_name": "HTMLModel",
          "model_module_version": "1.5.0",
          "state": {
            "_dom_classes": [],
            "_model_module": "@jupyter-widgets/controls",
            "_model_module_version": "1.5.0",
            "_model_name": "HTMLModel",
            "_view_count": null,
            "_view_module": "@jupyter-widgets/controls",
            "_view_module_version": "1.5.0",
            "_view_name": "HTMLView",
            "description": "",
            "description_tooltip": null,
            "layout": "IPY_MODEL_f945c4539bec4850a249b746d314e554",
            "placeholder": "​",
            "style": "IPY_MODEL_efb85f170acd4946b86e4890fd73c891",
            "value": " 190/190 [00:00&lt;00:00, 13.4kB/s]"
          }
        },
        "2ffa686724124302855bd47b2132cfd3": {
          "model_module": "@jupyter-widgets/base",
          "model_name": "LayoutModel",
          "model_module_version": "1.2.0",
          "state": {
            "_model_module": "@jupyter-widgets/base",
            "_model_module_version": "1.2.0",
            "_model_name": "LayoutModel",
            "_view_count": null,
            "_view_module": "@jupyter-widgets/base",
            "_view_module_version": "1.2.0",
            "_view_name": "LayoutView",
            "align_content": null,
            "align_items": null,
            "align_self": null,
            "border": null,
            "bottom": null,
            "display": null,
            "flex": null,
            "flex_flow": null,
            "grid_area": null,
            "grid_auto_columns": null,
            "grid_auto_flow": null,
            "grid_auto_rows": null,
            "grid_column": null,
            "grid_gap": null,
            "grid_row": null,
            "grid_template_areas": null,
            "grid_template_columns": null,
            "grid_template_rows": null,
            "height": null,
            "justify_content": null,
            "justify_items": null,
            "left": null,
            "margin": null,
            "max_height": null,
            "max_width": null,
            "min_height": null,
            "min_width": null,
            "object_fit": null,
            "object_position": null,
            "order": null,
            "overflow": null,
            "overflow_x": null,
            "overflow_y": null,
            "padding": null,
            "right": null,
            "top": null,
            "visibility": null,
            "width": null
          }
        },
        "dacc42cbc36b448fa012269a8b3fbac0": {
          "model_module": "@jupyter-widgets/base",
          "model_name": "LayoutModel",
          "model_module_version": "1.2.0",
          "state": {
            "_model_module": "@jupyter-widgets/base",
            "_model_module_version": "1.2.0",
            "_model_name": "LayoutModel",
            "_view_count": null,
            "_view_module": "@jupyter-widgets/base",
            "_view_module_version": "1.2.0",
            "_view_name": "LayoutView",
            "align_content": null,
            "align_items": null,
            "align_self": null,
            "border": null,
            "bottom": null,
            "display": null,
            "flex": null,
            "flex_flow": null,
            "grid_area": null,
            "grid_auto_columns": null,
            "grid_auto_flow": null,
            "grid_auto_rows": null,
            "grid_column": null,
            "grid_gap": null,
            "grid_row": null,
            "grid_template_areas": null,
            "grid_template_columns": null,
            "grid_template_rows": null,
            "height": null,
            "justify_content": null,
            "justify_items": null,
            "left": null,
            "margin": null,
            "max_height": null,
            "max_width": null,
            "min_height": null,
            "min_width": null,
            "object_fit": null,
            "object_position": null,
            "order": null,
            "overflow": null,
            "overflow_x": null,
            "overflow_y": null,
            "padding": null,
            "right": null,
            "top": null,
            "visibility": null,
            "width": null
          }
        },
        "9efba0a6ce024c5893d2f41349ac9cf9": {
          "model_module": "@jupyter-widgets/controls",
          "model_name": "DescriptionStyleModel",
          "model_module_version": "1.5.0",
          "state": {
            "_model_module": "@jupyter-widgets/controls",
            "_model_module_version": "1.5.0",
            "_model_name": "DescriptionStyleModel",
            "_view_count": null,
            "_view_module": "@jupyter-widgets/base",
            "_view_module_version": "1.2.0",
            "_view_name": "StyleView",
            "description_width": ""
          }
        },
        "02da9e85dd7842048814d1401790f6ac": {
          "model_module": "@jupyter-widgets/base",
          "model_name": "LayoutModel",
          "model_module_version": "1.2.0",
          "state": {
            "_model_module": "@jupyter-widgets/base",
            "_model_module_version": "1.2.0",
            "_model_name": "LayoutModel",
            "_view_count": null,
            "_view_module": "@jupyter-widgets/base",
            "_view_module_version": "1.2.0",
            "_view_name": "LayoutView",
            "align_content": null,
            "align_items": null,
            "align_self": null,
            "border": null,
            "bottom": null,
            "display": null,
            "flex": null,
            "flex_flow": null,
            "grid_area": null,
            "grid_auto_columns": null,
            "grid_auto_flow": null,
            "grid_auto_rows": null,
            "grid_column": null,
            "grid_gap": null,
            "grid_row": null,
            "grid_template_areas": null,
            "grid_template_columns": null,
            "grid_template_rows": null,
            "height": null,
            "justify_content": null,
            "justify_items": null,
            "left": null,
            "margin": null,
            "max_height": null,
            "max_width": null,
            "min_height": null,
            "min_width": null,
            "object_fit": null,
            "object_position": null,
            "order": null,
            "overflow": null,
            "overflow_x": null,
            "overflow_y": null,
            "padding": null,
            "right": null,
            "top": null,
            "visibility": null,
            "width": null
          }
        },
        "5f1a13e1fe6d46679b75c3863e927880": {
          "model_module": "@jupyter-widgets/controls",
          "model_name": "ProgressStyleModel",
          "model_module_version": "1.5.0",
          "state": {
            "_model_module": "@jupyter-widgets/controls",
            "_model_module_version": "1.5.0",
            "_model_name": "ProgressStyleModel",
            "_view_count": null,
            "_view_module": "@jupyter-widgets/base",
            "_view_module_version": "1.2.0",
            "_view_name": "StyleView",
            "bar_color": null,
            "description_width": ""
          }
        },
        "f945c4539bec4850a249b746d314e554": {
          "model_module": "@jupyter-widgets/base",
          "model_name": "LayoutModel",
          "model_module_version": "1.2.0",
          "state": {
            "_model_module": "@jupyter-widgets/base",
            "_model_module_version": "1.2.0",
            "_model_name": "LayoutModel",
            "_view_count": null,
            "_view_module": "@jupyter-widgets/base",
            "_view_module_version": "1.2.0",
            "_view_name": "LayoutView",
            "align_content": null,
            "align_items": null,
            "align_self": null,
            "border": null,
            "bottom": null,
            "display": null,
            "flex": null,
            "flex_flow": null,
            "grid_area": null,
            "grid_auto_columns": null,
            "grid_auto_flow": null,
            "grid_auto_rows": null,
            "grid_column": null,
            "grid_gap": null,
            "grid_row": null,
            "grid_template_areas": null,
            "grid_template_columns": null,
            "grid_template_rows": null,
            "height": null,
            "justify_content": null,
            "justify_items": null,
            "left": null,
            "margin": null,
            "max_height": null,
            "max_width": null,
            "min_height": null,
            "min_width": null,
            "object_fit": null,
            "object_position": null,
            "order": null,
            "overflow": null,
            "overflow_x": null,
            "overflow_y": null,
            "padding": null,
            "right": null,
            "top": null,
            "visibility": null,
            "width": null
          }
        },
        "efb85f170acd4946b86e4890fd73c891": {
          "model_module": "@jupyter-widgets/controls",
          "model_name": "DescriptionStyleModel",
          "model_module_version": "1.5.0",
          "state": {
            "_model_module": "@jupyter-widgets/controls",
            "_model_module_version": "1.5.0",
            "_model_name": "DescriptionStyleModel",
            "_view_count": null,
            "_view_module": "@jupyter-widgets/base",
            "_view_module_version": "1.2.0",
            "_view_name": "StyleView",
            "description_width": ""
          }
        }
      }
    }
  },
  "nbformat": 4,
  "nbformat_minor": 0
}